{
 "cells": [
  {
   "cell_type": "markdown",
   "metadata": {},
   "source": [
    "# Memory-Optimized Advanced Feature Engineering for HAI-21.03 Dataset\n",
    "\n",
    "This notebook implements improved feature engineering techniques for the HAI-21.03 industrial control system security dataset with memory optimization to prevent system crashes."
   ]
  },
  {
   "cell_type": "code",
   "execution_count": 8,
   "metadata": {},
   "outputs": [],
   "source": [
    "# Import required libraries\n",
    "import os\n",
    "import glob\n",
    "import pandas as pd\n",
    "import numpy as np\n",
    "import matplotlib.pyplot as plt\n",
    "import seaborn as sns\n",
    "import networkx as nx\n",
    "from tqdm import tqdm\n",
    "import gc\n",
    "import psutil\n",
    "import warnings\n",
    "warnings.filterwarnings('ignore')\n",
    "\n",
    "# Set plot style\n",
    "plt.style.use('ggplot')\n",
    "sns.set(style=\"darkgrid\")\n",
    "\n",
    "# Set random seeds for reproducibility\n",
    "np.random.seed(42)"
   ]
  },
  {
   "cell_type": "markdown",
   "metadata": {},
   "source": [
    "## 1. Memory Monitoring Functions"
   ]
  },
  {
   "cell_type": "code",
   "execution_count": 9,
   "metadata": {},
   "outputs": [],
   "source": [
    "def get_memory_usage():\n",
    "    \"\"\"Get current memory usage in MB.\"\"\"\n",
    "    process = psutil.Process(os.getpid())\n",
    "    mem_info = process.memory_info()\n",
    "    return mem_info.rss / 1024 / 1024  # Convert to MB\n",
    "\n",
    "def print_memory_usage(label=\"Current\"):\n",
    "    \"\"\"Print current memory usage with a label.\"\"\"\n",
    "    memory_mb = get_memory_usage()\n",
    "    print(f\"{label} Memory Usage: {memory_mb:.2f} MB\")\n",
    "    return memory_mb\n",
    "\n",
    "def clean_memory():\n",
    "    \"\"\"Force garbage collection to free memory.\"\"\"\n",
    "    before = get_memory_usage()\n",
    "    gc.collect()\n",
    "    after = get_memory_usage()\n",
    "    print(f\"Memory cleaned: {before-after:.2f} MB freed\")"
   ]
  },
  {
   "cell_type": "markdown",
   "metadata": {},
   "source": [
    "## 2. Global Variables Setup"
   ]
  },
  {
   "cell_type": "code",
   "execution_count": 10,
   "metadata": {},
   "outputs": [],
   "source": [
    "# Set paths\n",
    "DATA_DIR = '../hai-security-dataset/hai-21.03'\n",
    "OUTPUT_DIR = '../hai-security-dataset/processed'\n",
    "\n",
    "# Create output directory if it doesn't exist\n",
    "os.makedirs(OUTPUT_DIR, exist_ok=True)\n",
    "\n",
    "# Set parameters\n",
    "CORRELATION_THRESHOLD = 0.7  # Graph edge correlation threshold\n",
    "CHUNK_SIZE = 10000          # Process data in chunks to reduce memory usage\n",
    "MAX_FEATURES_PER_COLUMN = 5  # Limit number of features generated per column"
   ]
  },
  {
   "cell_type": "markdown",
   "metadata": {},
   "source": [
    "## 3. Memory-Efficient Data Loader"
   ]
  },
  {
   "cell_type": "code",
   "execution_count": 11,
   "metadata": {},
   "outputs": [],
   "source": [
    "class MemoryEfficientHAIDataLoader:\n",
    "    def __init__(self, data_dir):\n",
    "        self.data_dir = data_dir\n",
    "        self.train_files = glob.glob(os.path.join(data_dir, 'train*.csv'))\n",
    "        self.test_files = glob.glob(os.path.join(data_dir, 'test*.csv'))\n",
    "        \n",
    "        print(f\"Found {len(self.train_files)} train files and {len(self.test_files)} test files\")\n",
    "    \n",
    "    def _preprocess_dataframe(self, df):\n",
    "        # Convert column names to lowercase for consistency\n",
    "        df.columns = [col.lower() for col in df.columns]\n",
    "        \n",
    "        # Handle missing values\n",
    "        df = df.fillna(method='ffill').fillna(method='bfill')\n",
    "        \n",
    "        # Ensure attack column exists (it might not in training data)\n",
    "        if 'attack' not in df.columns:\n",
    "            df['attack'] = 0\n",
    "        \n",
    "        return df\n",
    "    \n",
    "    def load_file(self, file_path):\n",
    "        \"\"\"Load a single file with memory optimization.\"\"\"\n",
    "        print(f\"Loading {os.path.basename(file_path)}...\")\n",
    "        \n",
    "        # Get file size\n",
    "        file_size_mb = os.path.getsize(file_path) / (1024 * 1024)\n",
    "        print(f\"File size: {file_size_mb:.2f} MB\")\n",
    "        \n",
    "        # For large files, use chunking\n",
    "        if file_size_mb > 100:  # If file is larger than 100MB\n",
    "            print(f\"Large file detected, using chunked reading\")\n",
    "            chunks = []\n",
    "            for chunk in pd.read_csv(file_path, chunksize=CHUNK_SIZE):\n",
    "                chunks.append(self._preprocess_dataframe(chunk))\n",
    "                # Print memory usage periodically\n",
    "                if len(chunks) % 10 == 0:\n",
    "                    print_memory_usage(f\"After reading {len(chunks)} chunks\")\n",
    "            \n",
    "            # Concatenate chunks\n",
    "            df = pd.concat(chunks)\n",
    "            # Clear chunks to free memory\n",
    "            del chunks\n",
    "            gc.collect()\n",
    "        else:\n",
    "            # For smaller files, read directly\n",
    "            df = pd.read_csv(file_path)\n",
    "            df = self._preprocess_dataframe(df)\n",
    "        \n",
    "        print(f\"Loaded {os.path.basename(file_path)}: {df.shape[0]} rows, {df.shape[1]} columns\")\n",
    "        print_memory_usage(\"After loading\")\n",
    "        \n",
    "        return df\n",
    "    \n",
    "    def load_train_data(self):\n",
    "        \"\"\"Load training data one file at a time to manage memory.\"\"\"\n",
    "        train_data = {}\n",
    "        \n",
    "        for file in self.train_files:\n",
    "            file_name = os.path.basename(file).split('.')[0]\n",
    "            train_data[file_name] = self.load_file(file)\n",
    "            # Force garbage collection after each file\n",
    "            clean_memory()\n",
    "        \n",
    "        return train_data\n",
    "    \n",
    "    def load_test_data(self):\n",
    "        \"\"\"Load test data one file at a time to manage memory.\"\"\"\n",
    "        test_data = {}\n",
    "        \n",
    "        for file in self.test_files:\n",
    "            file_name = os.path.basename(file).split('.')[0]\n",
    "            test_data[file_name] = self.load_file(file)\n",
    "            # Force garbage collection after each file\n",
    "            clean_memory()\n",
    "        \n",
    "        return test_data\n",
    "    \n",
    "    def get_feature_columns(self, df):\n",
    "        \"\"\"Get feature columns excluding time and attack columns.\"\"\"\n",
    "        feature_cols = [col for col in df.columns \n",
    "                       if not col.startswith('time') and not col.startswith('attack')]\n",
    "        \n",
    "        return feature_cols"
   ]
  },
  {
   "cell_type": "code",
   "execution_count": 12,
   "metadata": {},
   "outputs": [
    {
     "name": "stdout",
     "output_type": "stream",
     "text": [
      "Initial Memory Usage: 218.11 MB\n",
      "Found 3 train files and 5 test files\n",
      "Loading train1.csv...\n",
      "File size: 112.50 MB\n",
      "Large file detected, using chunked reading\n",
      "After reading 10 chunks Memory Usage: 295.39 MB\n",
      "After reading 20 chunks Memory Usage: 365.42 MB\n",
      "Loaded train1.csv: 216001 rows, 84 columns\n",
      "After loading Memory Usage: 378.43 MB\n",
      "Memory cleaned: 0.00 MB freed\n",
      "Loading train2.csv...\n",
      "File size: 117.68 MB\n",
      "Large file detected, using chunked reading\n",
      "After reading 10 chunks Memory Usage: 448.14 MB\n",
      "After reading 20 chunks Memory Usage: 517.65 MB\n",
      "Loaded train2.csv: 226801 rows, 84 columns\n",
      "After loading Memory Usage: 533.21 MB\n",
      "Memory cleaned: 0.00 MB freed\n",
      "Loading train3.csv...\n",
      "File size: 249.65 MB\n",
      "Large file detected, using chunked reading\n",
      "After reading 10 chunks Memory Usage: 607.18 MB\n",
      "After reading 20 chunks Memory Usage: 677.23 MB\n",
      "After reading 30 chunks Memory Usage: 747.62 MB\n",
      "After reading 40 chunks Memory Usage: 817.84 MB\n",
      "Loaded train3.csv: 478801 rows, 84 columns\n",
      "After loading Memory Usage: 872.94 MB\n",
      "Memory cleaned: 0.00 MB freed\n",
      "After loading training data Memory Usage: 867.36 MB\n"
     ]
    },
    {
     "data": {
      "text/plain": [
       "867.359375"
      ]
     },
     "execution_count": 12,
     "metadata": {},
     "output_type": "execute_result"
    }
   ],
   "source": [
    "# Initialize data loader\n",
    "print_memory_usage(\"Initial\")\n",
    "data_loader = MemoryEfficientHAIDataLoader(DATA_DIR)\n",
    "\n",
    "# Load training data\n",
    "train_data = data_loader.load_train_data()\n",
    "print_memory_usage(\"After loading training data\")"
   ]
  },
  {
   "cell_type": "markdown",
   "metadata": {},
   "source": [
    "## 4. Memory-Efficient Graph Creation"
   ]
  },
  {
   "cell_type": "code",
   "execution_count": 13,
   "metadata": {},
   "outputs": [],
   "source": [
    "def create_memory_efficient_graph(train_data, correlation_threshold=0.7, sample_size=10000):\n",
    "    \"\"\"\n",
    "    Create a graph structure based on column names and their correlations with memory optimization.\n",
    "    \n",
    "    Args:\n",
    "        train_data (dict): Dictionary of training dataframes\n",
    "        correlation_threshold (float): Threshold for adding edges between components\n",
    "        sample_size (int): Number of rows to sample for correlation calculation\n",
    "        \n",
    "    Returns:\n",
    "        nx.Graph: NetworkX graph representing the system\n",
    "    \"\"\"\n",
    "    print_memory_usage(\"Before graph creation\")\n",
    "    G = nx.Graph()\n",
    "    \n",
    "    # Get first dataframe to extract columns\n",
    "    first_df = list(train_data.values())[0]\n",
    "    cols = [col for col in first_df.columns if not col.startswith('time') and not col.startswith('attack')]\n",
    "    \n",
    "    # Identify subsystems from column names\n",
    "    subsystems = set()\n",
    "    for col in cols:\n",
    "        parts = col.split('_')\n",
    "        if len(parts) >= 2:\n",
    "            subsystems.add(parts[0])\n",
    "    \n",
    "    print(f\"Identified subsystems: {subsystems}\")\n",
    "    \n",
    "    # Add nodes for each subsystem\n",
    "    for subsystem in subsystems:\n",
    "        G.add_node(subsystem, type='subsystem')\n",
    "    \n",
    "    # Add nodes for each sensor/actuator\n",
    "    for col in cols:\n",
    "        parts = col.split('_')\n",
    "        if len(parts) >= 2:\n",
    "            subsystem = parts[0]\n",
    "            component = '_'.join(parts[1:])\n",
    "            \n",
    "            # Add node for component\n",
    "            G.add_node(col, type='component', subsystem=subsystem)\n",
    "            \n",
    "            # Add edge between component and its subsystem\n",
    "            G.add_edge(subsystem, col, weight=1.0)\n",
    "    \n",
    "    # Calculate correlations in chunks to save memory\n",
    "    print(\"Calculating correlations in chunks...\")\n",
    "    \n",
    "    # Sample data for correlation calculation\n",
    "    sampled_data = {}\n",
    "    for name, df in train_data.items():\n",
    "        if len(df) > sample_size:\n",
    "            sampled_data[name] = df.sample(sample_size, random_state=42)\n",
    "        else:\n",
    "            sampled_data[name] = df\n",
    "    \n",
    "    # Merge sampled data\n",
    "    merged_df = pd.concat(list(sampled_data.values()), axis=0)\n",
    "    print(f\"Using {len(merged_df)} rows for correlation calculation\")\n",
    "    \n",
    "    # Clear sampled_data to free memory\n",
    "    del sampled_data\n",
    "    clean_memory()\n",
    "    \n",
    "    # Calculate correlations in batches\n",
    "    batch_size = 50  # Process 50 columns at a time\n",
    "    edge_count = 0\n",
    "    \n",
    "    for i in range(0, len(cols), batch_size):\n",
    "        batch_cols = cols[i:i+batch_size]\n",
    "        print(f\"Processing correlation batch {i//batch_size + 1}/{(len(cols)+batch_size-1)//batch_size}\")\n",
    "        \n",
    "        # Calculate correlation matrix for this batch\n",
    "        corr_matrix = merged_df[batch_cols].corr().abs()\n",
    "        \n",
    "        # Add edges based on correlations\n",
    "        for col1 in batch_cols:\n",
    "            for col2 in cols:\n",
    "                if col1 < col2 and col2 in corr_matrix.columns:\n",
    "                    corr_value = corr_matrix.loc[col1, col2]\n",
    "                    if corr_value > correlation_threshold:\n",
    "                        G.add_edge(col1, col2, weight=corr_value)\n",
    "                        edge_count += 1\n",
    "        \n",
    "        # Clear correlation matrix to free memory\n",
    "        del corr_matrix\n",
    "        clean_memory()\n",
    "    \n",
    "    print(f\"Added {edge_count} correlation-based edges\")\n",
    "    \n",
    "    # Add edges between subsystems based on component connections\n",
    "    subsystem_connections = {}\n",
    "    for subsys1 in subsystems:\n",
    "        for subsys2 in subsystems:\n",
    "            if subsys1 < subsys2:\n",
    "                subsystem_connections[(subsys1, subsys2)] = 0\n",
    "    \n",
    "    # Process edges in batches to save memory\n",
    "    edges = list(G.edges())\n",
    "    for i in range(0, len(edges), 1000):\n",
    "        batch_edges = edges[i:i+1000]\n",
    "        for u, v in batch_edges:\n",
    "            if G.nodes[u].get('type') == 'component' and G.nodes[v].get('type') == 'component':\n",
    "                subsys_u = G.nodes[u].get('subsystem')\n",
    "                subsys_v = G.nodes[v].get('subsystem')\n",
    "                if subsys_u and subsys_v and subsys_u != subsys_v:\n",
    "                    key = (min(subsys_u, subsys_v), max(subsys_u, subsys_v))\n",
    "                    subsystem_connections[key] = subsystem_connections.get(key, 0) + 1\n",
    "    \n",
    "    # Add edges between subsystems\n",
    "    for (subsys1, subsys2), count in subsystem_connections.items():\n",
    "        if count > 0:\n",
    "            G.add_edge(subsys1, subsys2, weight=count, type='subsystem_connection')\n",
    "            print(f\"Added edge between subsystems {subsys1} and {subsys2} with weight {count}\")\n",
    "    \n",
    "    print_memory_usage(\"After graph creation\")\n",
    "    return G"
   ]
  },
  {
   "cell_type": "code",
   "execution_count": 14,
   "metadata": {},
   "outputs": [
    {
     "name": "stdout",
     "output_type": "stream",
     "text": [
      "Before graph creation Memory Usage: 867.45 MB\n",
      "Identified subsystems: {'p2', 'p3', 'p4', 'p1'}\n",
      "Calculating correlations in chunks...\n",
      "Using 30000 rows for correlation calculation\n",
      "Memory cleaned: 0.00 MB freed\n",
      "Processing correlation batch 1/2\n",
      "Memory cleaned: 0.00 MB freed\n",
      "Processing correlation batch 2/2\n",
      "Memory cleaned: 0.00 MB freed\n",
      "Added 96 correlation-based edges\n",
      "Added edge between subsystems p3 and p4 with weight 5\n",
      "After graph creation Memory Usage: 890.89 MB\n",
      "Number of nodes: 83\n",
      "Number of edges: 176\n",
      "\n",
      "Node types:\n",
      "  subsystem: 4\n",
      "  component: 79\n"
     ]
    }
   ],
   "source": [
    "# Create graph with memory optimization\n",
    "G = create_memory_efficient_graph(train_data, CORRELATION_THRESHOLD)\n",
    "\n",
    "# Print graph statistics\n",
    "print(f\"Number of nodes: {G.number_of_nodes()}\")\n",
    "print(f\"Number of edges: {G.number_of_edges()}\")\n",
    "\n",
    "# Count node types\n",
    "node_types_count = {}\n",
    "for _, data in G.nodes(data=True):\n",
    "    if 'type' in data:\n",
    "        node_type = data['type']\n",
    "        if node_type not in node_types_count:\n",
    "            node_types_count[node_type] = 0\n",
    "        node_types_count[node_type] += 1\n",
    "\n",
    "print(\"\\nNode types:\")\n",
    "for node_type, count in node_types_count.items():\n",
    "    print(f\"  {node_type}: {count}\")"
   ]
  },
  {
   "cell_type": "code",
   "execution_count": 15,
   "metadata": {},
   "outputs": [
    {
     "name": "stdout",
     "output_type": "stream",
     "text": [
      "Showing subgraph with 30 nodes and 111 edges\n"
     ]
    },
    {
     "data": {
      "image/png": "[encoded data removed]",
      "text/plain": [
       "<Figure size 1200x1000 with 1 Axes>"
      ]
     },
     "metadata": {},
     "output_type": "display_data"
    }
   ],
   "source": [
    "# Visualize a subset of the graph to save memory\n",
    "def visualize_graph_subset(G, max_nodes=30):\n",
    "    \"\"\"\n",
    "    Visualize a subset of the graph to save memory.\n",
    "    \n",
    "    Args:\n",
    "        G (nx.Graph): NetworkX graph\n",
    "        max_nodes (int): Maximum number of nodes to display\n",
    "    \"\"\"\n",
    "    # Get the most connected nodes\n",
    "    degrees = dict(G.degree())\n",
    "    top_nodes = sorted(degrees, key=degrees.get, reverse=True)[:max_nodes]\n",
    "    G_sub = G.subgraph(top_nodes)\n",
    "    print(f\"Showing subgraph with {G_sub.number_of_nodes()} nodes and {G_sub.number_of_edges()} edges\")\n",
    "    \n",
    "    plt.figure(figsize=(12, 10))\n",
    "    \n",
    "    # Set node colors based on type\n",
    "    node_colors = []\n",
    "    node_sizes = []\n",
    "    for node in G_sub.nodes():\n",
    "        node_type = G_sub.nodes[node].get('type', 'unknown')\n",
    "        if node_type == 'subsystem':\n",
    "            node_colors.append('red')\n",
    "            node_sizes.append(500)\n",
    "        elif node_type == 'component':\n",
    "            node_colors.append('blue')\n",
    "            node_sizes.append(300)\n",
    "        else:\n",
    "            node_colors.append('gray')\n",
    "            node_sizes.append(300)\n",
    "    \n",
    "    # Set edge widths and colors based on type and weight\n",
    "    edge_widths = []\n",
    "    edge_colors = []\n",
    "    for u, v, data in G_sub.edges(data=True):\n",
    "        if data.get('type') == 'subsystem_connection':\n",
    "            edge_colors.append('red')\n",
    "            edge_widths.append(data.get('weight', 1.0) * 0.5)\n",
    "        else:\n",
    "            edge_colors.append('gray')\n",
    "            edge_widths.append(data.get('weight', 1.0) * 2)\n",
    "    \n",
    "    # Draw the graph\n",
    "    pos = nx.spring_layout(G_sub, seed=42)\n",
    "    nx.draw_networkx_nodes(G_sub, pos, node_color=node_colors, node_size=node_sizes, alpha=0.8)\n",
    "    nx.draw_networkx_edges(G_sub, pos, width=edge_widths, edge_color=edge_colors, alpha=0.5)\n",
    "    nx.draw_networkx_labels(G_sub, pos, font_size=8)\n",
    "    \n",
    "    plt.title(\"HAI Dataset Component Relationship Graph (Subset)\")\n",
    "    plt.axis('off')\n",
    "    plt.tight_layout()\n",
    "    plt.show()\n",
    "\n",
    "# Visualize graph subset\n",
    "visualize_graph_subset(G)"
   ]
  },
  {
   "cell_type": "markdown",
   "metadata": {},
   "source": [
    "## 5. Memory-Efficient Feature Engineering"
   ]
  },
  {
   "cell_type": "code",
   "execution_count": 16,
   "metadata": {},
   "outputs": [],
   "source": [
    "def extract_time_series_features_chunked(df, window_sizes=[10, 30], chunk_size=10000):\n",
    "    \"\"\"\n",
    "    Extract time series features in chunks to save memory.\n",
    "    \n",
    "    Args:\n",
    "        df (pd.DataFrame): Input dataframe\n",
    "        window_sizes (list): List of window sizes for rolling features\n",
    "        chunk_size (int): Size of chunks to process\n",
    "        \n",
    "    Returns:\n",
    "        pd.DataFrame: DataFrame with additional time series features\n",
    "    \"\"\"\n",
    "    print_memory_usage(\"Before time series feature extraction\")\n",
    "    \n",
    "    # Extract columns excluding time and attack columns\n",
    "    cols = [col for col in df.columns if not col.startswith('time') and not col.startswith('attack')]\n",
    "    \n",
    "    # Select a subset of columns to reduce memory usage\n",
    "    if len(cols) > 50:\n",
    "        print(f\"Too many columns ({len(cols)}), selecting top 50 by variance\")\n",
    "        variances = df[cols].var().sort_values(ascending=False)\n",
    "        cols = variances.index[:50].tolist()\n",
    "    \n",
    "    # Initialize result dataframe with original columns\n",
    "    result_df = df.copy()\n",
    "    \n",
    "    # Process each window size\n",
    "    for window in window_sizes:\n",
    "        print(f\"Processing window size {window}...\")\n",
    "        \n",
    "        # Process each column\n",
    "        for col in tqdm(cols, desc=f\"Adding rolling features (window={window})\"):\n",
    "            # Limit features per column to save memory\n",
    "            features_added = 0\n",
    "            \n",
    "            # Add rolling mean\n",
    "            if features_added < MAX_FEATURES_PER_COLUMN:\n",
    "                result_df[f\"{col}_rolling_{window}_mean\"] = df[col].rolling(window=window).mean()\n",
    "                features_added += 1\n",
    "            \n",
    "            # Add rolling std\n",
    "            if features_added < MAX_FEATURES_PER_COLUMN:\n",
    "                result_df[f\"{col}_rolling_{window}_std\"] = df[col].rolling(window=window).std()\n",
    "                features_added += 1\n",
    "            \n",
    "            # Add rolling min\n",
    "            if features_added < MAX_FEATURES_PER_COLUMN:\n",
    "                result_df[f\"{col}_rolling_{window}_min\"] = df[col].rolling(window=window).min()\n",
    "                features_added += 1\n",
    "            \n",
    "            # Add rolling max\n",
    "            if features_added < MAX_FEATURES_PER_COLUMN:\n",
    "                result_df[f\"{col}_rolling_{window}_max\"] = df[col].rolling(window=window).max()\n",
    "                features_added += 1\n",
    "            \n",
    "            # Add trend feature\n",
    "            if features_added < MAX_FEATURES_PER_COLUMN:\n",
    "                roll_mean = df[col].rolling(window=window).mean()\n",
    "                result_df[f\"{col}_rolling_{window}_trend\"] = roll_mean.diff()\n",
    "                features_added += 1\n",
    "        \n",
    "        # Force garbage collection after each window\n",
    "        clean_memory()\n",
    "    \n",
    "    # Add lag features (limited to save memory)\n",
    "    lag_values = [1, 5]\n",
    "    for lag in lag_values:\n",
    "        print(f\"Adding lag features (lag={lag})...\")\n",
    "        for col in tqdm(cols[:20], desc=f\"Adding lag features (lag={lag})\"):  # Limit to 20 columns\n",
    "            result_df[f\"{col}_lag_{lag}\"] = df[col].shift(lag)\n",
    "    \n",
    "    # Fill NaN values\n",
    "    result_df = result_df.fillna(method='bfill').fillna(method='ffill')\n",
    "    \n",
    "    print_memory_usage(\"After time series feature extraction\")\n",
    "    return result_df"
   ]
  },
  {
   "cell_type": "code",
   "execution_count": 17,
   "metadata": {},
   "outputs": [],
   "source": [
    "def add_graph_based_features_chunked(df, G, chunk_size=10000):\n",
    "    \"\"\"\n",
    "    Add graph-based features in chunks to save memory.\n",
    "    \n",
    "    Args:\n",
    "        df (pd.DataFrame): Input dataframe\n",
    "        G (nx.Graph): NetworkX graph\n",
    "        chunk_size (int): Size of chunks to process\n",
    "        \n",
    "    Returns:\n",
    "        pd.DataFrame: DataFrame with additional graph-based features\n",
    "    \"\"\"\n",
    "    print_memory_usage(\"Before graph-based feature extraction\")\n",
    "    \n",
    "    # Extract columns excluding time and attack columns\n",
    "    cols = [col for col in df.columns if not col.startswith('time') and not col.startswith('attack')]\n",
    "    \n",
    "    # Initialize result dataframe with original columns\n",
    "    result_df = df.copy()\n",
    "    \n",
    "    # Identify subsystems\n",
    "    subsystems = [node for node, data in G.nodes(data=True) if data.get('type') == 'subsystem']\n",
    "    print(f\"Processing subsystems: {subsystems}\")\n",
    "    \n",
    "    # Add subsystem-level features\n",
    "    for subsystem in subsystems:\n",
    "        # Get components for this subsystem\n",
    "        subsystem_components = [node for node, data in G.nodes(data=True) \n",
    "                               if data.get('type') == 'component' and data.get('subsystem') == subsystem]\n",
    "        \n",
    "        # Filter to components that exist in the dataframe\n",
    "        subsystem_components = [comp for comp in subsystem_components if comp in df.columns]\n",
    "        \n",
    "        if subsystem_components:\n",
    "            print(f\"Processing {subsystem} with {len(subsystem_components)} components\")\n",
    "            \n",
    "            # Limit number of components to process\n",
    "            if len(subsystem_components) > 10:\n",
    "                print(f\"Too many components, selecting 10 with highest variance\")\n",
    "                variances = df[subsystem_components].var().sort_values(ascending=False)\n",
    "                subsystem_components = variances.index[:10].tolist()\n",
    "            \n",
    "            # Calculate subsystem-level statistics\n",
    "            result_df[f\"{subsystem}_mean\"] = df[subsystem_components].mean(axis=1)\n",
    "            result_df[f\"{subsystem}_std\"] = df[subsystem_components].std(axis=1)\n",
    "            result_df[f\"{subsystem}_max\"] = df[subsystem_components].max(axis=1)\n",
    "            result_df[f\"{subsystem}_min\"] = df[subsystem_components].min(axis=1)\n",
    "            \n",
    "            # Calculate z-scores for selected components\n",
    "            for component in subsystem_components[:5]:  # Limit to 5 components\n",
    "                mean = result_df[f\"{subsystem}_mean\"]\n",
    "                std = result_df[f\"{subsystem}_std\"].replace(0, 1e-10)  # Avoid division by zero\n",
    "                result_df[f\"{component}_zscore\"] = (df[component] - mean) / std\n",
    "        \n",
    "        # Force garbage collection after each subsystem\n",
    "        clean_memory()\n",
    "    \n",
    "    # Add cross-subsystem features (limited to save memory)\n",
    "    processed_pairs = 0\n",
    "    for i, s1 in enumerate(subsystems):\n",
    "        for j, s2 in enumerate(subsystems):\n",
    "            if i < j and processed_pairs < 5:  # Limit to 5 subsystem pairs\n",
    "                # Check if subsystems are connected in the graph\n",
    "                if G.has_edge(s1, s2):\n",
    "                    print(f\"Adding cross-subsystem features for {s1} and {s2}\")\n",
    "                    \n",
    "                    # Calculate ratio and difference between subsystem means\n",
    "                    if f\"{s1}_mean\" in result_df.columns and f\"{s2}_mean\" in result_df.columns:\n",
    "                        s2_mean = result_df[f\"{s2}_mean\"].replace(0, 1e-10)  # Avoid division by zero\n",
    "                        result_df[f\"{s1}_{s2}_ratio\"] = result_df[f\"{s1}_mean\"] / s2_mean\n",
    "                        result_df[f\"{s1}_{s2}_diff\"] = result_df[f\"{s1}_mean\"] - result_df[f\"{s2}_mean\"]\n",
    "                        processed_pairs += 1\n",
    "    \n",
    "    # Add graph centrality features (limited to save memory)\n",
    "    print(\"Calculating graph centrality measures...\")\n",
    "    \n",
    "    # Calculate centrality measures for a subset of nodes\n",
    "    component_nodes = [node for node, data in G.nodes(data=True) if data.get('type') == 'component']\n",
    "    if len(component_nodes) > 50:\n",
    "        print(f\"Too many component nodes ({len(component_nodes)}), selecting 50 randomly\")\n",
    "        np.random.seed(42)\n",
    "        component_nodes = np.random.choice(component_nodes, 50, replace=False).tolist()\n",
    "    \n",
    "    # Create subgraph with selected nodes and all subsystems\n",
    "    subgraph_nodes = component_nodes + subsystems\n",
    "    G_sub = G.subgraph(subgraph_nodes)\n",
    "    \n",
    "    # Calculate centrality measures on subgraph\n",
    "    degree_centrality = nx.degree_centrality(G_sub)\n",
    "    \n",
    "    # Add centrality-weighted features\n",
    "    for col in component_nodes:\n",
    "        if col in df.columns and col in degree_centrality:\n",
    "            # Weight by degree centrality\n",
    "            result_df[f\"{col}_degree_weighted\"] = df[col] * degree_centrality.get(col, 0)\n",
    "    \n",
    "    # Fill NaN values\n",
    "    result_df = result_df.fillna(method='bfill').fillna(method='ffill')\n",
    "    \n",
    "    print_memory_usage(\"After graph-based feature extraction\")\n",
    "    return result_df"
   ]
  },
  {
   "cell_type": "code",
   "execution_count": 18,
   "metadata": {},
   "outputs": [],
   "source": [
    "def process_dataframe_in_chunks(df, G, chunk_size=10000):\n",
    "    \"\"\"\n",
    "    Process a dataframe in chunks to save memory.\n",
    "    \n",
    "    Args:\n",
    "        df (pd.DataFrame): Input dataframe\n",
    "        G (nx.Graph): NetworkX graph\n",
    "        chunk_size (int): Size of chunks to process\n",
    "        \n",
    "    Returns:\n",
    "        pd.DataFrame: Processed dataframe\n",
    "    \"\"\"\n",
    "    print(f\"Processing dataframe with {df.shape[0]} rows in chunks of {chunk_size}\")\n",
    "    \n",
    "    # If dataframe is small enough, process directly\n",
    "    if len(df) <= chunk_size:\n",
    "        print(\"Dataframe is small enough to process directly\")\n",
    "        # Add time series features\n",
    "        df_ts = extract_time_series_features_chunked(df, window_sizes=[10, 30])\n",
    "        \n",
    "        # Add graph-based features\n",
    "        df_processed = add_graph_based_features_chunked(df_ts, G)\n",
    "        \n",
    "        return df_processed\n",
    "    \n",
    "    # Process in chunks\n",
    "    chunks = []\n",
    "    for i in range(0, len(df), chunk_size):\n",
    "        print(f\"Processing chunk {i//chunk_size + 1}/{(len(df)+chunk_size-1)//chunk_size}\")\n",
    "        chunk = df.iloc[i:i+chunk_size].copy()\n",
    "        \n",
    "        # Add time series features\n",
    "        chunk_ts = extract_time_series_features_chunked(chunk, window_sizes=[10, 30])\n",
    "        \n",
    "        # Add graph-based features\n",
    "        chunk_processed = add_graph_based_features_chunked(chunk_ts, G)\n",
    "        \n",
    "        chunks.append(chunk_processed)\n",
    "        \n",
    "        # Force garbage collection after each chunk\n",
    "        del chunk, chunk_ts\n",
    "        clean_memory()\n",
    "    \n",
    "    # Concatenate chunks\n",
    "    print(\"Concatenating chunks...\")\n",
    "    result = pd.concat(chunks)\n",
    "    \n",
    "    # Clear chunks to free memory\n",
    "    del chunks\n",
    "    clean_memory()\n",
    "    \n",
    "    return result"
   ]
  },
  {
   "cell_type": "markdown",
   "metadata": {},
   "source": [
    "## 6. Process Training Data"
   ]
  },
  {
   "cell_type": "code",
   "execution_count": 19,
   "metadata": {},
   "outputs": [
    {
     "name": "stdout",
     "output_type": "stream",
     "text": [
      "Processing train1 as a sample...\n",
      "Original shape: (216001, 84)\n",
      "Processing dataframe with 216001 rows in chunks of 10000\n",
      "Processing chunk 1/22\n",
      "Before time series feature extraction Memory Usage: 879.91 MB\n",
      "Too many columns (79), selecting top 50 by variance\n",
      "Processing window size 10...\n"
     ]
    },
    {
     "name": "stderr",
     "output_type": "stream",
     "text": [
      "Adding rolling features (window=10): 100%|██████████| 50/50 [00:00<00:00, 338.31it/s]\n"
     ]
    },
    {
     "name": "stdout",
     "output_type": "stream",
     "text": [
      "Memory cleaned: 4.45 MB freed\n",
      "Processing window size 30...\n"
     ]
    },
    {
     "name": "stderr",
     "output_type": "stream",
     "text": [
      "Adding rolling features (window=30): 100%|██████████| 50/50 [00:00<00:00, 326.84it/s]\n"
     ]
    },
    {
     "name": "stdout",
     "output_type": "stream",
     "text": [
      "Memory cleaned: 0.00 MB freed\n",
      "Adding lag features (lag=1)...\n"
     ]
    },
    {
     "name": "stderr",
     "output_type": "stream",
     "text": [
      "Adding lag features (lag=1): 100%|██████████| 20/20 [00:00<00:00, 1956.62it/s]\n"
     ]
    },
    {
     "name": "stdout",
     "output_type": "stream",
     "text": [
      "Adding lag features (lag=5)...\n"
     ]
    },
    {
     "name": "stderr",
     "output_type": "stream",
     "text": [
      "Adding lag features (lag=5): 100%|██████████| 20/20 [00:00<00:00, 2238.33it/s]\n"
     ]
    },
    {
     "name": "stdout",
     "output_type": "stream",
     "text": [
      "After time series feature extraction Memory Usage: 929.22 MB\n",
      "Before graph-based feature extraction Memory Usage: 929.22 MB\n",
      "Processing subsystems: ['p2', 'p3', 'p4', 'p1']\n",
      "Processing p2 with 22 components\n",
      "Too many components, selecting 10 with highest variance\n",
      "Memory cleaned: 0.00 MB freed\n",
      "Processing p3 with 7 components\n",
      "Memory cleaned: 0.00 MB freed\n",
      "Processing p4 with 12 components\n",
      "Too many components, selecting 10 with highest variance\n",
      "Memory cleaned: 0.00 MB freed\n",
      "Processing p1 with 38 components\n",
      "Too many components, selecting 10 with highest variance\n",
      "Memory cleaned: 0.00 MB freed\n",
      "Adding cross-subsystem features for p3 and p4\n",
      "Calculating graph centrality measures...\n",
      "Too many component nodes (79), selecting 50 randomly\n",
      "After graph-based feature extraction Memory Usage: 983.75 MB\n",
      "Memory cleaned: 0.00 MB freed\n",
      "Processing chunk 2/22\n",
      "Before time series feature extraction Memory Usage: 935.88 MB\n",
      "Too many columns (79), selecting top 50 by variance\n",
      "Processing window size 10...\n"
     ]
    },
    {
     "name": "stderr",
     "output_type": "stream",
     "text": [
      "Adding rolling features (window=10): 100%|██████████| 50/50 [00:00<00:00, 303.95it/s]\n"
     ]
    },
    {
     "name": "stdout",
     "output_type": "stream",
     "text": [
      "Memory cleaned: 0.00 MB freed\n",
      "Processing window size 30...\n"
     ]
    },
    {
     "name": "stderr",
     "output_type": "stream",
     "text": [
      "Adding rolling features (window=30): 100%|██████████| 50/50 [00:00<00:00, 322.47it/s]\n"
     ]
    },
    {
     "name": "stdout",
     "output_type": "stream",
     "text": [
      "Memory cleaned: 0.00 MB freed\n",
      "Adding lag features (lag=1)...\n"
     ]
    },
    {
     "name": "stderr",
     "output_type": "stream",
     "text": [
      "Adding lag features (lag=1): 100%|██████████| 20/20 [00:00<00:00, 2455.83it/s]\n"
     ]
    },
    {
     "name": "stdout",
     "output_type": "stream",
     "text": [
      "Adding lag features (lag=5)...\n"
     ]
    },
    {
     "name": "stderr",
     "output_type": "stream",
     "text": [
      "Adding lag features (lag=5): 100%|██████████| 20/20 [00:00<00:00, 1696.18it/s]\n"
     ]
    },
    {
     "name": "stdout",
     "output_type": "stream",
     "text": [
      "After time series feature extraction Memory Usage: 980.38 MB\n",
      "Before graph-based feature extraction Memory Usage: 980.30 MB\n",
      "Processing subsystems: ['p2', 'p3', 'p4', 'p1']\n",
      "Processing p2 with 22 components\n",
      "Too many components, selecting 10 with highest variance\n",
      "Memory cleaned: 0.00 MB freed\n",
      "Processing p3 with 7 components\n",
      "Memory cleaned: 0.00 MB freed\n",
      "Processing p4 with 12 components\n",
      "Too many components, selecting 10 with highest variance\n",
      "Memory cleaned: 0.00 MB freed\n",
      "Processing p1 with 38 components\n",
      "Too many components, selecting 10 with highest variance\n",
      "Memory cleaned: 0.00 MB freed\n",
      "Adding cross-subsystem features for p3 and p4\n",
      "Calculating graph centrality measures...\n",
      "Too many component nodes (79), selecting 50 randomly\n",
      "After graph-based feature extraction Memory Usage: 1036.95 MB\n",
      "Memory cleaned: 0.00 MB freed\n",
      "Processing chunk 3/22\n",
      "Before time series feature extraction Memory Usage: 990.43 MB\n",
      "Too many columns (79), selecting top 50 by variance\n",
      "Processing window size 10...\n"
     ]
    },
    {
     "name": "stderr",
     "output_type": "stream",
     "text": [
      "Adding rolling features (window=10): 100%|██████████| 50/50 [00:00<00:00, 398.07it/s]"
     ]
    },
    {
     "name": "stdout",
     "output_type": "stream",
     "text": [
      "Memory cleaned: 0.00 MB freed"
     ]
    },
    {
     "name": "stderr",
     "output_type": "stream",
     "text": [
      "\n"
     ]
    },
    {
     "name": "stdout",
     "output_type": "stream",
     "text": [
      "\n",
      "Processing window size 30...\n"
     ]
    },
    {
     "name": "stderr",
     "output_type": "stream",
     "text": [
      "Adding rolling features (window=30): 100%|██████████| 50/50 [00:00<00:00, 301.49it/s]"
     ]
    },
    {
     "name": "stdout",
     "output_type": "stream",
     "text": [
      "Memory cleaned: 0.00 MB freed\n",
      "Adding lag features (lag=1)...\n"
     ]
    },
    {
     "name": "stderr",
     "output_type": "stream",
     "text": [
      "\n",
      "Adding lag features (lag=1): 100%|██████████| 20/20 [00:00<00:00, 2663.05it/s]\n"
     ]
    },
    {
     "name": "stdout",
     "output_type": "stream",
     "text": [
      "Adding lag features (lag=5)...\n"
     ]
    },
    {
     "name": "stderr",
     "output_type": "stream",
     "text": [
      "Adding lag features (lag=5): 100%|██████████| 20/20 [00:00<00:00, 1732.68it/s]\n"
     ]
    },
    {
     "name": "stdout",
     "output_type": "stream",
     "text": [
      "After time series feature extraction Memory Usage: 1040.39 MB\n",
      "Before graph-based feature extraction Memory Usage: 1040.39 MB\n",
      "Processing subsystems: ['p2', 'p3', 'p4', 'p1']\n",
      "Processing p2 with 22 components\n",
      "Too many components, selecting 10 with highest variance\n",
      "Memory cleaned: 0.00 MB freed\n",
      "Processing p3 with 7 components\n",
      "Memory cleaned: 0.00 MB freed\n",
      "Processing p4 with 12 components\n",
      "Too many components, selecting 10 with highest variance\n",
      "Memory cleaned: 0.00 MB freed\n",
      "Processing p1 with 38 components\n",
      "Too many components, selecting 10 with highest variance\n",
      "Memory cleaned: 0.00 MB freed\n",
      "Adding cross-subsystem features for p3 and p4\n",
      "Calculating graph centrality measures...\n",
      "Too many component nodes (79), selecting 50 randomly\n",
      "After graph-based feature extraction Memory Usage: 1091.27 MB\n",
      "Memory cleaned: 0.00 MB freed\n",
      "Processing chunk 4/22\n",
      "Before time series feature extraction Memory Usage: 1045.38 MB\n",
      "Too many columns (79), selecting top 50 by variance\n",
      "Processing window size 10...\n"
     ]
    },
    {
     "name": "stderr",
     "output_type": "stream",
     "text": [
      "Adding rolling features (window=10): 100%|██████████| 50/50 [00:00<00:00, 400.89it/s]\n"
     ]
    },
    {
     "name": "stdout",
     "output_type": "stream",
     "text": [
      "Memory cleaned: 0.00 MB freed\n",
      "Processing window size 30...\n"
     ]
    },
    {
     "name": "stderr",
     "output_type": "stream",
     "text": [
      "Adding rolling features (window=30): 100%|██████████| 50/50 [00:00<00:00, 328.33it/s]\n"
     ]
    },
    {
     "name": "stdout",
     "output_type": "stream",
     "text": [
      "Memory cleaned: 0.00 MB freed\n",
      "Adding lag features (lag=1)...\n"
     ]
    },
    {
     "name": "stderr",
     "output_type": "stream",
     "text": [
      "Adding lag features (lag=1): 100%|██████████| 20/20 [00:00<00:00, 2455.03it/s]\n"
     ]
    },
    {
     "name": "stdout",
     "output_type": "stream",
     "text": [
      "Adding lag features (lag=5)...\n"
     ]
    },
    {
     "name": "stderr",
     "output_type": "stream",
     "text": [
      "Adding lag features (lag=5): 100%|██████████| 20/20 [00:00<00:00, 1515.37it/s]\n"
     ]
    },
    {
     "name": "stdout",
     "output_type": "stream",
     "text": [
      "After time series feature extraction Memory Usage: 1092.77 MB\n",
      "Before graph-based feature extraction Memory Usage: 1092.77 MB\n",
      "Processing subsystems: ['p2', 'p3', 'p4', 'p1']\n",
      "Processing p2 with 22 components\n",
      "Too many components, selecting 10 with highest variance\n",
      "Memory cleaned: 0.00 MB freed\n",
      "Processing p3 with 7 components\n",
      "Memory cleaned: 0.00 MB freed\n",
      "Processing p4 with 12 components\n",
      "Too many components, selecting 10 with highest variance\n",
      "Memory cleaned: 0.00 MB freed\n",
      "Processing p1 with 38 components\n",
      "Too many components, selecting 10 with highest variance\n",
      "Memory cleaned: 0.00 MB freed\n",
      "Adding cross-subsystem features for p3 and p4\n",
      "Calculating graph centrality measures...\n",
      "Too many component nodes (79), selecting 50 randomly\n",
      "After graph-based feature extraction Memory Usage: 1145.31 MB\n",
      "Memory cleaned: 0.00 MB freed\n",
      "Processing chunk 5/22\n",
      "Before time series feature extraction Memory Usage: 1099.55 MB\n",
      "Too many columns (79), selecting top 50 by variance\n",
      "Processing window size 10...\n"
     ]
    },
    {
     "name": "stderr",
     "output_type": "stream",
     "text": [
      "Adding rolling features (window=10): 100%|██████████| 50/50 [00:00<00:00, 376.03it/s]"
     ]
    },
    {
     "name": "stdout",
     "output_type": "stream",
     "text": [
      "Memory cleaned: 0.00 MB freed\n",
      "Processing window size 30...\n"
     ]
    },
    {
     "name": "stderr",
     "output_type": "stream",
     "text": [
      "\n",
      "Adding rolling features (window=30): 100%|██████████| 50/50 [00:00<00:00, 340.15it/s]\n"
     ]
    },
    {
     "name": "stdout",
     "output_type": "stream",
     "text": [
      "Memory cleaned: 0.00 MB freed\n",
      "Adding lag features (lag=1)...\n"
     ]
    },
    {
     "name": "stderr",
     "output_type": "stream",
     "text": [
      "Adding lag features (lag=1): 100%|██████████| 20/20 [00:00<00:00, 1249.83it/s]\n"
     ]
    },
    {
     "name": "stdout",
     "output_type": "stream",
     "text": [
      "Adding lag features (lag=5)...\n"
     ]
    },
    {
     "name": "stderr",
     "output_type": "stream",
     "text": [
      "Adding lag features (lag=5): 100%|██████████| 20/20 [00:00<00:00, 1451.27it/s]\n"
     ]
    },
    {
     "name": "stdout",
     "output_type": "stream",
     "text": [
      "After time series feature extraction Memory Usage: 1144.29 MB\n",
      "Before graph-based feature extraction Memory Usage: 1144.29 MB\n",
      "Processing subsystems: ['p2', 'p3', 'p4', 'p1']\n",
      "Processing p2 with 22 components\n",
      "Too many components, selecting 10 with highest variance\n",
      "Memory cleaned: 0.00 MB freed\n",
      "Processing p3 with 7 components\n",
      "Memory cleaned: 0.00 MB freed\n",
      "Processing p4 with 12 components\n",
      "Too many components, selecting 10 with highest variance\n",
      "Memory cleaned: 0.00 MB freed\n",
      "Processing p1 with 38 components\n",
      "Too many components, selecting 10 with highest variance\n",
      "Memory cleaned: 0.00 MB freed\n",
      "Adding cross-subsystem features for p3 and p4\n",
      "Calculating graph centrality measures...\n",
      "Too many component nodes (79), selecting 50 randomly\n",
      "After graph-based feature extraction Memory Usage: 1199.70 MB\n",
      "Memory cleaned: 0.00 MB freed\n",
      "Processing chunk 6/22\n",
      "Before time series feature extraction Memory Usage: 1154.08 MB\n",
      "Too many columns (79), selecting top 50 by variance\n",
      "Processing window size 10...\n"
     ]
    },
    {
     "name": "stderr",
     "output_type": "stream",
     "text": [
      "Adding rolling features (window=10): 100%|██████████| 50/50 [00:00<00:00, 393.47it/s]\n"
     ]
    },
    {
     "name": "stdout",
     "output_type": "stream",
     "text": [
      "Memory cleaned: 0.00 MB freed\n",
      "Processing window size 30...\n"
     ]
    },
    {
     "name": "stderr",
     "output_type": "stream",
     "text": [
      "Adding rolling features (window=30): 100%|██████████| 50/50 [00:00<00:00, 320.27it/s]\n"
     ]
    },
    {
     "name": "stdout",
     "output_type": "stream",
     "text": [
      "Memory cleaned: 0.00 MB freed\n",
      "Adding lag features (lag=1)...\n"
     ]
    },
    {
     "name": "stderr",
     "output_type": "stream",
     "text": [
      "Adding lag features (lag=1): 100%|██████████| 20/20 [00:00<00:00, 2181.24it/s]\n"
     ]
    },
    {
     "name": "stdout",
     "output_type": "stream",
     "text": [
      "Adding lag features (lag=5)...\n"
     ]
    },
    {
     "name": "stderr",
     "output_type": "stream",
     "text": [
      "Adding lag features (lag=5): 100%|██████████| 20/20 [00:00<00:00, 2267.50it/s]\n"
     ]
    },
    {
     "name": "stdout",
     "output_type": "stream",
     "text": [
      "After time series feature extraction Memory Usage: 1205.77 MB\n",
      "Before graph-based feature extraction Memory Usage: 1205.77 MB\n",
      "Processing subsystems: ['p2', 'p3', 'p4', 'p1']\n",
      "Processing p2 with 22 components\n",
      "Too many components, selecting 10 with highest variance\n",
      "Memory cleaned: 0.00 MB freed\n",
      "Processing p3 with 7 components\n",
      "Memory cleaned: 0.00 MB freed\n",
      "Processing p4 with 12 components\n",
      "Too many components, selecting 10 with highest variance\n",
      "Memory cleaned: 0.00 MB freed\n",
      "Processing p1 with 38 components\n",
      "Too many components, selecting 10 with highest variance\n",
      "Memory cleaned: 0.00 MB freed\n",
      "Adding cross-subsystem features for p3 and p4\n",
      "Calculating graph centrality measures...\n",
      "Too many component nodes (79), selecting 50 randomly\n",
      "After graph-based feature extraction Memory Usage: 1254.06 MB\n",
      "Memory cleaned: 0.00 MB freed\n",
      "Processing chunk 7/22\n",
      "Before time series feature extraction Memory Usage: 1209.12 MB\n",
      "Too many columns (79), selecting top 50 by variance\n",
      "Processing window size 10...\n"
     ]
    },
    {
     "name": "stderr",
     "output_type": "stream",
     "text": [
      "Adding rolling features (window=10): 100%|██████████| 50/50 [00:00<00:00, 345.32it/s]\n"
     ]
    },
    {
     "name": "stdout",
     "output_type": "stream",
     "text": [
      "Memory cleaned: 0.00 MB freed\n",
      "Processing window size 30...\n"
     ]
    },
    {
     "name": "stderr",
     "output_type": "stream",
     "text": [
      "Adding rolling features (window=30): 100%|██████████| 50/50 [00:00<00:00, 272.74it/s]\n"
     ]
    },
    {
     "name": "stdout",
     "output_type": "stream",
     "text": [
      "Memory cleaned: 0.00 MB freed\n",
      "Adding lag features (lag=1)...\n"
     ]
    },
    {
     "name": "stderr",
     "output_type": "stream",
     "text": [
      "Adding lag features (lag=1): 100%|██████████| 20/20 [00:00<00:00, 2449.66it/s]\n"
     ]
    },
    {
     "name": "stdout",
     "output_type": "stream",
     "text": [
      "Adding lag features (lag=5)...\n"
     ]
    },
    {
     "name": "stderr",
     "output_type": "stream",
     "text": [
      "Adding lag features (lag=5): 100%|██████████| 20/20 [00:00<00:00, 2506.16it/s]\n"
     ]
    },
    {
     "name": "stdout",
     "output_type": "stream",
     "text": [
      "After time series feature extraction Memory Usage: 1258.56 MB\n",
      "Before graph-based feature extraction Memory Usage: 1258.56 MB\n",
      "Processing subsystems: ['p2', 'p3', 'p4', 'p1']\n",
      "Processing p2 with 22 components\n",
      "Too many components, selecting 10 with highest variance\n",
      "Memory cleaned: 0.00 MB freed\n",
      "Processing p3 with 7 components\n",
      "Memory cleaned: 0.00 MB freed\n",
      "Processing p4 with 12 components\n",
      "Too many components, selecting 10 with highest variance\n",
      "Memory cleaned: 0.00 MB freed\n",
      "Processing p1 with 38 components\n",
      "Too many components, selecting 10 with highest variance\n",
      "Memory cleaned: 0.00 MB freed\n",
      "Adding cross-subsystem features for p3 and p4\n",
      "Calculating graph centrality measures...\n",
      "Too many component nodes (79), selecting 50 randomly\n",
      "After graph-based feature extraction Memory Usage: 1308.21 MB\n",
      "Memory cleaned: 0.00 MB freed\n",
      "Processing chunk 8/22\n",
      "Before time series feature extraction Memory Usage: 1263.81 MB\n",
      "Too many columns (79), selecting top 50 by variance\n",
      "Processing window size 10...\n"
     ]
    },
    {
     "name": "stderr",
     "output_type": "stream",
     "text": [
      "Adding rolling features (window=10): 100%|██████████| 50/50 [00:00<00:00, 190.69it/s]\n"
     ]
    },
    {
     "name": "stdout",
     "output_type": "stream",
     "text": [
      "Memory cleaned: 0.00 MB freed\n",
      "Processing window size 30...\n"
     ]
    },
    {
     "name": "stderr",
     "output_type": "stream",
     "text": [
      "Adding rolling features (window=30): 100%|██████████| 50/50 [00:00<00:00, 336.15it/s]\n"
     ]
    },
    {
     "name": "stdout",
     "output_type": "stream",
     "text": [
      "Memory cleaned: 0.00 MB freed\n",
      "Adding lag features (lag=1)...\n"
     ]
    },
    {
     "name": "stderr",
     "output_type": "stream",
     "text": [
      "Adding lag features (lag=1): 100%|██████████| 20/20 [00:00<00:00, 2203.64it/s]\n"
     ]
    },
    {
     "name": "stdout",
     "output_type": "stream",
     "text": [
      "Adding lag features (lag=5)...\n"
     ]
    },
    {
     "name": "stderr",
     "output_type": "stream",
     "text": [
      "Adding lag features (lag=5): 100%|██████████| 20/20 [00:00<00:00, 2269.95it/s]\n"
     ]
    },
    {
     "name": "stdout",
     "output_type": "stream",
     "text": [
      "After time series feature extraction Memory Usage: 1311.67 MB\n",
      "Before graph-based feature extraction Memory Usage: 1311.67 MB\n",
      "Processing subsystems: ['p2', 'p3', 'p4', 'p1']\n",
      "Processing p2 with 22 components\n",
      "Too many components, selecting 10 with highest variance\n",
      "Memory cleaned: 0.00 MB freed\n",
      "Processing p3 with 7 components\n",
      "Memory cleaned: 0.00 MB freed\n",
      "Processing p4 with 12 components\n",
      "Too many components, selecting 10 with highest variance\n",
      "Memory cleaned: 0.00 MB freed\n",
      "Processing p1 with 38 components\n",
      "Too many components, selecting 10 with highest variance\n",
      "Memory cleaned: 0.00 MB freed\n",
      "Adding cross-subsystem features for p3 and p4\n",
      "Calculating graph centrality measures...\n",
      "Too many component nodes (79), selecting 50 randomly\n",
      "After graph-based feature extraction Memory Usage: 1361.94 MB\n",
      "Memory cleaned: 0.00 MB freed\n",
      "Processing chunk 9/22\n",
      "Before time series feature extraction Memory Usage: 1317.72 MB\n",
      "Too many columns (79), selecting top 50 by variance\n",
      "Processing window size 10...\n"
     ]
    },
    {
     "name": "stderr",
     "output_type": "stream",
     "text": [
      "Adding rolling features (window=10): 100%|██████████| 50/50 [00:00<00:00, 321.92it/s]\n"
     ]
    },
    {
     "name": "stdout",
     "output_type": "stream",
     "text": [
      "Memory cleaned: 0.00 MB freed\n",
      "Processing window size 30...\n"
     ]
    },
    {
     "name": "stderr",
     "output_type": "stream",
     "text": [
      "Adding rolling features (window=30): 100%|██████████| 50/50 [00:00<00:00, 312.50it/s]\n"
     ]
    },
    {
     "name": "stdout",
     "output_type": "stream",
     "text": [
      "Memory cleaned: 0.00 MB freed\n",
      "Adding lag features (lag=1)...\n"
     ]
    },
    {
     "name": "stderr",
     "output_type": "stream",
     "text": [
      "Adding lag features (lag=1): 100%|██████████| 20/20 [00:00<00:00, 2380.90it/s]\n"
     ]
    },
    {
     "name": "stdout",
     "output_type": "stream",
     "text": [
      "Adding lag features (lag=5)...\n"
     ]
    },
    {
     "name": "stderr",
     "output_type": "stream",
     "text": [
      "Adding lag features (lag=5): 100%|██████████| 20/20 [00:00<00:00, 1609.05it/s]\n"
     ]
    },
    {
     "name": "stdout",
     "output_type": "stream",
     "text": [
      "After time series feature extraction Memory Usage: 1363.21 MB\n",
      "Before graph-based feature extraction Memory Usage: 1363.21 MB\n",
      "Processing subsystems: ['p2', 'p3', 'p4', 'p1']\n",
      "Processing p2 with 22 components\n",
      "Too many components, selecting 10 with highest variance\n",
      "Memory cleaned: 0.00 MB freed\n",
      "Processing p3 with 7 components\n",
      "Memory cleaned: 0.00 MB freed\n",
      "Processing p4 with 12 components\n",
      "Too many components, selecting 10 with highest variance\n",
      "Memory cleaned: 0.00 MB freed\n",
      "Processing p1 with 38 components\n",
      "Too many components, selecting 10 with highest variance\n",
      "Memory cleaned: 0.00 MB freed\n",
      "Adding cross-subsystem features for p3 and p4\n",
      "Calculating graph centrality measures...\n",
      "Too many component nodes (79), selecting 50 randomly\n",
      "After graph-based feature extraction Memory Usage: 1415.79 MB\n",
      "Memory cleaned: 0.00 MB freed\n",
      "Processing chunk 10/22\n",
      "Before time series feature extraction Memory Usage: 1372.27 MB\n",
      "Too many columns (79), selecting top 50 by variance\n",
      "Processing window size 10...\n"
     ]
    },
    {
     "name": "stderr",
     "output_type": "stream",
     "text": [
      "Adding rolling features (window=10): 100%|██████████| 50/50 [00:00<00:00, 302.33it/s]\n"
     ]
    },
    {
     "name": "stdout",
     "output_type": "stream",
     "text": [
      "Memory cleaned: 0.00 MB freed\n",
      "Processing window size 30...\n"
     ]
    },
    {
     "name": "stderr",
     "output_type": "stream",
     "text": [
      "Adding rolling features (window=30): 100%|██████████| 50/50 [00:00<00:00, 304.99it/s]\n"
     ]
    },
    {
     "name": "stdout",
     "output_type": "stream",
     "text": [
      "Memory cleaned: 0.00 MB freed\n",
      "Adding lag features (lag=1)...\n"
     ]
    },
    {
     "name": "stderr",
     "output_type": "stream",
     "text": [
      "Adding lag features (lag=1): 100%|██████████| 20/20 [00:00<00:00, 1972.31it/s]\n"
     ]
    },
    {
     "name": "stdout",
     "output_type": "stream",
     "text": [
      "Adding lag features (lag=5)...\n"
     ]
    },
    {
     "name": "stderr",
     "output_type": "stream",
     "text": [
      "Adding lag features (lag=5): 100%|██████████| 20/20 [00:00<00:00, 1596.92it/s]\n"
     ]
    },
    {
     "name": "stdout",
     "output_type": "stream",
     "text": [
      "After time series feature extraction Memory Usage: 1415.72 MB\n",
      "Before graph-based feature extraction Memory Usage: 1415.72 MB\n",
      "Processing subsystems: ['p2', 'p3', 'p4', 'p1']\n",
      "Processing p2 with 22 components\n",
      "Too many components, selecting 10 with highest variance\n",
      "Memory cleaned: 0.00 MB freed\n",
      "Processing p3 with 7 components\n",
      "Memory cleaned: 0.00 MB freed\n",
      "Processing p4 with 12 components\n",
      "Too many components, selecting 10 with highest variance\n",
      "Memory cleaned: 0.00 MB freed\n",
      "Processing p1 with 38 components\n",
      "Too many components, selecting 10 with highest variance\n",
      "Memory cleaned: 0.00 MB freed\n",
      "Adding cross-subsystem features for p3 and p4\n",
      "Calculating graph centrality measures...\n",
      "Too many component nodes (79), selecting 50 randomly\n",
      "After graph-based feature extraction Memory Usage: 1470.09 MB\n",
      "Memory cleaned: 0.00 MB freed\n",
      "Processing chunk 11/22\n",
      "Before time series feature extraction Memory Usage: 1427.16 MB\n",
      "Too many columns (79), selecting top 50 by variance\n",
      "Processing window size 10...\n"
     ]
    },
    {
     "name": "stderr",
     "output_type": "stream",
     "text": [
      "Adding rolling features (window=10): 100%|██████████| 50/50 [00:00<00:00, 316.76it/s]"
     ]
    },
    {
     "name": "stdout",
     "output_type": "stream",
     "text": [
      "Memory cleaned: 0.00 MB freed\n",
      "Processing window size 30...\n"
     ]
    },
    {
     "name": "stderr",
     "output_type": "stream",
     "text": [
      "\n",
      "Adding rolling features (window=30): 100%|██████████| 50/50 [00:00<00:00, 304.74it/s]\n"
     ]
    },
    {
     "name": "stdout",
     "output_type": "stream",
     "text": [
      "Memory cleaned: 0.00 MB freed\n",
      "Adding lag features (lag=1)...\n"
     ]
    },
    {
     "name": "stderr",
     "output_type": "stream",
     "text": [
      "Adding lag features (lag=1): 100%|██████████| 20/20 [00:00<00:00, 1835.50it/s]\n"
     ]
    },
    {
     "name": "stdout",
     "output_type": "stream",
     "text": [
      "Adding lag features (lag=5)...\n"
     ]
    },
    {
     "name": "stderr",
     "output_type": "stream",
     "text": [
      "Adding lag features (lag=5): 100%|██████████| 20/20 [00:00<00:00, 1499.55it/s]\n"
     ]
    },
    {
     "name": "stdout",
     "output_type": "stream",
     "text": [
      "After time series feature extraction Memory Usage: 1479.51 MB\n",
      "Before graph-based feature extraction Memory Usage: 1479.51 MB\n",
      "Processing subsystems: ['p2', 'p3', 'p4', 'p1']\n",
      "Processing p2 with 22 components\n",
      "Too many components, selecting 10 with highest variance\n",
      "Memory cleaned: 0.00 MB freed\n",
      "Processing p3 with 7 components\n",
      "Memory cleaned: 0.00 MB freed\n",
      "Processing p4 with 12 components\n",
      "Too many components, selecting 10 with highest variance\n",
      "Memory cleaned: 0.00 MB freed\n",
      "Processing p1 with 38 components\n",
      "Too many components, selecting 10 with highest variance\n",
      "Memory cleaned: 0.00 MB freed\n",
      "Adding cross-subsystem features for p3 and p4\n",
      "Calculating graph centrality measures...\n",
      "Too many component nodes (79), selecting 50 randomly\n",
      "After graph-based feature extraction Memory Usage: 1524.11 MB\n",
      "Memory cleaned: 0.00 MB freed\n",
      "Processing chunk 12/22\n",
      "Before time series feature extraction Memory Usage: 1481.53 MB\n",
      "Too many columns (79), selecting top 50 by variance\n",
      "Processing window size 10...\n"
     ]
    },
    {
     "name": "stderr",
     "output_type": "stream",
     "text": [
      "Adding rolling features (window=10): 100%|██████████| 50/50 [00:00<00:00, 328.27it/s]\n"
     ]
    },
    {
     "name": "stdout",
     "output_type": "stream",
     "text": [
      "Memory cleaned: 0.00 MB freed\n",
      "Processing window size 30...\n"
     ]
    },
    {
     "name": "stderr",
     "output_type": "stream",
     "text": [
      "Adding rolling features (window=30): 100%|██████████| 50/50 [00:00<00:00, 288.14it/s]\n"
     ]
    },
    {
     "name": "stdout",
     "output_type": "stream",
     "text": [
      "Memory cleaned: 0.00 MB freed\n",
      "Adding lag features (lag=1)...\n"
     ]
    },
    {
     "name": "stderr",
     "output_type": "stream",
     "text": [
      "Adding lag features (lag=1): 100%|██████████| 20/20 [00:00<00:00, 2502.87it/s]\n"
     ]
    },
    {
     "name": "stdout",
     "output_type": "stream",
     "text": [
      "Adding lag features (lag=5)...\n"
     ]
    },
    {
     "name": "stderr",
     "output_type": "stream",
     "text": [
      "Adding lag features (lag=5): 100%|██████████| 20/20 [00:00<00:00, 1485.34it/s]\n"
     ]
    },
    {
     "name": "stdout",
     "output_type": "stream",
     "text": [
      "After time series feature extraction Memory Usage: 1532.55 MB\n",
      "Before graph-based feature extraction Memory Usage: 1532.55 MB\n",
      "Processing subsystems: ['p2', 'p3', 'p4', 'p1']\n",
      "Processing p2 with 22 components\n",
      "Too many components, selecting 10 with highest variance\n",
      "Memory cleaned: 0.00 MB freed\n",
      "Processing p3 with 7 components\n",
      "Memory cleaned: 0.00 MB freed\n",
      "Processing p4 with 12 components\n",
      "Too many components, selecting 10 with highest variance\n",
      "Memory cleaned: 0.00 MB freed\n",
      "Processing p1 with 38 components\n",
      "Too many components, selecting 10 with highest variance\n",
      "Memory cleaned: 0.00 MB freed\n",
      "Adding cross-subsystem features for p3 and p4\n",
      "Calculating graph centrality measures...\n",
      "Too many component nodes (79), selecting 50 randomly\n",
      "After graph-based feature extraction Memory Usage: 1593.16 MB\n",
      "Memory cleaned: 0.00 MB freed\n",
      "Processing chunk 13/22\n",
      "Before time series feature extraction Memory Usage: 1536.23 MB\n",
      "Too many columns (79), selecting top 50 by variance\n",
      "Processing window size 10...\n"
     ]
    },
    {
     "name": "stderr",
     "output_type": "stream",
     "text": [
      "Adding rolling features (window=10): 100%|██████████| 50/50 [00:00<00:00, 357.76it/s]\n"
     ]
    },
    {
     "name": "stdout",
     "output_type": "stream",
     "text": [
      "Memory cleaned: 0.00 MB freed\n",
      "Processing window size 30...\n"
     ]
    },
    {
     "name": "stderr",
     "output_type": "stream",
     "text": [
      "Adding rolling features (window=30): 100%|██████████| 50/50 [00:00<00:00, 277.63it/s]\n"
     ]
    },
    {
     "name": "stdout",
     "output_type": "stream",
     "text": [
      "Memory cleaned: 0.00 MB freed\n",
      "Adding lag features (lag=1)...\n"
     ]
    },
    {
     "name": "stderr",
     "output_type": "stream",
     "text": [
      "Adding lag features (lag=1): 100%|██████████| 20/20 [00:00<00:00, 2097.78it/s]\n"
     ]
    },
    {
     "name": "stdout",
     "output_type": "stream",
     "text": [
      "Adding lag features (lag=5)...\n"
     ]
    },
    {
     "name": "stderr",
     "output_type": "stream",
     "text": [
      "Adding lag features (lag=5): 100%|██████████| 20/20 [00:00<00:00, 1596.77it/s]\n"
     ]
    },
    {
     "name": "stdout",
     "output_type": "stream",
     "text": [
      "After time series feature extraction Memory Usage: 1583.36 MB\n",
      "Before graph-based feature extraction Memory Usage: 1583.27 MB\n",
      "Processing subsystems: ['p2', 'p3', 'p4', 'p1']\n",
      "Processing p2 with 22 components\n",
      "Too many components, selecting 10 with highest variance\n",
      "Memory cleaned: 0.00 MB freed\n",
      "Processing p3 with 7 components\n",
      "Memory cleaned: 0.00 MB freed\n",
      "Processing p4 with 12 components\n",
      "Too many components, selecting 10 with highest variance\n",
      "Memory cleaned: 0.00 MB freed\n",
      "Processing p1 with 38 components\n",
      "Too many components, selecting 10 with highest variance\n",
      "Memory cleaned: 0.00 MB freed\n",
      "Adding cross-subsystem features for p3 and p4\n",
      "Calculating graph centrality measures...\n",
      "Too many component nodes (79), selecting 50 randomly\n",
      "After graph-based feature extraction Memory Usage: 1646.47 MB\n",
      "Memory cleaned: 0.00 MB freed\n",
      "Processing chunk 14/22\n",
      "Before time series feature extraction Memory Usage: 1590.30 MB\n",
      "Too many columns (79), selecting top 50 by variance\n",
      "Processing window size 10...\n"
     ]
    },
    {
     "name": "stderr",
     "output_type": "stream",
     "text": [
      "Adding rolling features (window=10): 100%|██████████| 50/50 [00:00<00:00, 297.31it/s]\n"
     ]
    },
    {
     "name": "stdout",
     "output_type": "stream",
     "text": [
      "Memory cleaned: 0.00 MB freed\n",
      "Processing window size 30...\n"
     ]
    },
    {
     "name": "stderr",
     "output_type": "stream",
     "text": [
      "Adding rolling features (window=30): 100%|██████████| 50/50 [00:00<00:00, 312.63it/s]"
     ]
    },
    {
     "name": "stdout",
     "output_type": "stream",
     "text": [
      "Memory cleaned: 0.00 MB freed"
     ]
    },
    {
     "name": "stderr",
     "output_type": "stream",
     "text": [
      "\n"
     ]
    },
    {
     "name": "stdout",
     "output_type": "stream",
     "text": [
      "\n",
      "Adding lag features (lag=1)...\n"
     ]
    },
    {
     "name": "stderr",
     "output_type": "stream",
     "text": [
      "Adding lag features (lag=1): 100%|██████████| 20/20 [00:00<00:00, 784.80it/s]\n"
     ]
    },
    {
     "name": "stdout",
     "output_type": "stream",
     "text": [
      "Adding lag features (lag=5)...\n"
     ]
    },
    {
     "name": "stderr",
     "output_type": "stream",
     "text": [
      "Adding lag features (lag=5): 100%|██████████| 20/20 [00:00<00:00, 1529.90it/s]\n"
     ]
    },
    {
     "name": "stdout",
     "output_type": "stream",
     "text": [
      "After time series feature extraction Memory Usage: 1645.24 MB\n",
      "Before graph-based feature extraction Memory Usage: 1645.16 MB\n",
      "Processing subsystems: ['p2', 'p3', 'p4', 'p1']\n",
      "Processing p2 with 22 components\n",
      "Too many components, selecting 10 with highest variance\n",
      "Memory cleaned: 0.00 MB freed\n",
      "Processing p3 with 7 components\n",
      "Memory cleaned: 0.00 MB freed\n",
      "Processing p4 with 12 components\n",
      "Too many components, selecting 10 with highest variance\n",
      "Memory cleaned: 0.00 MB freed\n",
      "Processing p1 with 38 components\n",
      "Too many components, selecting 10 with highest variance\n",
      "Memory cleaned: 0.00 MB freed\n",
      "Adding cross-subsystem features for p3 and p4\n",
      "Calculating graph centrality measures...\n",
      "Too many component nodes (79), selecting 50 randomly\n",
      "After graph-based feature extraction Memory Usage: 1700.99 MB\n",
      "Memory cleaned: 0.00 MB freed\n",
      "Processing chunk 15/22\n",
      "Before time series feature extraction Memory Usage: 1644.82 MB\n",
      "Too many columns (79), selecting top 50 by variance\n",
      "Processing window size 10...\n"
     ]
    },
    {
     "name": "stderr",
     "output_type": "stream",
     "text": [
      "Adding rolling features (window=10): 100%|██████████| 50/50 [00:00<00:00, 339.52it/s]\n"
     ]
    },
    {
     "name": "stdout",
     "output_type": "stream",
     "text": [
      "Memory cleaned: 0.00 MB freed\n",
      "Processing window size 30...\n"
     ]
    },
    {
     "name": "stderr",
     "output_type": "stream",
     "text": [
      "Adding rolling features (window=30): 100%|██████████| 50/50 [00:00<00:00, 288.71it/s]\n"
     ]
    },
    {
     "name": "stdout",
     "output_type": "stream",
     "text": [
      "Memory cleaned: 0.00 MB freed\n",
      "Adding lag features (lag=1)...\n"
     ]
    },
    {
     "name": "stderr",
     "output_type": "stream",
     "text": [
      "Adding lag features (lag=1): 100%|██████████| 20/20 [00:00<00:00, 2381.44it/s]\n"
     ]
    },
    {
     "name": "stdout",
     "output_type": "stream",
     "text": [
      "Adding lag features (lag=5)...\n"
     ]
    },
    {
     "name": "stderr",
     "output_type": "stream",
     "text": [
      "Adding lag features (lag=5): 100%|██████████| 20/20 [00:00<00:00, 1627.50it/s]\n"
     ]
    },
    {
     "name": "stdout",
     "output_type": "stream",
     "text": [
      "After time series feature extraction Memory Usage: 1700.80 MB\n",
      "Before graph-based feature extraction Memory Usage: 1700.80 MB\n",
      "Processing subsystems: ['p2', 'p3', 'p4', 'p1']\n",
      "Processing p2 with 22 components\n",
      "Too many components, selecting 10 with highest variance\n",
      "Memory cleaned: 0.00 MB freed\n",
      "Processing p3 with 7 components\n",
      "Memory cleaned: 0.00 MB freed\n",
      "Processing p4 with 12 components\n",
      "Too many components, selecting 10 with highest variance\n",
      "Memory cleaned: 0.00 MB freed\n",
      "Processing p1 with 38 components\n",
      "Too many components, selecting 10 with highest variance\n",
      "Memory cleaned: 0.00 MB freed\n",
      "Adding cross-subsystem features for p3 and p4\n",
      "Calculating graph centrality measures...\n",
      "Too many component nodes (79), selecting 50 randomly\n",
      "After graph-based feature extraction Memory Usage: 1755.48 MB\n",
      "Memory cleaned: 0.00 MB freed\n",
      "Processing chunk 16/22\n",
      "Before time series feature extraction Memory Usage: 1699.62 MB\n",
      "Too many columns (79), selecting top 50 by variance\n",
      "Processing window size 10...\n"
     ]
    },
    {
     "name": "stderr",
     "output_type": "stream",
     "text": [
      "Adding rolling features (window=10): 100%|██████████| 50/50 [00:00<00:00, 331.30it/s]\n"
     ]
    },
    {
     "name": "stdout",
     "output_type": "stream",
     "text": [
      "Memory cleaned: 0.00 MB freed\n",
      "Processing window size 30...\n"
     ]
    },
    {
     "name": "stderr",
     "output_type": "stream",
     "text": [
      "Adding rolling features (window=30): 100%|██████████| 50/50 [00:00<00:00, 307.25it/s]\n"
     ]
    },
    {
     "name": "stdout",
     "output_type": "stream",
     "text": [
      "Memory cleaned: 0.00 MB freed\n",
      "Adding lag features (lag=1)...\n"
     ]
    },
    {
     "name": "stderr",
     "output_type": "stream",
     "text": [
      "Adding lag features (lag=1): 100%|██████████| 20/20 [00:00<00:00, 2175.53it/s]\n"
     ]
    },
    {
     "name": "stdout",
     "output_type": "stream",
     "text": [
      "Adding lag features (lag=5)...\n"
     ]
    },
    {
     "name": "stderr",
     "output_type": "stream",
     "text": [
      "Adding lag features (lag=5): 100%|██████████| 20/20 [00:00<00:00, 1527.31it/s]\n"
     ]
    },
    {
     "name": "stdout",
     "output_type": "stream",
     "text": [
      "After time series feature extraction Memory Usage: 1756.27 MB\n",
      "Before graph-based feature extraction Memory Usage: 1756.27 MB\n",
      "Processing subsystems: ['p2', 'p3', 'p4', 'p1']\n",
      "Processing p2 with 22 components\n",
      "Too many components, selecting 10 with highest variance\n",
      "Memory cleaned: 0.00 MB freed\n",
      "Processing p3 with 7 components\n",
      "Memory cleaned: 0.00 MB freed\n",
      "Processing p4 with 12 components\n",
      "Too many components, selecting 10 with highest variance\n",
      "Memory cleaned: 0.00 MB freed\n",
      "Processing p1 with 38 components\n",
      "Too many components, selecting 10 with highest variance\n",
      "Memory cleaned: 0.00 MB freed\n",
      "Adding cross-subsystem features for p3 and p4\n",
      "Calculating graph centrality measures...\n",
      "Too many component nodes (79), selecting 50 randomly\n",
      "After graph-based feature extraction Memory Usage: 1810.27 MB\n",
      "Memory cleaned: 0.00 MB freed\n",
      "Processing chunk 17/22\n",
      "Before time series feature extraction Memory Usage: 1754.06 MB\n",
      "Too many columns (79), selecting top 50 by variance\n",
      "Processing window size 10...\n"
     ]
    },
    {
     "name": "stderr",
     "output_type": "stream",
     "text": [
      "Adding rolling features (window=10): 100%|██████████| 50/50 [00:00<00:00, 259.62it/s]\n"
     ]
    },
    {
     "name": "stdout",
     "output_type": "stream",
     "text": [
      "Memory cleaned: 0.00 MB freed\n",
      "Processing window size 30...\n"
     ]
    },
    {
     "name": "stderr",
     "output_type": "stream",
     "text": [
      "Adding rolling features (window=30): 100%|██████████| 50/50 [00:00<00:00, 284.94it/s]\n"
     ]
    },
    {
     "name": "stdout",
     "output_type": "stream",
     "text": [
      "Memory cleaned: 0.00 MB freed\n",
      "Adding lag features (lag=1)...\n"
     ]
    },
    {
     "name": "stderr",
     "output_type": "stream",
     "text": [
      "Adding lag features (lag=1): 100%|██████████| 20/20 [00:00<00:00, 2660.01it/s]\n"
     ]
    },
    {
     "name": "stdout",
     "output_type": "stream",
     "text": [
      "Adding lag features (lag=5)...\n"
     ]
    },
    {
     "name": "stderr",
     "output_type": "stream",
     "text": [
      "Adding lag features (lag=5): 100%|██████████| 20/20 [00:00<00:00, 1610.72it/s]\n"
     ]
    },
    {
     "name": "stdout",
     "output_type": "stream",
     "text": [
      "After time series feature extraction Memory Usage: 1801.01 MB\n",
      "Before graph-based feature extraction Memory Usage: 1801.01 MB\n",
      "Processing subsystems: ['p2', 'p3', 'p4', 'p1']\n",
      "Processing p2 with 22 components\n",
      "Too many components, selecting 10 with highest variance\n",
      "Memory cleaned: 0.00 MB freed\n",
      "Processing p3 with 7 components\n",
      "Memory cleaned: 0.00 MB freed\n",
      "Processing p4 with 12 components\n",
      "Too many components, selecting 10 with highest variance\n",
      "Memory cleaned: 0.00 MB freed\n",
      "Processing p1 with 38 components\n",
      "Too many components, selecting 10 with highest variance\n",
      "Memory cleaned: 0.00 MB freed\n",
      "Adding cross-subsystem features for p3 and p4\n",
      "Calculating graph centrality measures...\n",
      "Too many component nodes (79), selecting 50 randomly\n",
      "After graph-based feature extraction Memory Usage: 1865.22 MB\n",
      "Memory cleaned: 0.00 MB freed\n",
      "Processing chunk 18/22\n",
      "Before time series feature extraction Memory Usage: 1808.69 MB\n",
      "Too many columns (79), selecting top 50 by variance\n",
      "Processing window size 10...\n"
     ]
    },
    {
     "name": "stderr",
     "output_type": "stream",
     "text": [
      "Adding rolling features (window=10): 100%|██████████| 50/50 [00:00<00:00, 347.99it/s]\n"
     ]
    },
    {
     "name": "stdout",
     "output_type": "stream",
     "text": [
      "Memory cleaned: 0.00 MB freed\n",
      "Processing window size 30...\n"
     ]
    },
    {
     "name": "stderr",
     "output_type": "stream",
     "text": [
      "Adding rolling features (window=30): 100%|██████████| 50/50 [00:00<00:00, 213.77it/s]\n"
     ]
    },
    {
     "name": "stdout",
     "output_type": "stream",
     "text": [
      "Memory cleaned: 0.00 MB freed\n",
      "Adding lag features (lag=1)...\n"
     ]
    },
    {
     "name": "stderr",
     "output_type": "stream",
     "text": [
      "Adding lag features (lag=1): 100%|██████████| 20/20 [00:00<00:00, 2019.16it/s]\n"
     ]
    },
    {
     "name": "stdout",
     "output_type": "stream",
     "text": [
      "Adding lag features (lag=5)...\n"
     ]
    },
    {
     "name": "stderr",
     "output_type": "stream",
     "text": [
      "Adding lag features (lag=5): 100%|██████████| 20/20 [00:00<00:00, 1599.38it/s]\n"
     ]
    },
    {
     "name": "stdout",
     "output_type": "stream",
     "text": [
      "After time series feature extraction Memory Usage: 1883.44 MB\n",
      "Before graph-based feature extraction Memory Usage: 1883.44 MB\n",
      "Processing subsystems: ['p2', 'p3', 'p4', 'p1']\n",
      "Processing p2 with 22 components\n",
      "Too many components, selecting 10 with highest variance\n",
      "Memory cleaned: 0.00 MB freed\n",
      "Processing p3 with 7 components\n",
      "Memory cleaned: 0.00 MB freed\n",
      "Processing p4 with 12 components\n",
      "Too many components, selecting 10 with highest variance\n",
      "Memory cleaned: 0.00 MB freed\n",
      "Processing p1 with 38 components\n",
      "Too many components, selecting 10 with highest variance\n",
      "Memory cleaned: 0.00 MB freed\n",
      "Adding cross-subsystem features for p3 and p4\n",
      "Calculating graph centrality measures...\n",
      "Too many component nodes (79), selecting 50 randomly\n",
      "After graph-based feature extraction Memory Usage: 1920.33 MB\n",
      "Memory cleaned: 0.00 MB freed\n",
      "Processing chunk 19/22\n",
      "Before time series feature extraction Memory Usage: 1863.11 MB\n",
      "Too many columns (79), selecting top 50 by variance\n",
      "Processing window size 10...\n"
     ]
    },
    {
     "name": "stderr",
     "output_type": "stream",
     "text": [
      "Adding rolling features (window=10): 100%|██████████| 50/50 [00:00<00:00, 377.46it/s]"
     ]
    },
    {
     "name": "stdout",
     "output_type": "stream",
     "text": [
      "Memory cleaned: 0.00 MB freed\n",
      "Processing window size 30...\n"
     ]
    },
    {
     "name": "stderr",
     "output_type": "stream",
     "text": [
      "\n",
      "Adding rolling features (window=30): 100%|██████████| 50/50 [00:00<00:00, 301.06it/s]\n"
     ]
    },
    {
     "name": "stdout",
     "output_type": "stream",
     "text": [
      "Memory cleaned: 0.00 MB freed\n",
      "Adding lag features (lag=1)...\n"
     ]
    },
    {
     "name": "stderr",
     "output_type": "stream",
     "text": [
      "Adding lag features (lag=1): 100%|██████████| 20/20 [00:00<00:00, 2189.78it/s]\n"
     ]
    },
    {
     "name": "stdout",
     "output_type": "stream",
     "text": [
      "Adding lag features (lag=5)...\n"
     ]
    },
    {
     "name": "stderr",
     "output_type": "stream",
     "text": [
      "Adding lag features (lag=5): 100%|██████████| 20/20 [00:00<00:00, 1781.02it/s]\n"
     ]
    },
    {
     "name": "stdout",
     "output_type": "stream",
     "text": [
      "After time series feature extraction Memory Usage: 1916.11 MB\n",
      "Before graph-based feature extraction Memory Usage: 1916.11 MB\n",
      "Processing subsystems: ['p2', 'p3', 'p4', 'p1']\n",
      "Processing p2 with 22 components\n",
      "Too many components, selecting 10 with highest variance\n",
      "Memory cleaned: 0.00 MB freed\n",
      "Processing p3 with 7 components\n",
      "Memory cleaned: 0.00 MB freed\n",
      "Processing p4 with 12 components\n",
      "Too many components, selecting 10 with highest variance\n",
      "Memory cleaned: 0.00 MB freed\n",
      "Processing p1 with 38 components\n",
      "Too many components, selecting 10 with highest variance\n",
      "Memory cleaned: 0.00 MB freed\n",
      "Adding cross-subsystem features for p3 and p4\n",
      "Calculating graph centrality measures...\n",
      "Too many component nodes (79), selecting 50 randomly\n",
      "After graph-based feature extraction Memory Usage: 1974.31 MB\n",
      "Memory cleaned: 0.00 MB freed\n",
      "Processing chunk 20/22\n",
      "Before time series feature extraction Memory Usage: 1916.51 MB\n",
      "Too many columns (79), selecting top 50 by variance\n",
      "Processing window size 10...\n"
     ]
    },
    {
     "name": "stderr",
     "output_type": "stream",
     "text": [
      "Adding rolling features (window=10): 100%|██████████| 50/50 [00:00<00:00, 342.50it/s]"
     ]
    },
    {
     "name": "stdout",
     "output_type": "stream",
     "text": [
      "Memory cleaned: 0.00 MB freed\n",
      "Processing window size 30...\n"
     ]
    },
    {
     "name": "stderr",
     "output_type": "stream",
     "text": [
      "\n",
      "Adding rolling features (window=30): 100%|██████████| 50/50 [00:00<00:00, 322.15it/s]\n"
     ]
    },
    {
     "name": "stdout",
     "output_type": "stream",
     "text": [
      "Memory cleaned: 0.00 MB freed\n",
      "Adding lag features (lag=1)...\n"
     ]
    },
    {
     "name": "stderr",
     "output_type": "stream",
     "text": [
      "Adding lag features (lag=1): 100%|██████████| 20/20 [00:00<00:00, 2020.72it/s]\n"
     ]
    },
    {
     "name": "stdout",
     "output_type": "stream",
     "text": [
      "Adding lag features (lag=5)...\n"
     ]
    },
    {
     "name": "stderr",
     "output_type": "stream",
     "text": [
      "Adding lag features (lag=5): 100%|██████████| 20/20 [00:00<00:00, 1814.81it/s]\n"
     ]
    },
    {
     "name": "stdout",
     "output_type": "stream",
     "text": [
      "After time series feature extraction Memory Usage: 1975.08 MB\n",
      "Before graph-based feature extraction Memory Usage: 1974.47 MB\n",
      "Processing subsystems: ['p2', 'p3', 'p4', 'p1']\n",
      "Processing p2 with 22 components\n",
      "Too many components, selecting 10 with highest variance\n",
      "Memory cleaned: 0.00 MB freed\n",
      "Processing p3 with 7 components\n",
      "Memory cleaned: 0.00 MB freed\n",
      "Processing p4 with 12 components\n",
      "Too many components, selecting 10 with highest variance\n",
      "Memory cleaned: 0.00 MB freed\n",
      "Processing p1 with 38 components\n",
      "Too many components, selecting 10 with highest variance\n",
      "Memory cleaned: 0.00 MB freed\n",
      "Adding cross-subsystem features for p3 and p4\n",
      "Calculating graph centrality measures...\n",
      "Too many component nodes (79), selecting 50 randomly\n",
      "After graph-based feature extraction Memory Usage: 2029.02 MB\n",
      "Memory cleaned: 0.00 MB freed\n",
      "Processing chunk 21/22\n",
      "Before time series feature extraction Memory Usage: 1972.10 MB\n",
      "Too many columns (79), selecting top 50 by variance\n",
      "Processing window size 10...\n"
     ]
    },
    {
     "name": "stderr",
     "output_type": "stream",
     "text": [
      "Adding rolling features (window=10): 100%|██████████| 50/50 [00:00<00:00, 336.02it/s]\n"
     ]
    },
    {
     "name": "stdout",
     "output_type": "stream",
     "text": [
      "Memory cleaned: 0.00 MB freed\n",
      "Processing window size 30...\n"
     ]
    },
    {
     "name": "stderr",
     "output_type": "stream",
     "text": [
      "Adding rolling features (window=30): 100%|██████████| 50/50 [00:00<00:00, 289.00it/s]\n"
     ]
    },
    {
     "name": "stdout",
     "output_type": "stream",
     "text": [
      "Memory cleaned: 0.00 MB freed\n",
      "Adding lag features (lag=1)...\n"
     ]
    },
    {
     "name": "stderr",
     "output_type": "stream",
     "text": [
      "Adding lag features (lag=1): 100%|██████████| 20/20 [00:00<00:00, 1774.43it/s]\n"
     ]
    },
    {
     "name": "stdout",
     "output_type": "stream",
     "text": [
      "Adding lag features (lag=5)...\n"
     ]
    },
    {
     "name": "stderr",
     "output_type": "stream",
     "text": [
      "Adding lag features (lag=5): 100%|██████████| 20/20 [00:00<00:00, 1003.75it/s]\n"
     ]
    },
    {
     "name": "stdout",
     "output_type": "stream",
     "text": [
      "After time series feature extraction Memory Usage: 2029.76 MB\n",
      "Before graph-based feature extraction Memory Usage: 2029.76 MB\n",
      "Processing subsystems: ['p2', 'p3', 'p4', 'p1']\n",
      "Processing p2 with 22 components\n",
      "Too many components, selecting 10 with highest variance\n",
      "Memory cleaned: 0.00 MB freed\n",
      "Processing p3 with 7 components\n",
      "Memory cleaned: 0.00 MB freed\n",
      "Processing p4 with 12 components\n",
      "Too many components, selecting 10 with highest variance\n",
      "Memory cleaned: 0.00 MB freed\n",
      "Processing p1 with 38 components\n",
      "Too many components, selecting 10 with highest variance\n",
      "Memory cleaned: 0.00 MB freed\n",
      "Adding cross-subsystem features for p3 and p4\n",
      "Calculating graph centrality measures...\n",
      "Too many component nodes (79), selecting 50 randomly\n",
      "After graph-based feature extraction Memory Usage: 2082.79 MB\n",
      "Memory cleaned: 0.00 MB freed\n",
      "Processing chunk 22/22\n",
      "Before time series feature extraction Memory Usage: 2022.53 MB\n",
      "Too many columns (79), selecting top 50 by variance\n",
      "Processing window size 10...\n"
     ]
    },
    {
     "name": "stderr",
     "output_type": "stream",
     "text": [
      "Adding rolling features (window=10): 100%|██████████| 50/50 [00:00<00:00, 319.40it/s]\n"
     ]
    },
    {
     "name": "stdout",
     "output_type": "stream",
     "text": [
      "Memory cleaned: 0.00 MB freed\n",
      "Processing window size 30...\n"
     ]
    },
    {
     "name": "stderr",
     "output_type": "stream",
     "text": [
      "Adding rolling features (window=30): 100%|██████████| 50/50 [00:00<00:00, 348.72it/s]\n"
     ]
    },
    {
     "name": "stdout",
     "output_type": "stream",
     "text": [
      "Memory cleaned: 0.00 MB freed\n",
      "Adding lag features (lag=1)...\n"
     ]
    },
    {
     "name": "stderr",
     "output_type": "stream",
     "text": [
      "Adding lag features (lag=1): 100%|██████████| 20/20 [00:00<00:00, 1705.66it/s]\n"
     ]
    },
    {
     "name": "stdout",
     "output_type": "stream",
     "text": [
      "Adding lag features (lag=5)...\n"
     ]
    },
    {
     "name": "stderr",
     "output_type": "stream",
     "text": [
      "Adding lag features (lag=5): 100%|██████████| 20/20 [00:00<00:00, 1905.16it/s]\n"
     ]
    },
    {
     "name": "stdout",
     "output_type": "stream",
     "text": [
      "After time series feature extraction Memory Usage: 2057.55 MB\n",
      "Before graph-based feature extraction Memory Usage: 2057.55 MB\n",
      "Processing subsystems: ['p2', 'p3', 'p4', 'p1']\n",
      "Processing p2 with 22 components\n",
      "Too many components, selecting 10 with highest variance\n",
      "Memory cleaned: 0.00 MB freed\n",
      "Processing p3 with 7 components\n",
      "Memory cleaned: 0.00 MB freed\n",
      "Processing p4 with 12 components\n",
      "Too many components, selecting 10 with highest variance\n",
      "Memory cleaned: 0.00 MB freed\n",
      "Processing p1 with 38 components\n",
      "Too many components, selecting 10 with highest variance\n",
      "Memory cleaned: 0.00 MB freed\n",
      "Adding cross-subsystem features for p3 and p4\n",
      "Calculating graph centrality measures...\n",
      "Too many component nodes (79), selecting 50 randomly\n",
      "After graph-based feature extraction Memory Usage: 2095.86 MB\n",
      "Memory cleaned: 0.00 MB freed\n",
      "Concatenating chunks...\n",
      "Memory cleaned: 0.00 MB freed\n",
      "Processed shape: (216001, 822)\n",
      "New features added: 738\n"
     ]
    }
   ],
   "source": [
    "# Process first training file as a sample\n",
    "first_train_name = list(train_data.keys())[0]\n",
    "first_train_df = train_data[first_train_name]\n",
    "\n",
    "print(f\"Processing {first_train_name} as a sample...\")\n",
    "print(f\"Original shape: {first_train_df.shape}\")\n",
    "\n",
    "# Process the dataframe\n",
    "processed_df = process_dataframe_in_chunks(first_train_df, G, chunk_size=CHUNK_SIZE)\n",
    "\n",
    "print(f\"Processed shape: {processed_df.shape}\")\n",
    "print(f\"New features added: {processed_df.shape[1] - first_train_df.shape[1]}\")"
   ]
  },
  {
   "cell_type": "code",
   "execution_count": 20,
   "metadata": {},
   "outputs": [
    {
     "name": "stdout",
     "output_type": "stream",
     "text": [
      "Saved processed sample to ../hai-security-dataset/processed\\train1_processed_enhanced_v2.csv\n",
      "Memory cleaned: 0.00 MB freed\n"
     ]
    }
   ],
   "source": [
    "# Save processed sample\n",
    "output_path = os.path.join(OUTPUT_DIR, f\"{first_train_name}_processed_enhanced_v2.csv\")\n",
    "processed_df.to_csv(output_path, index=False)\n",
    "print(f\"Saved processed sample to {output_path}\")\n",
    "clean_memory()"
   ]
  },
  {
   "cell_type": "markdown",
   "metadata": {},
   "source": [
    "## 7. Process Test Data"
   ]
  },
  {
   "cell_type": "code",
   "execution_count": 21,
   "metadata": {},
   "outputs": [
    {
     "name": "stdout",
     "output_type": "stream",
     "text": [
      "Loading test data...\n",
      "Loading test1.csv...\n",
      "File size: 22.67 MB\n",
      "Loaded test1.csv: 43201 rows, 84 columns\n",
      "After loading Memory Usage: 2286.59 MB\n",
      "Memory cleaned: 0.00 MB freed\n",
      "Loading test2.csv...\n",
      "File size: 61.86 MB\n",
      "Loaded test2.csv: 118801 rows, 84 columns\n",
      "After loading Memory Usage: 2400.12 MB\n",
      "Memory cleaned: 0.00 MB freed\n",
      "Loading test3.csv...\n",
      "File size: 56.33 MB\n",
      "Loaded test3.csv: 108001 rows, 84 columns\n",
      "After loading Memory Usage: 2472.21 MB\n",
      "Memory cleaned: 0.00 MB freed\n",
      "Loading test4.csv...\n",
      "File size: 20.60 MB\n",
      "Loaded test4.csv: 39601 rows, 84 columns\n",
      "After loading Memory Usage: 2499.09 MB\n",
      "Memory cleaned: 0.00 MB freed\n",
      "Loading test5.csv...\n",
      "File size: 48.10 MB\n",
      "Loaded test5.csv: 92401 rows, 84 columns\n",
      "After loading Memory Usage: 2528.46 MB\n",
      "Memory cleaned: 0.00 MB freed\n",
      "After loading test data Memory Usage: 2528.46 MB\n",
      "Processing test1 as a sample...\n",
      "Original shape: (43201, 84)\n",
      "Processing dataframe with 43201 rows in chunks of 10000\n",
      "Processing chunk 1/5\n",
      "Before time series feature extraction Memory Usage: 2534.87 MB\n",
      "Too many columns (79), selecting top 50 by variance\n",
      "Processing window size 10...\n"
     ]
    },
    {
     "name": "stderr",
     "output_type": "stream",
     "text": [
      "Adding rolling features (window=10): 100%|██████████| 50/50 [00:00<00:00, 346.13it/s]\n"
     ]
    },
    {
     "name": "stdout",
     "output_type": "stream",
     "text": [
      "Memory cleaned: 0.00 MB freed\n",
      "Processing window size 30...\n"
     ]
    },
    {
     "name": "stderr",
     "output_type": "stream",
     "text": [
      "Adding rolling features (window=30): 100%|██████████| 50/50 [00:00<00:00, 317.51it/s]\n"
     ]
    },
    {
     "name": "stdout",
     "output_type": "stream",
     "text": [
      "Memory cleaned: 0.00 MB freed\n",
      "Adding lag features (lag=1)...\n"
     ]
    },
    {
     "name": "stderr",
     "output_type": "stream",
     "text": [
      "Adding lag features (lag=1): 100%|██████████| 20/20 [00:00<00:00, 2725.70it/s]\n"
     ]
    },
    {
     "name": "stdout",
     "output_type": "stream",
     "text": [
      "Adding lag features (lag=5)...\n"
     ]
    },
    {
     "name": "stderr",
     "output_type": "stream",
     "text": [
      "Adding lag features (lag=5): 100%|██████████| 20/20 [00:00<00:00, 1446.51it/s]\n"
     ]
    },
    {
     "name": "stdout",
     "output_type": "stream",
     "text": [
      "After time series feature extraction Memory Usage: 2632.89 MB\n",
      "Before graph-based feature extraction Memory Usage: 2631.59 MB\n",
      "Processing subsystems: ['p2', 'p3', 'p4', 'p1']\n",
      "Processing p2 with 22 components\n",
      "Too many components, selecting 10 with highest variance\n",
      "Memory cleaned: 0.00 MB freed\n",
      "Processing p3 with 7 components\n",
      "Memory cleaned: 0.00 MB freed\n",
      "Processing p4 with 12 components\n",
      "Too many components, selecting 10 with highest variance\n",
      "Memory cleaned: 0.00 MB freed\n",
      "Processing p1 with 38 components\n",
      "Too many components, selecting 10 with highest variance\n",
      "Memory cleaned: 0.00 MB freed\n",
      "Adding cross-subsystem features for p3 and p4\n",
      "Calculating graph centrality measures...\n",
      "Too many component nodes (79), selecting 50 randomly\n",
      "After graph-based feature extraction Memory Usage: 2672.43 MB\n",
      "Memory cleaned: 0.00 MB freed\n",
      "Processing chunk 2/5\n",
      "Before time series feature extraction Memory Usage: 2624.65 MB\n",
      "Too many columns (79), selecting top 50 by variance\n",
      "Processing window size 10...\n"
     ]
    },
    {
     "name": "stderr",
     "output_type": "stream",
     "text": [
      "Adding rolling features (window=10): 100%|██████████| 50/50 [00:00<00:00, 342.75it/s]"
     ]
    },
    {
     "name": "stdout",
     "output_type": "stream",
     "text": [
      "Memory cleaned: 0.00 MB freed\n",
      "Processing window size 30...\n"
     ]
    },
    {
     "name": "stderr",
     "output_type": "stream",
     "text": [
      "\n",
      "Adding rolling features (window=30): 100%|██████████| 50/50 [00:00<00:00, 329.01it/s]\n"
     ]
    },
    {
     "name": "stdout",
     "output_type": "stream",
     "text": [
      "Memory cleaned: 0.00 MB freed\n",
      "Adding lag features (lag=1)...\n"
     ]
    },
    {
     "name": "stderr",
     "output_type": "stream",
     "text": [
      "Adding lag features (lag=1): 100%|██████████| 20/20 [00:00<00:00, 2150.98it/s]\n"
     ]
    },
    {
     "name": "stdout",
     "output_type": "stream",
     "text": [
      "Adding lag features (lag=5)...\n"
     ]
    },
    {
     "name": "stderr",
     "output_type": "stream",
     "text": [
      "Adding lag features (lag=5): 100%|██████████| 20/20 [00:00<00:00, 1680.81it/s]\n"
     ]
    },
    {
     "name": "stdout",
     "output_type": "stream",
     "text": [
      "After time series feature extraction Memory Usage: 2681.54 MB\n",
      "Before graph-based feature extraction Memory Usage: 2680.47 MB\n",
      "Processing subsystems: ['p2', 'p3', 'p4', 'p1']\n",
      "Processing p2 with 22 components\n",
      "Too many components, selecting 10 with highest variance\n",
      "Memory cleaned: 0.00 MB freed\n",
      "Processing p3 with 7 components\n",
      "Memory cleaned: 0.00 MB freed\n",
      "Processing p4 with 12 components\n",
      "Too many components, selecting 10 with highest variance\n",
      "Memory cleaned: 0.00 MB freed\n",
      "Processing p1 with 38 components\n",
      "Too many components, selecting 10 with highest variance\n",
      "Memory cleaned: 0.00 MB freed\n",
      "Adding cross-subsystem features for p3 and p4\n",
      "Calculating graph centrality measures...\n",
      "Too many component nodes (79), selecting 50 randomly\n",
      "After graph-based feature extraction Memory Usage: 2720.89 MB\n",
      "Memory cleaned: 0.00 MB freed\n",
      "Processing chunk 3/5\n",
      "Before time series feature extraction Memory Usage: 2673.20 MB\n",
      "Too many columns (79), selecting top 50 by variance\n",
      "Processing window size 10...\n"
     ]
    },
    {
     "name": "stderr",
     "output_type": "stream",
     "text": [
      "Adding rolling features (window=10): 100%|██████████| 50/50 [00:00<00:00, 304.20it/s]\n"
     ]
    },
    {
     "name": "stdout",
     "output_type": "stream",
     "text": [
      "Memory cleaned: 0.00 MB freed\n",
      "Processing window size 30...\n"
     ]
    },
    {
     "name": "stderr",
     "output_type": "stream",
     "text": [
      "Adding rolling features (window=30): 100%|██████████| 50/50 [00:00<00:00, 279.84it/s]\n"
     ]
    },
    {
     "name": "stdout",
     "output_type": "stream",
     "text": [
      "Memory cleaned: 0.00 MB freed\n",
      "Adding lag features (lag=1)...\n"
     ]
    },
    {
     "name": "stderr",
     "output_type": "stream",
     "text": [
      "Adding lag features (lag=1): 100%|██████████| 20/20 [00:00<00:00, 2108.38it/s]\n"
     ]
    },
    {
     "name": "stdout",
     "output_type": "stream",
     "text": [
      "Adding lag features (lag=5)...\n"
     ]
    },
    {
     "name": "stderr",
     "output_type": "stream",
     "text": [
      "Adding lag features (lag=5): 100%|██████████| 20/20 [00:00<00:00, 1528.29it/s]\n"
     ]
    },
    {
     "name": "stdout",
     "output_type": "stream",
     "text": [
      "After time series feature extraction Memory Usage: 2728.33 MB\n",
      "Before graph-based feature extraction Memory Usage: 2727.26 MB\n",
      "Processing subsystems: ['p2', 'p3', 'p4', 'p1']\n",
      "Processing p2 with 22 components\n",
      "Too many components, selecting 10 with highest variance\n",
      "Memory cleaned: 0.00 MB freed\n",
      "Processing p3 with 7 components\n",
      "Memory cleaned: 0.00 MB freed\n",
      "Processing p4 with 12 components\n",
      "Too many components, selecting 10 with highest variance\n",
      "Memory cleaned: 0.00 MB freed\n",
      "Processing p1 with 38 components\n",
      "Too many components, selecting 10 with highest variance\n",
      "Memory cleaned: 0.00 MB freed\n",
      "Adding cross-subsystem features for p3 and p4\n",
      "Calculating graph centrality measures...\n",
      "Too many component nodes (79), selecting 50 randomly\n",
      "After graph-based feature extraction Memory Usage: 2768.68 MB\n",
      "Memory cleaned: 0.00 MB freed\n",
      "Processing chunk 4/5\n",
      "Before time series feature extraction Memory Usage: 2698.71 MB\n",
      "Too many columns (79), selecting top 50 by variance\n",
      "Processing window size 10...\n"
     ]
    },
    {
     "name": "stderr",
     "output_type": "stream",
     "text": [
      "Adding rolling features (window=10): 100%|██████████| 50/50 [00:00<00:00, 350.96it/s]\n"
     ]
    },
    {
     "name": "stdout",
     "output_type": "stream",
     "text": [
      "Memory cleaned: 0.00 MB freed\n",
      "Processing window size 30...\n"
     ]
    },
    {
     "name": "stderr",
     "output_type": "stream",
     "text": [
      "Adding rolling features (window=30): 100%|██████████| 50/50 [00:00<00:00, 309.57it/s]\n"
     ]
    },
    {
     "name": "stdout",
     "output_type": "stream",
     "text": [
      "Memory cleaned: 0.00 MB freed\n",
      "Adding lag features (lag=1)...\n"
     ]
    },
    {
     "name": "stderr",
     "output_type": "stream",
     "text": [
      "Adding lag features (lag=1): 100%|██████████| 20/20 [00:00<00:00, 2348.83it/s]\n"
     ]
    },
    {
     "name": "stdout",
     "output_type": "stream",
     "text": [
      "Adding lag features (lag=5)...\n"
     ]
    },
    {
     "name": "stderr",
     "output_type": "stream",
     "text": [
      "Adding lag features (lag=5): 100%|██████████| 20/20 [00:00<00:00, 1185.80it/s]\n"
     ]
    },
    {
     "name": "stdout",
     "output_type": "stream",
     "text": [
      "After time series feature extraction Memory Usage: 2750.89 MB\n",
      "Before graph-based feature extraction Memory Usage: 2750.89 MB\n",
      "Processing subsystems: ['p2', 'p3', 'p4', 'p1']\n",
      "Processing p2 with 22 components\n",
      "Too many components, selecting 10 with highest variance\n",
      "Memory cleaned: 0.00 MB freed\n",
      "Processing p3 with 7 components\n",
      "Memory cleaned: 0.00 MB freed\n",
      "Processing p4 with 12 components\n",
      "Too many components, selecting 10 with highest variance\n",
      "Memory cleaned: 0.00 MB freed\n",
      "Processing p1 with 38 components\n",
      "Too many components, selecting 10 with highest variance\n",
      "Memory cleaned: 0.00 MB freed\n",
      "Adding cross-subsystem features for p3 and p4\n",
      "Calculating graph centrality measures...\n",
      "Too many component nodes (79), selecting 50 randomly\n",
      "After graph-based feature extraction Memory Usage: 2820.97 MB\n",
      "Memory cleaned: 0.00 MB freed\n",
      "Processing chunk 5/5\n",
      "Before time series feature extraction Memory Usage: 2748.00 MB\n",
      "Too many columns (79), selecting top 50 by variance\n",
      "Processing window size 10...\n"
     ]
    },
    {
     "name": "stderr",
     "output_type": "stream",
     "text": [
      "Adding rolling features (window=10): 100%|██████████| 50/50 [00:00<00:00, 392.29it/s]"
     ]
    },
    {
     "name": "stdout",
     "output_type": "stream",
     "text": [
      "Memory cleaned: 0.00 MB freed"
     ]
    },
    {
     "name": "stderr",
     "output_type": "stream",
     "text": [
      "\n"
     ]
    },
    {
     "name": "stdout",
     "output_type": "stream",
     "text": [
      "\n",
      "Processing window size 30...\n"
     ]
    },
    {
     "name": "stderr",
     "output_type": "stream",
     "text": [
      "Adding rolling features (window=30): 100%|██████████| 50/50 [00:00<00:00, 422.48it/s]\n"
     ]
    },
    {
     "name": "stdout",
     "output_type": "stream",
     "text": [
      "Memory cleaned: 0.00 MB freed\n",
      "Adding lag features (lag=1)...\n"
     ]
    },
    {
     "name": "stderr",
     "output_type": "stream",
     "text": [
      "Adding lag features (lag=1): 100%|██████████| 20/20 [00:00<00:00, 2437.77it/s]\n"
     ]
    },
    {
     "name": "stdout",
     "output_type": "stream",
     "text": [
      "Adding lag features (lag=5)...\n"
     ]
    },
    {
     "name": "stderr",
     "output_type": "stream",
     "text": [
      "Adding lag features (lag=5): 100%|██████████| 20/20 [00:00<00:00, 1915.95it/s]\n"
     ]
    },
    {
     "name": "stdout",
     "output_type": "stream",
     "text": [
      "After time series feature extraction Memory Usage: 2788.91 MB\n",
      "Before graph-based feature extraction Memory Usage: 2788.91 MB\n",
      "Processing subsystems: ['p2', 'p3', 'p4', 'p1']\n",
      "Processing p2 with 22 components\n",
      "Too many components, selecting 10 with highest variance\n",
      "Memory cleaned: 0.00 MB freed\n",
      "Processing p3 with 7 components\n",
      "Memory cleaned: 0.00 MB freed\n",
      "Processing p4 with 12 components\n",
      "Too many components, selecting 10 with highest variance\n",
      "Memory cleaned: 0.00 MB freed\n",
      "Processing p1 with 38 components\n",
      "Too many components, selecting 10 with highest variance\n",
      "Memory cleaned: 0.00 MB freed\n",
      "Adding cross-subsystem features for p3 and p4\n",
      "Calculating graph centrality measures...\n",
      "Too many component nodes (79), selecting 50 randomly\n",
      "After graph-based feature extraction Memory Usage: 2803.62 MB\n",
      "Memory cleaned: 0.00 MB freed\n",
      "Concatenating chunks...\n",
      "Memory cleaned: 0.00 MB freed\n",
      "Processed shape: (43201, 788)\n",
      "New features added: 704\n"
     ]
    }
   ],
   "source": [
    "# Load and process test data\n",
    "print(\"Loading test data...\")\n",
    "test_data = data_loader.load_test_data()\n",
    "print_memory_usage(\"After loading test data\")\n",
    "\n",
    "# Process first test file as a sample\n",
    "first_test_name = list(test_data.keys())[0]\n",
    "first_test_df = test_data[first_test_name]\n",
    "\n",
    "print(f\"Processing {first_test_name} as a sample...\")\n",
    "print(f\"Original shape: {first_test_df.shape}\")\n",
    "\n",
    "# Process the dataframe\n",
    "processed_test_df = process_dataframe_in_chunks(first_test_df, G, chunk_size=CHUNK_SIZE)\n",
    "\n",
    "print(f\"Processed shape: {processed_test_df.shape}\")\n",
    "print(f\"New features added: {processed_test_df.shape[1] - first_test_df.shape[1]}\")"
   ]
  },
  {
   "cell_type": "code",
   "execution_count": 22,
   "metadata": {},
   "outputs": [
    {
     "name": "stdout",
     "output_type": "stream",
     "text": [
      "Saved processed test sample to ../hai-security-dataset/processed\\test1_processed_enhanced_v2.csv\n",
      "Memory cleaned: 0.00 MB freed\n"
     ]
    }
   ],
   "source": [
    "# Save processed test sample\n",
    "output_path = os.path.join(OUTPUT_DIR, f\"{first_test_name}_processed_enhanced_v2.csv\")\n",
    "processed_test_df.to_csv(output_path, index=False)\n",
    "print(f\"Saved processed test sample to {output_path}\")\n",
    "clean_memory()"
   ]
  },
  {
   "cell_type": "markdown",
   "metadata": {},
   "source": [
    "## 8. Save Graph"
   ]
  },
  {
   "cell_type": "code",
   "execution_count": 23,
   "metadata": {},
   "outputs": [
    {
     "name": "stdout",
     "output_type": "stream",
     "text": [
      "Saved enhanced graph to ../hai-security-dataset/processed\\enhanced_graph_v2.pkl\n"
     ]
    }
   ],
   "source": [
    "# Save graph\n",
    "import pickle\n",
    "with open(os.path.join(OUTPUT_DIR, 'enhanced_graph_v2.pkl'), 'wb') as f:\n",
    "    pickle.dump(G, f)\n",
    "print(f\"Saved enhanced graph to {os.path.join(OUTPUT_DIR, 'enhanced_graph_v2.pkl')}\")"
   ]
  },
  {
   "cell_type": "markdown",
   "metadata": {},
   "source": [
    "## 9. Memory-Efficient Processing Function for All Files"
   ]
  },
  {
   "cell_type": "code",
   "execution_count": 24,
   "metadata": {},
   "outputs": [],
   "source": [
    "def process_all_files(data_dir, output_dir, graph, chunk_size=10000):\n",
    "    \"\"\"\n",
    "    Process all files in a memory-efficient way.\n",
    "    \n",
    "    Args:\n",
    "        data_dir (str): Directory containing data files\n",
    "        output_dir (str): Directory to save processed files\n",
    "        graph (nx.Graph): NetworkX graph\n",
    "        chunk_size (int): Size of chunks to process\n",
    "    \"\"\"\n",
    "    # Create data loader\n",
    "    data_loader = MemoryEfficientHAIDataLoader(data_dir)\n",
    "    \n",
    "    # Get list of files\n",
    "    train_files = data_loader.train_files\n",
    "    test_files = data_loader.test_files\n",
    "    \n",
    "    # Process each file individually\n",
    "    for file_path in train_files + test_files:\n",
    "        file_name = os.path.basename(file_path).split('.')[0]\n",
    "        output_path = os.path.join(output_dir, f\"{file_name}_processed_enhanced_v2.csv\")\n",
    "        \n",
    "        # Skip if already processed\n",
    "        if os.path.exists(output_path):\n",
    "            print(f\"Skipping {file_name}, already processed\")\n",
    "            continue\n",
    "        \n",
    "        print(f\"\\nProcessing {file_name}...\")\n",
    "        \n",
    "        # Load file\n",
    "        df = data_loader.load_file(file_path)\n",
    "        \n",
    "        # Process file\n",
    "        processed_df = process_dataframe_in_chunks(df, graph, chunk_size=chunk_size)\n",
    "        \n",
    "        # Save processed file\n",
    "        processed_df.to_csv(output_path, index=False)\n",
    "        print(f\"Saved processed file to {output_path}\")\n",
    "        \n",
    "        # Clear memory\n",
    "        del df, processed_df\n",
    "        clean_memory()"
   ]
  },
  {
   "cell_type": "code",
   "execution_count": 25,
   "metadata": {},
   "outputs": [],
   "source": [
    "# This cell can be used to process all files\n",
    "# Uncomment to run (may take a long time)\n",
    "\n",
    "# process_all_files(DATA_DIR, OUTPUT_DIR, G, chunk_size=CHUNK_SIZE)"
   ]
  },
  {
   "cell_type": "markdown",
   "metadata": {},
   "source": [
    "## 10. Memory Usage Summary"
   ]
  },
  {
   "cell_type": "code",
   "execution_count": 26,
   "metadata": {},
   "outputs": [
    {
     "name": "stdout",
     "output_type": "stream",
     "text": [
      "Final Memory Usage: 2842.41 MB\n",
      "\n",
      "Memory Optimization Summary:\n",
      "1. Chunked data loading to avoid loading entire datasets at once\n",
      "2. Processing data in smaller chunks to reduce peak memory usage\n",
      "3. Limiting the number of features generated per column\n",
      "4. Using subsampling for correlation calculations\n",
      "5. Calculating graph centrality measures on subgraphs\n",
      "6. Regular garbage collection to free unused memory\n",
      "7. Processing files individually instead of all at once\n"
     ]
    }
   ],
   "source": [
    "# Print final memory usage\n",
    "print_memory_usage(\"Final\")\n",
    "\n",
    "# Print memory optimization summary\n",
    "print(\"\\nMemory Optimization Summary:\")\n",
    "print(\"1. Chunked data loading to avoid loading entire datasets at once\")\n",
    "print(\"2. Processing data in smaller chunks to reduce peak memory usage\")\n",
    "print(\"3. Limiting the number of features generated per column\")\n",
    "print(\"4. Using subsampling for correlation calculations\")\n",
    "print(\"5. Calculating graph centrality measures on subgraphs\")\n",
    "print(\"6. Regular garbage collection to free unused memory\")\n",
    "print(\"7. Processing files individually instead of all at once\")"
   ]
  }
 ],
 "metadata": {
  "kernelspec": {
   "display_name": ".venv",
   "language": "python",
   "name": "python3"
  },
  "language_info": {
   "codemirror_mode": {
    "name": "ipython",
    "version": 3
   },
   "file_extension": ".py",
   "mimetype": "text/x-python",
   "name": "python",
   "nbconvert_exporter": "python",
   "pygments_lexer": "ipython3",
   "version": "3.12.6"
  }
 },
 "nbformat": 4,
 "nbformat_minor": 4
}
