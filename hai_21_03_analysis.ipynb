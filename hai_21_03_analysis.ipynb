{
 "cells": [
  {
   "cell_type": "markdown",
   "metadata": {},
   "source": [
    "# HAI-21.03 Dataset Analysis and ResBiLSTM Model\n",
    "\n",
    "This notebook analyzes the HAI-21.03 dataset, applies feature engineering, and implements a Residual Bidirectional LSTM model for anomaly detection."
   ]
  },
  {
   "cell_type": "code",
   "execution_count": null,
   "metadata": {},
   "source": [
    "import os\n",
    "import numpy as np\n",
    "import pandas as pd\n",
    "import matplotlib.pyplot as plt\n",
    "import seaborn as sns\n",
    "from sklearn.model_selection import train_test_split\n",
    "import tensorflow as tf\n",
    "\n",
    "# Import custom utility modules\n",
    "from hai_utils import *\n",
    "from feature_engineering import *\n",
    "\n",
    "# Set random seed for reproducibility\n",
    "np.random.seed(42)\n",
    "tf.random.set_seed(42)\n",
    "\n",
    "# Set plotting style\n",
    "sns.set_style('whitegrid')\n",
    "plt.rcParams['figure.figsize'] = (12, 8)\n",
    "plt.rcParams['font.size'] = 12"
   ]
  },
  {
   "cell_type": "markdown",
   "metadata": {},
   "source": [
    "## 1. Loading Data\n",
    "\n",
    "First, we load the HAI-21.03 dataset from Parquet files."
   ]
  },
  {
   "cell_type": "code",
   "execution_count": null,
   "metadata": {},
   "source": [
    "# Set data directory\n",
    "parquet_dir = 'parquet_data'\n",
    "dataset_name = 'hai-21.03'\n",
    "\n",
    "# Load dataset\n",
    "data_dict = load_dataset(parquet_dir, dataset_name)\n",
    "\n",
    "# Display dataset information\n",
    "for name, df in data_dict.items():\n",
    "    print(f\"Dataset: {name}\")\n",
    "    print(f\"Shape: {df.shape}\")\n",
    "    print(f\"Memory usage: {df.memory_usage().sum() / 1024**2:.2f} MB\")\n",
    "    print(f\"Columns: {df.columns.tolist()[:5]}...\")\n",
    "    print(\"\\n\")"
   ]
  },
  {
   "cell_type": "markdown",
   "metadata": {},
   "source": [
    "## 2. Data Exploration\n",
    "\n",
    "Next, we explore the basic characteristics of the dataset, including time series visualization, feature correlations, and data distribution."
   ]
  },
  {
   "cell_type": "code",
   "execution_count": null,
   "metadata": {},
   "source": [
    "# Check time column\n",
    "train1_df = data_dict['train1']\n",
    "time_col = None\n",
    "for col in train1_df.columns:\n",
    "    if col.lower() in ['time', 'timestamp']:\n",
    "        time_col = col\n",
    "        break\n",
    "\n",
    "print(f\"Time column: {time_col}\")\n",
    "if time_col:\n",
    "    print(f\"Time range: {train1_df[time_col].min()} to {train1_df[time_col].max()}\")\n",
    "    print(f\"Total duration: {train1_df[time_col].max() - train1_df[time_col].min()}\")"
   ]
  },
  {
   "cell_type": "code",
   "execution_count": null,
   "metadata": {},
   "source": [
    "# Check basic statistics of the dataset\n",
    "train1_df.describe().T.head(10)"
   ]
  },
  {
   "cell_type": "code",
   "execution_count": null,
   "metadata": {},
   "source": [
    "# Check for missing values\n",
    "missing_values = train1_df.isnull().sum()\n",
    "if missing_values.sum() > 0:\n",
    "    print(\"Columns with missing values:\")\n",
    "    print(missing_values[missing_values > 0])\n",
    "else:\n",
    "    print(\"No missing values found.\")"
   ]
  },
  {
   "cell_type": "code",
   "execution_count": null,
   "metadata": {},
   "source": [
    "# Visualize time series for important features\n",
    "# Select first 10 non-time, non-target features\n",
    "feature_cols = [col for col in train1_df.columns if col != time_col and col != 'attack'][:10]\n",
    "plot_time_series(train1_df, feature_cols, time_col=time_col)"
   ]
  },
  {
   "cell_type": "code",
   "execution_count": null,
   "metadata": {},
   "source": [
    "# Visualize feature correlation matrix\n",
    "plot_correlation_matrix(train1_df, n_features=20)"
   ]
  },
  {
   "cell_type": "markdown",
   "metadata": {},
   "source": [
    "## 3. Feature Engineering\n",
    "\n",
    "Now we apply feature engineering to the dataset using our custom module to create new features."
   ]
  },
  {
   "cell_type": "code",
   "execution_count": null,
   "metadata": {},
   "source": [
    "# Create output directory\n",
    "output_dir = 'engineered_data'\n",
    "os.makedirs(output_dir, exist_ok=True)\n",
    "\n",
    "# Apply feature engineering to the training data\n",
    "print(\"Applying feature engineering to the dataset...\")\n",
    "results = process_dataset_directory(\n",
    "    parquet_dir, \n",
    "    output_dir, \n",
    "    dataset_name, \n",
    "    time_col=time_col, \n",
    "    target_col='attack', \n",
    "    feature_selection_method='importance', \n",
    "    n_features=50, \n",
    "    add_time=True, \n",
    "    add_stats=True, \n",
    "    add_lag=True, \n",
    "    add_diff=True, \n",
    "    add_interaction=True, \n",
    "    add_pca=True\n",
    ")"
   ]
  },
  {
   "cell_type": "code",
   "execution_count": null,
   "metadata": {},
   "source": [
    "# Load engineered data\n",
    "engineered_dataset_name = f\"{dataset_name}_engineered\"\n",
    "engineered_data_dict = load_dataset(output_dir, engineered_dataset_name)\n",
    "\n",
    "# Display engineered dataset information\n",
    "for name, df in engineered_data_dict.items():\n",
    "    print(f\"Dataset: {name}\")\n",
    "    print(f\"Shape: {df.shape}\")\n",
    "    print(f\"Memory usage: {df.memory_usage().sum() / 1024**2:.2f} MB\")\n",
    "    print(f\"Columns: {df.columns.tolist()[:5]}...\")\n",
    "    print(\"\\n\")"
   ]
  },
  {
   "cell_type": "code",
   "execution_count": null,
   "metadata": {},
   "source": [
    "# Visualize feature importance\n",
    "for name, importance_df in results.items():\n",
    "    if not importance_df.empty:\n",
    "        plt.figure(figsize=(12, 10))\n",
    "        plot_feature_importance(importance_df, n_features=20)\n",
    "        plt.title(f\"Feature Importance - {name}\")\n",
    "        plt.show()"
   ]
  },
  {
   "cell_type": "markdown",
   "metadata": {},
   "source": [
    "## 4. Model Preparation\n",
    "\n",
    "Now we prepare the data for model training."
   ]
  },
  {
   "cell_type": "code",
   "execution_count": null,
   "metadata": {},
   "source": [
    "# Prepare train and test datasets\n",
    "train_df = engineered_data_dict['train1']  # Use train1 as training data\n",
    "test_df = engineered_data_dict['test1']    # Use test1 as test data\n",
    "\n",
    "# Check if attack column exists\n",
    "if 'attack' not in train_df.columns:\n",
    "    print(\"Warning: No 'attack' column in training data, which is expected as training data has no attack labels.\")\n",
    "    # Add dummy attack column (all zeros) for training data\n",
    "    train_df['attack'] = 0\n",
    "\n",
    "# Preprocess data\n",
    "X_train, X_test, y_train, y_test, feature_names, scaler = preprocess_data(\n",
    "    train_df, test_df, \n",
    "    target_col='attack', \n",
    "    time_col=time_col,\n",
    "    feature_selection=False,  # We already performed feature selection during feature engineering\n",
    "    scaler_type='standard'\n",
    ")\n",
    "\n",
    "print(f\"X_train shape: {X_train.shape}\")\n",
    "print(f\"X_test shape: {X_test.shape}\")\n",
    "print(f\"Number of features: {len(feature_names)}\")"
   ]
  },
  {
   "cell_type": "code",
   "execution_count": null,
   "metadata": {},
   "source": [
    "# Create sequences for time series modeling\n",
    "time_steps = 100  # Number of time steps in each sequence\n",
    "step = 1  # Step size between sequences\n",
    "\n",
    "X_train_seq, y_train_seq = create_sequences(X_train, y_train, time_steps=time_steps, step=step)\n",
    "X_test_seq, y_test_seq = create_sequences(X_test, y_test, time_steps=time_steps, step=step)\n",
    "\n",
    "print(f\"X_train_seq shape: {X_train_seq.shape}\")\n",
    "print(f\"X_test_seq shape: {X_test_seq.shape}\")\n",
    "print(f\"y_train_seq shape: {y_train_seq.shape}\")\n",
    "print(f\"y_test_seq shape: {y_test_seq.shape}\")"
   ]
  },
  {
   "cell_type": "code",
   "execution_count": null,
   "metadata": {},
   "source": [
    "# Split training data into training and validation sets\n",
    "X_train_final, X_val, y_train_final, y_val = train_test_split(\n",
    "    X_train_seq, y_train_seq, test_size=0.2, random_state=42\n",
    ")\n",
    "\n",
    "print(f\"X_train_final shape: {X_train_final.shape}\")\n",
    "print(f\"X_val shape: {X_val.shape}\")\n",
    "print(f\"Attack ratio in training set: {np.mean(y_train_final):.4f}\")\n",
    "print(f\"Attack ratio in validation set: {np.mean(y_val):.4f}\")"
   ]
  },
  {
   "cell_type": "markdown",
   "metadata": {},
   "source": [
    "## 5. ResBiLSTM Model\n",
    "\n",
    "Now we create and train the Residual Bidirectional LSTM model."
   ]
  },
  {
   "cell_type": "code",
   "execution_count": null,
   "metadata": {},
   "source": [
    "# Create model\n",
    "input_shape = (time_steps, X_train_final.shape[2])\n",
    "model = create_residual_bilstm_model(\n",
    "    input_shape=input_shape,\n",
    "    lstm_units=64,\n",
    "    dense_units=32,\n",
    "    dropout_rate=0.3\n",
    ")\n",
    "\n",
    "# Display model summary\n",
    "model.summary()"
   ]
  },
  {
   "cell_type": "code",
   "execution_count": null,
   "metadata": {},
   "source": [
    "# Train model\n",
    "history, model = train_model(\n",
    "    model=model,\n",
    "    X_train=X_train_final,\n",
    "    y_train=y_train_final,\n",
    "    X_val=X_val,\n",
    "    y_val=y_val,\n",
    "    batch_size=32,\n",
    "    epochs=50,\n",
    "    patience=10,\n",
    "    model_path='best_resbilstm_model_hai_21_03.h5'\n",
    ")"
   ]
  },
  {
   "cell_type": "code",
   "execution_count": null,
   "metadata": {},
   "source": [
    "# Plot training history\n",
    "plot_training_history(history)"
   ]
  },
  {
   "cell_type": "markdown",
   "metadata": {},
   "source": [
    "## 6. Model Evaluation\n",
    "\n",
    "Now we evaluate the model on the test set."
   ]
  },
  {
   "cell_type": "code",
   "execution_count": null,
   "metadata": {},
   "source": [
    "# Evaluate model on test set\n",
    "results = evaluate_model(model, X_test_seq, y_test_seq)\n",
    "\n",
    "# Print evaluation metrics\n",
    "print(f\"Accuracy: {results['accuracy']:.4f}\")\n",
    "print(f\"Precision: {results['precision']:.4f}\")\n",
    "print(f\"Recall: {results['recall']:.4f}\")\n",
    "print(f\"F1 Score: {results['f1']:.4f}\")\n",
    "print(f\"AUC: {results['auc']:.4f}\")"
   ]
  },
  {
   "cell_type": "code",
   "execution_count": null,
   "metadata": {},
   "source": [
    "# Plot evaluation results\n",
    "plot_evaluation_results(results)"
   ]
  },
  {
   "cell_type": "code",
   "execution_count": null,
   "metadata": {},
   "source": [
    "# Plot feature importance\n",
    "plot_feature_importance(model, feature_names, n_top=15)"
   ]
  },
  {
   "cell_type": "markdown",
   "metadata": {},
   "source": [
    "## 7. Visualizing Predictions\n",
    "\n",
    "Finally, we visualize the model's predictions on the test set."
   ]
  },
  {
   "cell_type": "code",
   "execution_count": null,
   "metadata": {},
   "source": [
    "# Get predictions\n",
    "y_pred = results['y_pred']\n",
    "y_pred_proba = results['y_pred_proba']\n",
    "\n",
    "# Create a DataFrame with actual and predicted values\n",
    "pred_df = pd.DataFrame({\n",
    "    'Actual': y_test_seq,\n",
    "    'Predicted': y_pred.flatten(),\n",
    "    'Probability': y_pred_proba.flatten()\n",
    "})\n",
    "\n",
    "# Plot actual vs predicted values\n",
    "plt.figure(figsize=(15, 6))\n",
    "plt.plot(pred_df.index, pred_df['Actual'], label='Actual', marker='o', markersize=3, linestyle='-', alpha=0.7)\n",
    "plt.plot(pred_df.index, pred_df['Probability'], label='Predicted Probability', marker=None, linestyle='-', alpha=0.7)\n",
    "plt.axhline(y=0.5, color='r', linestyle='--', alpha=0.3, label='Threshold (0.5)')\n",
    "plt.title('Actual vs Predicted Values')\n",
    "plt.xlabel('Sample Index')\n",
    "plt.ylabel('Value')\n",
    "plt.legend()\n",
    "plt.grid(True, alpha=0.3)\n",
    "plt.show()"
   ]
  },
  {
   "cell_type": "code",
   "execution_count": null,
   "metadata": {},
   "source": [
    "# Plot prediction errors\n",
    "errors = pred_df[pred_df['Actual'] != pred_df['Predicted']]\n",
    "print(f\"Number of errors: {len(errors)} out of {len(pred_df)} samples ({len(errors)/len(pred_df)*100:.2f}%)\")\n",
    "\n",
    "# Plot false positives and false negatives\n",
    "false_positives = pred_df[(pred_df['Actual'] == 0) & (pred_df['Predicted'] == 1)]\n",
    "false_negatives = pred_df[(pred_df['Actual'] == 1) & (pred_df['Predicted'] == 0)]\n",
    "\n",
    "print(f\"False positives: {len(false_positives)} ({len(false_positives)/len(pred_df)*100:.2f}%)\")\n",
    "print(f\"False negatives: {len(false_negatives)} ({len(false_negatives)/len(pred_df)*100:.2f}%)\")\n",
    "\n",
    "# Plot probability distribution for errors\n",
    "plt.figure(figsize=(12, 6))\n",
    "sns.histplot(false_positives['Probability'], color='red', label='False Positives', alpha=0.5, bins=20)\n",
    "sns.histplot(false_negatives['Probability'], color='blue', label='False Negatives', alpha=0.5, bins=20)\n",
    "plt.axvline(x=0.5, color='black', linestyle='--', alpha=0.7, label='Threshold (0.5)')\n",
    "plt.title('Probability Distribution for Errors')\n",
    "plt.xlabel('Predicted Probability')\n",
    "plt.ylabel('Count')\n",
    "plt.legend()\n",
    "plt.grid(True, alpha=0.3)\n",
    "plt.show()"
   ]
  },
  {
   "cell_type": "code",
   "execution_count": null,
   "metadata": {},
   "source": [
    "# Plot confusion matrix\n",
    "plt.figure(figsize=(10, 8))\n",
    "cm = results['confusion_matrix']\n",
    "sns.heatmap(cm, annot=True, fmt='d', cmap='Blues')\n",
    "plt.title('Confusion Matrix')\n",
    "plt.xlabel('Predicted')\n",
    "plt.ylabel('Actual')\n",
    "plt.show()"
   ]
  },
  {
   "cell_type": "code",
   "execution_count": null,
   "metadata": {},
   "source": [
    "# Plot ROC curve\n",
    "plt.figure(figsize=(10, 8))\n",
    "plt.plot(results['fpr'], results['tpr'], label=f'ROC Curve (AUC = {results[\"auc\"]:.3f})')\n",
    "plt.plot([0, 1], [0, 1], 'k--')\n",
    "plt.xlim([0.0, 1.0])\n",
    "plt.ylim([0.0, 1.05])\n",
    "plt.xlabel('False Positive Rate')\n",
    "plt.ylabel('True Positive Rate')\n",
    "plt.title('ROC Curve')\n",
    "plt.legend(loc=\"lower right\")\n",
    "plt.grid(True, alpha=0.3)\n",
    "plt.show()"
   ]
  }
 ],
 "metadata": {
  "kernelspec": {
   "display_name": "Python 3",
   "language": "python",
   "name": "python3"
  },
  "language_info": {
   "codemirror_mode": {
    "name": "ipython",
    "version": 3
   },
   "file_extension": ".py",
   "mimetype": "text/x-python",
   "name": "python",
   "nbconvert_exporter": "python",
   "pygments_lexer": "ipython3",
   "version": "3.8.10"
  }
 },
 "nbformat": 4,
 "nbformat_minor": 4
}
