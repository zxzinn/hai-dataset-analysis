{
  "cells": [
    {
      "cell_type": "markdown",
      "metadata": {
        "id": "view-in-github",
        "colab_type": "text"
      },
      "source": [
        "<a href=\"https://colab.research.google.com/github/zxzinn/hai-dataset-analysis/blob/master/hai_dataset_analysis_advanced_test_1.ipynb\" target=\"_parent\"><img src=\"https://colab.research.google.com/assets/colab-badge.svg\" alt=\"Open In Colab\"/></a>"
      ]
    },
    {
      "cell_type": "markdown",
      "metadata": {
        "id": "cdOdFoS1BmmS"
      },
      "source": [
        "# HAI-20.07 Dataset Analysis with Advanced Efficient Architectures\n",
        "\n",
        "This notebook analyzes the HAI-20.07 dataset and implements advanced but computationally efficient architectures for attack detection in industrial control systems. The focus is on achieving high performance with low computational resources (\"低消耗高效能\")."
      ]
    },
    {
      "cell_type": "markdown",
      "metadata": {
        "id": "J6hzNqZ6BmmT"
      },
      "source": [
        "## 0. Setup and Configuration"
      ]
    },
    {
      "cell_type": "code",
      "execution_count": 1,
      "metadata": {
        "id": "LNs6R-X7BmmU",
        "outputId": "4f2550a8-ee27-455f-86fe-518c6147bd2b",
        "colab": {
          "base_uri": "https://localhost:8080/"
        }
      },
      "outputs": [
        {
          "output_type": "stream",
          "name": "stdout",
          "text": [
            "Running in Google Colab: True\n"
          ]
        }
      ],
      "source": [
        "# Check if running in Colab\n",
        "import sys\n",
        "IN_COLAB = 'google.colab' in sys.modules\n",
        "print(f\"Running in Google Colab: {IN_COLAB}\")\n",
        "\n",
        "if IN_COLAB:\n",
        "    # Install required packages\n",
        "    !pip install -q xgboost scikit-learn matplotlib seaborn torch tensorflow tqdm psutil memory_profiler kaggle"
      ]
    },
    {
      "cell_type": "markdown",
      "metadata": {
        "id": "IlBRMg3fBmmU"
      },
      "source": [
        "### Download Dataset from Kaggle\n",
        "\n",
        "To download the HAI Security Dataset from Kaggle, you need to provide your Kaggle API credentials."
      ]
    },
    {
      "cell_type": "code",
      "execution_count": 2,
      "metadata": {
        "id": "6R90Gu9DBmmV",
        "outputId": "7521209d-fdcb-4349-e5ea-978859b6ba14",
        "colab": {
          "base_uri": "https://localhost:8080/",
          "height": 440
        }
      },
      "outputs": [
        {
          "output_type": "stream",
          "name": "stdout",
          "text": [
            "Drive already mounted at /content/drive; to attempt to forcibly remount, call drive.mount(\"/content/drive\", force_remount=True).\n",
            "Requirement already satisfied: kaggle in /usr/local/lib/python3.11/dist-packages (1.6.17)\n",
            "Requirement already satisfied: six>=1.10 in /usr/local/lib/python3.11/dist-packages (from kaggle) (1.17.0)\n",
            "Requirement already satisfied: certifi>=2023.7.22 in /usr/local/lib/python3.11/dist-packages (from kaggle) (2025.1.31)\n",
            "Requirement already satisfied: python-dateutil in /usr/local/lib/python3.11/dist-packages (from kaggle) (2.8.2)\n",
            "Requirement already satisfied: requests in /usr/local/lib/python3.11/dist-packages (from kaggle) (2.32.3)\n",
            "Requirement already satisfied: tqdm in /usr/local/lib/python3.11/dist-packages (from kaggle) (4.67.1)\n",
            "Requirement already satisfied: python-slugify in /usr/local/lib/python3.11/dist-packages (from kaggle) (8.0.4)\n",
            "Requirement already satisfied: urllib3 in /usr/local/lib/python3.11/dist-packages (from kaggle) (2.3.0)\n",
            "Requirement already satisfied: bleach in /usr/local/lib/python3.11/dist-packages (from kaggle) (6.2.0)\n",
            "Requirement already satisfied: webencodings in /usr/local/lib/python3.11/dist-packages (from bleach->kaggle) (0.5.1)\n",
            "Requirement already satisfied: text-unidecode>=1.3 in /usr/local/lib/python3.11/dist-packages (from python-slugify->kaggle) (1.3)\n",
            "Requirement already satisfied: charset-normalizer<4,>=2 in /usr/local/lib/python3.11/dist-packages (from requests->kaggle) (3.4.1)\n",
            "Requirement already satisfied: idna<4,>=2.5 in /usr/local/lib/python3.11/dist-packages (from requests->kaggle) (3.10)\n",
            "請上傳您的 kaggle.json 檔案 (可從 Kaggle > 個人資料 > Account > API > Create New API Token 獲取)\n"
          ]
        },
        {
          "output_type": "display_data",
          "data": {
            "text/plain": [
              "<IPython.core.display.HTML object>"
            ],
            "text/html": [
              "\n",
              "     <input type=\"file\" id=\"files-2003e981-c1ce-40c9-8c26-76ec7d6285d7\" name=\"files[]\" multiple disabled\n",
              "        style=\"border:none\" />\n",
              "     <output id=\"result-2003e981-c1ce-40c9-8c26-76ec7d6285d7\">\n",
              "      Upload widget is only available when the cell has been executed in the\n",
              "      current browser session. Please rerun this cell to enable.\n",
              "      </output>\n",
              "      <script>// Copyright 2017 Google LLC\n",
              "//\n",
              "// Licensed under the Apache License, Version 2.0 (the \"License\");\n",
              "// you may not use this file except in compliance with the License.\n",
              "// You may obtain a copy of the License at\n",
              "//\n",
              "//      http://www.apache.org/licenses/LICENSE-2.0\n",
              "//\n",
              "// Unless required by applicable law or agreed to in writing, software\n",
              "// distributed under the License is distributed on an \"AS IS\" BASIS,\n",
              "// WITHOUT WARRANTIES OR CONDITIONS OF ANY KIND, either express or implied.\n",
              "// See the License for the specific language governing permissions and\n",
              "// limitations under the License.\n",
              "\n",
              "/**\n",
              " * @fileoverview Helpers for google.colab Python module.\n",
              " */\n",
              "(function(scope) {\n",
              "function span(text, styleAttributes = {}) {\n",
              "  const element = document.createElement('span');\n",
              "  element.textContent = text;\n",
              "  for (const key of Object.keys(styleAttributes)) {\n",
              "    element.style[key] = styleAttributes[key];\n",
              "  }\n",
              "  return element;\n",
              "}\n",
              "\n",
              "// Max number of bytes which will be uploaded at a time.\n",
              "const MAX_PAYLOAD_SIZE = 100 * 1024;\n",
              "\n",
              "function _uploadFiles(inputId, outputId) {\n",
              "  const steps = uploadFilesStep(inputId, outputId);\n",
              "  const outputElement = document.getElementById(outputId);\n",
              "  // Cache steps on the outputElement to make it available for the next call\n",
              "  // to uploadFilesContinue from Python.\n",
              "  outputElement.steps = steps;\n",
              "\n",
              "  return _uploadFilesContinue(outputId);\n",
              "}\n",
              "\n",
              "// This is roughly an async generator (not supported in the browser yet),\n",
              "// where there are multiple asynchronous steps and the Python side is going\n",
              "// to poll for completion of each step.\n",
              "// This uses a Promise to block the python side on completion of each step,\n",
              "// then passes the result of the previous step as the input to the next step.\n",
              "function _uploadFilesContinue(outputId) {\n",
              "  const outputElement = document.getElementById(outputId);\n",
              "  const steps = outputElement.steps;\n",
              "\n",
              "  const next = steps.next(outputElement.lastPromiseValue);\n",
              "  return Promise.resolve(next.value.promise).then((value) => {\n",
              "    // Cache the last promise value to make it available to the next\n",
              "    // step of the generator.\n",
              "    outputElement.lastPromiseValue = value;\n",
              "    return next.value.response;\n",
              "  });\n",
              "}\n",
              "\n",
              "/**\n",
              " * Generator function which is called between each async step of the upload\n",
              " * process.\n",
              " * @param {string} inputId Element ID of the input file picker element.\n",
              " * @param {string} outputId Element ID of the output display.\n",
              " * @return {!Iterable<!Object>} Iterable of next steps.\n",
              " */\n",
              "function* uploadFilesStep(inputId, outputId) {\n",
              "  const inputElement = document.getElementById(inputId);\n",
              "  inputElement.disabled = false;\n",
              "\n",
              "  const outputElement = document.getElementById(outputId);\n",
              "  outputElement.innerHTML = '';\n",
              "\n",
              "  const pickedPromise = new Promise((resolve) => {\n",
              "    inputElement.addEventListener('change', (e) => {\n",
              "      resolve(e.target.files);\n",
              "    });\n",
              "  });\n",
              "\n",
              "  const cancel = document.createElement('button');\n",
              "  inputElement.parentElement.appendChild(cancel);\n",
              "  cancel.textContent = 'Cancel upload';\n",
              "  const cancelPromise = new Promise((resolve) => {\n",
              "    cancel.onclick = () => {\n",
              "      resolve(null);\n",
              "    };\n",
              "  });\n",
              "\n",
              "  // Wait for the user to pick the files.\n",
              "  const files = yield {\n",
              "    promise: Promise.race([pickedPromise, cancelPromise]),\n",
              "    response: {\n",
              "      action: 'starting',\n",
              "    }\n",
              "  };\n",
              "\n",
              "  cancel.remove();\n",
              "\n",
              "  // Disable the input element since further picks are not allowed.\n",
              "  inputElement.disabled = true;\n",
              "\n",
              "  if (!files) {\n",
              "    return {\n",
              "      response: {\n",
              "        action: 'complete',\n",
              "      }\n",
              "    };\n",
              "  }\n",
              "\n",
              "  for (const file of files) {\n",
              "    const li = document.createElement('li');\n",
              "    li.append(span(file.name, {fontWeight: 'bold'}));\n",
              "    li.append(span(\n",
              "        `(${file.type || 'n/a'}) - ${file.size} bytes, ` +\n",
              "        `last modified: ${\n",
              "            file.lastModifiedDate ? file.lastModifiedDate.toLocaleDateString() :\n",
              "                                    'n/a'} - `));\n",
              "    const percent = span('0% done');\n",
              "    li.appendChild(percent);\n",
              "\n",
              "    outputElement.appendChild(li);\n",
              "\n",
              "    const fileDataPromise = new Promise((resolve) => {\n",
              "      const reader = new FileReader();\n",
              "      reader.onload = (e) => {\n",
              "        resolve(e.target.result);\n",
              "      };\n",
              "      reader.readAsArrayBuffer(file);\n",
              "    });\n",
              "    // Wait for the data to be ready.\n",
              "    let fileData = yield {\n",
              "      promise: fileDataPromise,\n",
              "      response: {\n",
              "        action: 'continue',\n",
              "      }\n",
              "    };\n",
              "\n",
              "    // Use a chunked sending to avoid message size limits. See b/62115660.\n",
              "    let position = 0;\n",
              "    do {\n",
              "      const length = Math.min(fileData.byteLength - position, MAX_PAYLOAD_SIZE);\n",
              "      const chunk = new Uint8Array(fileData, position, length);\n",
              "      position += length;\n",
              "\n",
              "      const base64 = btoa(String.fromCharCode.apply(null, chunk));\n",
              "      yield {\n",
              "        response: {\n",
              "          action: 'append',\n",
              "          file: file.name,\n",
              "          data: base64,\n",
              "        },\n",
              "      };\n",
              "\n",
              "      let percentDone = fileData.byteLength === 0 ?\n",
              "          100 :\n",
              "          Math.round((position / fileData.byteLength) * 100);\n",
              "      percent.textContent = `${percentDone}% done`;\n",
              "\n",
              "    } while (position < fileData.byteLength);\n",
              "  }\n",
              "\n",
              "  // All done.\n",
              "  yield {\n",
              "    response: {\n",
              "      action: 'complete',\n",
              "    }\n",
              "  };\n",
              "}\n",
              "\n",
              "scope.google = scope.google || {};\n",
              "scope.google.colab = scope.google.colab || {};\n",
              "scope.google.colab._files = {\n",
              "  _uploadFiles,\n",
              "  _uploadFilesContinue,\n",
              "};\n",
              "})(self);\n",
              "</script> "
            ]
          },
          "metadata": {}
        },
        {
          "output_type": "stream",
          "name": "stdout",
          "text": [
            "Saving kaggle.json to kaggle (4).json\n",
            "未找到 kaggle.json 檔案，請確保上傳正確的檔案\n",
            "mkdir: cannot create directory ‘/content/drive/My’: Operation not supported\n",
            "usage: kaggle [-h] [-v] [-W] {competitions,c,datasets,d,kernels,k,models,m,files,f,config} ...\n",
            "kaggle: error: unrecognized arguments: Drive/kaggle_datasets\n",
            "unzip:  cannot find or open /content/drive/My, /content/drive/My.zip or /content/drive/My.ZIP.\n",
            "資料集已下載並解壓縮到 /content/drive/My Drive/kaggle_datasets\n"
          ]
        }
      ],
      "source": [
        "# 掛載 Google Drive\n",
        "from google.colab import drive\n",
        "drive.mount('/content/drive')\n",
        "\n",
        "# 安裝 Kaggle API 如果尚未安裝\n",
        "!pip install kaggle\n",
        "\n",
        "# 創建 Kaggle API 配置目錄\n",
        "!mkdir -p ~/.kaggle\n",
        "\n",
        "# 要求使用者上傳 kaggle.json 檔案\n",
        "from google.colab import files\n",
        "print(\"請上傳您的 kaggle.json 檔案 (可從 Kaggle > 個人資料 > Account > API > Create New API Token 獲取)\")\n",
        "uploaded = files.upload()  # 這會打開一個檔案上傳對話框\n",
        "\n",
        "# 檢查是否有正確的檔案被上傳\n",
        "import os\n",
        "if 'kaggle.json' in uploaded:\n",
        "    # 複製到 Kaggle 的配置目錄\n",
        "    !cp kaggle.json ~/.kaggle/kaggle.json\n",
        "    # 設置正確的權限\n",
        "    !chmod 600 ~/.kaggle/kaggle.json\n",
        "    print(\"憑證已成功設置\")\n",
        "else:\n",
        "    print(\"未找到 kaggle.json 檔案，請確保上傳正確的檔案\")\n",
        "    exit()\n",
        "\n",
        "# 設定下載目標目錄\n",
        "target_dir = '/content/drive/My Drive/kaggle_datasets'\n",
        "!mkdir -p {target_dir}\n",
        "\n",
        "# 使用 Kaggle API 下載資料集\n",
        "!kaggle datasets download icsdataset/hai-security-dataset -p {target_dir}\n",
        "\n",
        "# 解壓縮\n",
        "!unzip -q {target_dir}/hai-security-dataset.zip -d {target_dir}\n",
        "\n",
        "print(f\"資料集已下載並解壓縮到 {target_dir}\")"
      ]
    },
    {
      "cell_type": "code",
      "execution_count": 35,
      "metadata": {
        "id": "S4SzgfwABmmV",
        "outputId": "638ed38c-ee13-42e0-c54a-c535b890cbc3",
        "colab": {
          "base_uri": "https://localhost:8080/"
        }
      },
      "outputs": [
        {
          "output_type": "stream",
          "name": "stdout",
          "text": [
            "Downloading HAI Security Dataset from Kaggle...\n",
            "Dataset URL: https://www.kaggle.com/datasets/icsdataset/hai-security-dataset\n",
            "License(s): CC-BY-SA-4.0\n",
            "hai-security-dataset.zip: Skipping, found more recently modified local copy (use --force to force download)\n",
            "\n",
            "Extracting dataset...\n",
            "replace /content/graph/boiler/dcs_1001h.json? [y]es, [n]o, [A]ll, [N]one, [r]ename: Dataset extracted successfully.\n",
            "\n",
            "Contents of the dataset directory:\n",
            "ls: cannot access '/content/hai-security-dataset/hai-20.07': No such file or directory\n"
          ]
        }
      ],
      "source": [
        "# Download and extract the HAI Security Dataset\n",
        "if IN_COLAB:\n",
        "    import os\n",
        "\n",
        "    # Check if dataset already exists\n",
        "    if not os.path.exists('/content/hai-security-dataset'):\n",
        "        print(\"Downloading HAI Security Dataset from Kaggle...\")\n",
        "        !kaggle datasets download icsdataset/hai-security-dataset -p /content/\n",
        "\n",
        "        print(\"\\nExtracting dataset...\")\n",
        "        !unzip -q /content/hai-security-dataset.zip -d /content/\n",
        "        print(\"Dataset extracted successfully.\")\n",
        "    else:\n",
        "        print(\"HAI Security Dataset already exists in /content/hai-security-dataset\")\n",
        "\n",
        "    # List the contents of the dataset directory\n",
        "    print(\"\\nContents of the dataset directory:\")\n",
        "    !ls -la /content/hai-security-dataset/hai-20.07"
      ]
    },
    {
      "cell_type": "code",
      "execution_count": 1,
      "metadata": {
        "id": "PXKJ7naDBmmV",
        "outputId": "82580fc4-3207-4e67-a52c-272d157a3815",
        "colab": {
          "base_uri": "https://localhost:8080/"
        }
      },
      "outputs": [
        {
          "output_type": "stream",
          "name": "stdout",
          "text": [
            "CUDA available: True\n",
            "GPU device name: NVIDIA A100-SXM4-40GB\n",
            "Using device: cuda:0\n"
          ]
        }
      ],
      "source": [
        "# Import necessary libraries\n",
        "import pandas as pd\n",
        "import numpy as np\n",
        "import matplotlib.pyplot as plt\n",
        "import seaborn as sns\n",
        "from sklearn.model_selection import train_test_split\n",
        "from sklearn.preprocessing import StandardScaler\n",
        "from sklearn.metrics import classification_report, confusion_matrix, accuracy_score, f1_score\n",
        "import xgboost as xgb\n",
        "import warnings\n",
        "import time\n",
        "import os\n",
        "import psutil\n",
        "from tqdm.notebook import tqdm\n",
        "\n",
        "# Deep learning libraries\n",
        "import torch\n",
        "import torch.nn as nn\n",
        "import torch.optim as optim\n",
        "from torch.utils.data import DataLoader, TensorDataset\n",
        "import tensorflow as tf\n",
        "from tensorflow.keras.models import Model, Sequential\n",
        "from tensorflow.keras.layers import Dense, LSTM, Conv1D, Flatten, Input, Dropout, BatchNormalization\n",
        "\n",
        "# Set display options\n",
        "pd.set_option('display.max_columns', None)\n",
        "warnings.filterwarnings('ignore')\n",
        "\n",
        "# Set random seeds for reproducibility\n",
        "np.random.seed(42)\n",
        "torch.manual_seed(42)\n",
        "tf.random.set_seed(42)\n",
        "\n",
        "# Check for GPU availability\n",
        "print(f\"CUDA available: {torch.cuda.is_available()}\")\n",
        "if torch.cuda.is_available():\n",
        "    print(f\"GPU device name: {torch.cuda.get_device_name(0)}\")\n",
        "\n",
        "# Set device (GPU if available, otherwise CPU)\n",
        "device = torch.device(\"cuda:0\" if torch.cuda.is_available() else \"cpu\")\n",
        "print(f\"Using device: {device}\")"
      ]
    },
    {
      "cell_type": "code",
      "execution_count": 2,
      "metadata": {
        "id": "IKP-lCDCBmmW"
      },
      "outputs": [],
      "source": [
        "# Define a function to measure memory usage\n",
        "def get_memory_usage():\n",
        "    \"\"\"Get current memory usage in MB\"\"\"\n",
        "    process = psutil.Process(os.getpid())\n",
        "    return process.memory_info().rss / (1024 * 1024)  # Convert to MB\n",
        "\n",
        "# Define a class to track model performance and efficiency\n",
        "class ModelEvaluator:\n",
        "    def __init__(self):\n",
        "        self.results = []\n",
        "\n",
        "    def add_result(self, model_name, accuracy, precision, recall, f1, training_time, inference_time, memory_usage):\n",
        "        self.results.append({\n",
        "            'Model': model_name,\n",
        "            'Accuracy': accuracy,\n",
        "            'Precision': precision,\n",
        "            'Recall': recall,\n",
        "            'F1 Score': f1,\n",
        "            'Training Time (s)': training_time,\n",
        "            'Inference Time (ms)': inference_time * 1000,  # Convert to milliseconds\n",
        "            'Memory Usage (MB)': memory_usage\n",
        "        })\n",
        "\n",
        "    def get_results_df(self):\n",
        "        return pd.DataFrame(self.results)\n",
        "\n",
        "    def plot_comparison(self):\n",
        "        results_df = self.get_results_df()\n",
        "\n",
        "        # Plot performance metrics\n",
        "        plt.figure(figsize=(15, 10))\n",
        "\n",
        "        # Performance metrics\n",
        "        plt.subplot(2, 2, 1)\n",
        "        performance_df = results_df.melt(id_vars=['Model'],\n",
        "                                        value_vars=['Accuracy', 'Precision', 'Recall', 'F1 Score'],\n",
        "                                        var_name='Metric', value_name='Value')\n",
        "        sns.barplot(x='Model', y='Value', hue='Metric', data=performance_df)\n",
        "        plt.title('Performance Metrics Comparison')\n",
        "        plt.ylim(0.8, 1.0)  # Adjust as needed\n",
        "        plt.xticks(rotation=45)\n",
        "        plt.legend(loc='lower right')\n",
        "\n",
        "        # Training time\n",
        "        plt.subplot(2, 2, 2)\n",
        "        sns.barplot(x='Model', y='Training Time (s)', data=results_df)\n",
        "        plt.title('Training Time Comparison (seconds)')\n",
        "        plt.xticks(rotation=45)\n",
        "        plt.yscale('log')  # Log scale for better visualization\n",
        "\n",
        "        # Inference time\n",
        "        plt.subplot(2, 2, 3)\n",
        "        sns.barplot(x='Model', y='Inference Time (ms)', data=results_df)\n",
        "        plt.title('Inference Time Comparison (milliseconds)')\n",
        "        plt.xticks(rotation=45)\n",
        "        plt.yscale('log')  # Log scale for better visualization\n",
        "\n",
        "        # Memory usage\n",
        "        plt.subplot(2, 2, 4)\n",
        "        sns.barplot(x='Model', y='Memory Usage (MB)', data=results_df)\n",
        "        plt.title('Memory Usage Comparison (MB)')\n",
        "        plt.xticks(rotation=45)\n",
        "\n",
        "        plt.tight_layout()\n",
        "        plt.show()\n",
        "\n",
        "# Initialize the evaluator\n",
        "evaluator = ModelEvaluator()"
      ]
    },
    {
      "cell_type": "markdown",
      "metadata": {
        "id": "cZYnaR7dBmmW"
      },
      "source": [
        "## 1. Load and Preprocess Data"
      ]
    },
    {
      "cell_type": "code",
      "execution_count": 3,
      "metadata": {
        "id": "12CKHS4gBmmW",
        "outputId": "9182693c-9786-464f-f5af-3559b68bace4",
        "colab": {
          "base_uri": "https://localhost:8080/"
        }
      },
      "outputs": [
        {
          "output_type": "stream",
          "name": "stdout",
          "text": [
            "Training Dataset 1 Shape: (309600, 64)\n",
            "Training Dataset 2 Shape: (241200, 64)\n",
            "Testing Dataset 1 Shape: (291600, 64)\n",
            "Testing Dataset 2 Shape: (153000, 64)\n"
          ]
        }
      ],
      "source": [
        "\n",
        "data_path = '/content/drive/MyDrive/kaggle_datasets/hai-20.07/'\n",
        "\n",
        "# Load training datasets\n",
        "train1 = pd.read_csv(f'{data_path}train1.csv', sep=';')\n",
        "train2 = pd.read_csv(f'{data_path}train2.csv', sep=';')\n",
        "\n",
        "# Load testing datasets\n",
        "test1 = pd.read_csv(f'{data_path}test1.csv', sep=';')\n",
        "test2 = pd.read_csv(f'{data_path}test2.csv', sep=';')\n",
        "\n",
        "# Display basic information about the datasets\n",
        "print(\"Training Dataset 1 Shape:\", train1.shape)\n",
        "print(\"Training Dataset 2 Shape:\", train2.shape)\n",
        "print(\"Testing Dataset 1 Shape:\", test1.shape)\n",
        "print(\"Testing Dataset 2 Shape:\", test2.shape)"
      ]
    },
    {
      "cell_type": "code",
      "execution_count": 4,
      "metadata": {
        "id": "Y_hFDEhvBmmX",
        "outputId": "349e4afc-91c5-4ef2-ad5a-6433878d7960",
        "colab": {
          "base_uri": "https://localhost:8080/"
        }
      },
      "outputs": [
        {
          "output_type": "stream",
          "name": "stdout",
          "text": [
            "Number of feature columns: 59\n",
            "First few feature columns: ['P1_B2004', 'P1_B2016', 'P1_B3004', 'P1_B3005', 'P1_B4002']...\n",
            "\n",
            "Attack distribution in train1:\n",
            "attack\n",
            "0    100.0\n",
            "Name: proportion, dtype: float64\n",
            "\n",
            "Attack distribution in test1:\n",
            "attack\n",
            "0    96.04321\n",
            "1     3.95679\n",
            "Name: proportion, dtype: float64\n"
          ]
        }
      ],
      "source": [
        "# Convert time column to datetime\n",
        "train1['time'] = pd.to_datetime(train1['time'])\n",
        "train2['time'] = pd.to_datetime(train2['time'])\n",
        "test1['time'] = pd.to_datetime(test1['time'])\n",
        "test2['time'] = pd.to_datetime(test2['time'])\n",
        "\n",
        "# Identify feature columns (excluding time and attack labels)\n",
        "feature_columns = [col for col in train1.columns if col not in ['time', 'attack', 'attack_P1', 'attack_P2', 'attack_P3']]\n",
        "print(f\"Number of feature columns: {len(feature_columns)}\")\n",
        "print(f\"First few feature columns: {feature_columns[:5]}...\")\n",
        "\n",
        "# Check attack distribution\n",
        "print(\"\\nAttack distribution in train1:\")\n",
        "print(train1['attack'].value_counts(normalize=True) * 100)\n",
        "print(\"\\nAttack distribution in test1:\")\n",
        "print(test1['attack'].value_counts(normalize=True) * 100)"
      ]
    },
    {
      "cell_type": "code",
      "execution_count": 5,
      "metadata": {
        "id": "MWAEd8y1BmmX",
        "outputId": "09a9502b-eb26-4857-f24b-2a2fece590af",
        "colab": {
          "base_uri": "https://localhost:8080/"
        }
      },
      "outputs": [
        {
          "output_type": "stream",
          "name": "stdout",
          "text": [
            "X_train_scaled shape: (550800, 59)\n",
            "X_test_scaled shape: (444600, 59)\n"
          ]
        }
      ],
      "source": [
        "# Combine training datasets\n",
        "train_combined = pd.concat([train1, train2], ignore_index=True)\n",
        "\n",
        "# Combine testing datasets\n",
        "test_combined = pd.concat([test1, test2], ignore_index=True)\n",
        "\n",
        "# Extract features and target\n",
        "X_train = train_combined[feature_columns]\n",
        "y_train = train_combined['attack']\n",
        "\n",
        "X_test = test_combined[feature_columns]\n",
        "y_test = test_combined['attack']\n",
        "\n",
        "# Scale the features\n",
        "scaler = StandardScaler()\n",
        "X_train_scaled = scaler.fit_transform(X_train)\n",
        "X_test_scaled = scaler.transform(X_test)\n",
        "\n",
        "print(\"X_train_scaled shape:\", X_train_scaled.shape)\n",
        "print(\"X_test_scaled shape:\", X_test_scaled.shape)"
      ]
    },
    {
      "cell_type": "markdown",
      "metadata": {
        "id": "5huQvsNNBmmX"
      },
      "source": [
        "## 2. Advanced Feature Engineering"
      ]
    },
    {
      "cell_type": "code",
      "execution_count": 6,
      "metadata": {
        "id": "q3OjS67yBmmX"
      },
      "outputs": [],
      "source": [
        "# Create a function to add time-based features\n",
        "def add_time_features(df):\n",
        "    # Make a copy to avoid modifying the original dataframe\n",
        "    df_copy = df.copy()\n",
        "\n",
        "    # Extract time-based features\n",
        "    df_copy['hour'] = df_copy['time'].dt.hour\n",
        "    df_copy['minute'] = df_copy['time'].dt.minute\n",
        "    df_copy['second'] = df_copy['time'].dt.second\n",
        "    df_copy['day_of_week'] = df_copy['time'].dt.dayofweek\n",
        "\n",
        "    # Add cyclical time features (to capture periodicity)\n",
        "    df_copy['hour_sin'] = np.sin(2 * np.pi * df_copy['hour'] / 24)\n",
        "    df_copy['hour_cos'] = np.cos(2 * np.pi * df_copy['hour'] / 24)\n",
        "    df_copy['minute_sin'] = np.sin(2 * np.pi * df_copy['minute'] / 60)\n",
        "    df_copy['minute_cos'] = np.cos(2 * np.pi * df_copy['minute'] / 60)\n",
        "\n",
        "    return df_copy\n",
        "\n",
        "# Create a function to add rolling window statistics\n",
        "def add_rolling_features(df, window_sizes=[5, 10, 20]):\n",
        "    # Make a copy to avoid modifying the original dataframe\n",
        "    df_copy = df.copy()\n",
        "\n",
        "    # Sort by time to ensure correct rolling window calculation\n",
        "    df_copy = df_copy.sort_values('time')\n",
        "\n",
        "    # Select features for rolling statistics (exclude time and attack columns)\n",
        "    rolling_features = [col for col in df_copy.columns if col not in ['time', 'attack', 'attack_P1', 'attack_P2', 'attack_P3']]\n",
        "\n",
        "    # Use only the top 5 most important features for rolling statistics to keep it efficient\n",
        "    top_features = rolling_features[:5]  # In a real scenario, you would select based on feature importance\n",
        "\n",
        "    # Calculate rolling statistics for different window sizes\n",
        "    for window_size in window_sizes:\n",
        "        for feature in top_features:\n",
        "            df_copy[f'{feature}_rolling_mean_{window_size}'] = df_copy[feature].rolling(window=window_size).mean()\n",
        "            df_copy[f'{feature}_rolling_std_{window_size}'] = df_copy[feature].rolling(window=window_size).std()\n",
        "\n",
        "    # Drop NaN values created by rolling window\n",
        "    df_copy = df_copy.dropna()\n",
        "\n",
        "    return df_copy\n",
        "\n",
        "# Create a function to add lag features\n",
        "def add_lag_features(df, lag_steps=[1, 2, 3]):\n",
        "    # Make a copy to avoid modifying the original dataframe\n",
        "    df_copy = df.copy()\n",
        "\n",
        "    # Sort by time to ensure correct lag calculation\n",
        "    df_copy = df_copy.sort_values('time')\n",
        "\n",
        "    # Select features for lag (exclude time and attack columns)\n",
        "    lag_features = [col for col in df_copy.columns if col not in ['time', 'attack', 'attack_P1', 'attack_P2', 'attack_P3']]\n",
        "\n",
        "    # Use only the top 5 most important features for lag to keep it efficient\n",
        "    top_features = lag_features[:5]  # In a real scenario, you would select based on feature importance\n",
        "\n",
        "    # Calculate lag features\n",
        "    for lag in lag_steps:\n",
        "        for feature in top_features:\n",
        "            df_copy[f'{feature}_lag_{lag}'] = df_copy[feature].shift(lag)\n",
        "\n",
        "    # Drop NaN values created by lag\n",
        "    df_copy = df_copy.dropna()\n",
        "\n",
        "    return df_copy"
      ]
    },
    {
      "cell_type": "code",
      "execution_count": 7,
      "metadata": {
        "id": "5VBWoiC9BmmX",
        "outputId": "07b712a2-345a-4446-af44-4a612be30833",
        "colab": {
          "base_uri": "https://localhost:8080/"
        }
      },
      "outputs": [
        {
          "output_type": "stream",
          "name": "stdout",
          "text": [
            "Applying feature engineering...\n",
            "X_train_enhanced_scaled shape: (550778, 112)\n",
            "X_test_enhanced_scaled shape: (444578, 112)\n",
            "Number of enhanced features: 112\n"
          ]
        }
      ],
      "source": [
        "# Apply all feature engineering steps\n",
        "print(\"Applying feature engineering...\")\n",
        "# Add time features\n",
        "train_features = add_time_features(train_combined)\n",
        "test_features = add_time_features(test_combined)\n",
        "\n",
        "# Add rolling features\n",
        "train_features = add_rolling_features(train_features)\n",
        "test_features = add_rolling_features(test_features)\n",
        "\n",
        "# Add lag features\n",
        "train_features = add_lag_features(train_features)\n",
        "test_features = add_lag_features(test_features)\n",
        "\n",
        "# Extract features and target from the enhanced datasets\n",
        "feature_columns_enhanced = [col for col in train_features.columns\n",
        "                           if col not in ['time', 'attack', 'attack_P1', 'attack_P2', 'attack_P3']]\n",
        "\n",
        "X_train_enhanced = train_features[feature_columns_enhanced]\n",
        "y_train_enhanced = train_features['attack']\n",
        "\n",
        "X_test_enhanced = test_features[feature_columns_enhanced]\n",
        "y_test_enhanced = test_features['attack']\n",
        "\n",
        "# Scale the enhanced features\n",
        "scaler_enhanced = StandardScaler()\n",
        "X_train_enhanced_scaled = scaler_enhanced.fit_transform(X_train_enhanced)\n",
        "X_test_enhanced_scaled = scaler_enhanced.transform(X_test_enhanced)\n",
        "\n",
        "print(\"X_train_enhanced_scaled shape:\", X_train_enhanced_scaled.shape)\n",
        "print(\"X_test_enhanced_scaled shape:\", X_test_enhanced_scaled.shape)\n",
        "print(f\"Number of enhanced features: {X_train_enhanced_scaled.shape[1]}\")"
      ]
    },
    {
      "cell_type": "markdown",
      "metadata": {
        "id": "vtWYzxW5BmmY"
      },
      "source": [
        "## 3. Prepare Data for Sequence Models"
      ]
    },
    {
      "cell_type": "code",
      "execution_count": 8,
      "metadata": {
        "id": "ufdhg9YxBmmY",
        "outputId": "1512ac36-4dec-49c2-f65e-cc1226c7da34",
        "colab": {
          "base_uri": "https://localhost:8080/"
        }
      },
      "outputs": [
        {
          "output_type": "stream",
          "name": "stdout",
          "text": [
            "X_train_seq shape: (550790, 10, 59)\n",
            "y_train_seq shape: (550790,)\n",
            "X_test_seq shape: (444590, 10, 59)\n",
            "y_test_seq shape: (444590,)\n"
          ]
        }
      ],
      "source": [
        "# Function to create sequences for time series models\n",
        "def create_sequences(X, y, time_steps=10):\n",
        "    Xs, ys = [], []\n",
        "    for i in range(len(X) - time_steps):\n",
        "        Xs.append(X[i:(i + time_steps)])\n",
        "        ys.append(y[i + time_steps])\n",
        "    return np.array(Xs), np.array(ys)\n",
        "\n",
        "# Create sequences for training and testing\n",
        "TIME_STEPS = 10\n",
        "X_train_seq, y_train_seq = create_sequences(X_train_scaled, y_train.values, TIME_STEPS)\n",
        "X_test_seq, y_test_seq = create_sequences(X_test_scaled, y_test.values, TIME_STEPS)\n",
        "\n",
        "print(\"X_train_seq shape:\", X_train_seq.shape)\n",
        "print(\"y_train_seq shape:\", y_train_seq.shape)\n",
        "print(\"X_test_seq shape:\", X_test_seq.shape)\n",
        "print(\"y_test_seq shape:\", y_test_seq.shape)"
      ]
    },
    {
      "cell_type": "markdown",
      "metadata": {
        "id": "ghYT0qN8BmmY"
      },
      "source": [
        "## 4. Model 1: Lightweight Temporal Convolutional Network (TCN)"
      ]
    },
    {
      "cell_type": "code",
      "execution_count": 9,
      "metadata": {
        "id": "iAwOOQABBmmY"
      },
      "outputs": [],
      "source": [
        "# Define a lightweight TCN model using PyTorch\n",
        "class LightweightTCN(nn.Module):\n",
        "    def __init__(self, input_size, num_channels=[32, 16], kernel_size=3, dropout=0.2):\n",
        "        super(LightweightTCN, self).__init__()\n",
        "        layers = []\n",
        "        num_levels = len(num_channels)\n",
        "\n",
        "        # Input layer\n",
        "        layers.append(nn.Conv1d(in_channels=input_size, out_channels=num_channels[0], kernel_size=kernel_size, padding=kernel_size//2))\n",
        "        layers.append(nn.ReLU())\n",
        "        layers.append(nn.BatchNorm1d(num_channels[0]))\n",
        "        layers.append(nn.Dropout(dropout))\n",
        "\n",
        "        # Hidden layers\n",
        "        for i in range(num_levels - 1):\n",
        "            dilation_size = 2 ** i\n",
        "            in_channels = num_channels[i]\n",
        "            out_channels = num_channels[i + 1]\n",
        "            layers.append(nn.Conv1d(in_channels=in_channels, out_channels=out_channels,\n",
        "                                   kernel_size=kernel_size, padding=dilation_size, dilation=dilation_size))\n",
        "            layers.append(nn.ReLU())\n",
        "            layers.append(nn.BatchNorm1d(out_channels))\n",
        "            layers.append(nn.Dropout(dropout))\n",
        "\n",
        "        self.network = nn.Sequential(*layers)\n",
        "        self.linear = nn.Linear(num_channels[-1], 1)\n",
        "        self.sigmoid = nn.Sigmoid()\n",
        "\n",
        "    def forward(self, x):\n",
        "        # x shape: [batch, time_steps, features]\n",
        "        # Convert to [batch, features, time_steps] for Conv1D\n",
        "        x = x.permute(0, 2, 1)\n",
        "        x = self.network(x)\n",
        "        # Global average pooling\n",
        "        x = torch.mean(x, dim=2)\n",
        "        x = self.linear(x)\n",
        "        x = self.sigmoid(x)\n",
        "        return x"
      ]
    },
    {
      "cell_type": "code",
      "execution_count": 10,
      "metadata": {
        "id": "-93ltALlBmmY",
        "outputId": "7b95c8ef-fbb7-474e-a610-e84ba1a5487d",
        "colab": {
          "base_uri": "https://localhost:8080/"
        }
      },
      "outputs": [
        {
          "output_type": "stream",
          "name": "stdout",
          "text": [
            "Training Lightweight TCN model...\n",
            "Epoch 1/10, Loss: 0.0153\n",
            "Epoch 2/10, Loss: 0.0004\n",
            "Epoch 4/10, Loss: 0.0002\n",
            "Epoch 6/10, Loss: 0.0002\n",
            "Epoch 8/10, Loss: 0.0002\n",
            "Epoch 10/10, Loss: 0.0001\n",
            "Training time: 251.22 seconds\n",
            "Memory used: 379.73 MB\n",
            "Average inference time per sample: 0.0008 ms\n",
            "Accuracy: 0.9764\n",
            "Precision: 0.9498\n",
            "Recall: 0.4224\n",
            "F1 Score: 0.5848\n"
          ]
        }
      ],
      "source": [
        "# Train the TCN model\n",
        "def train_tcn_model(X_train, y_train, X_test, y_test):\n",
        "    # Convert data to PyTorch tensors\n",
        "    X_train_tensor = torch.FloatTensor(X_train)\n",
        "    y_train_tensor = torch.FloatTensor(y_train).reshape(-1, 1)\n",
        "    X_test_tensor = torch.FloatTensor(X_test)\n",
        "\n",
        "    # Create DataLoader for batch processing\n",
        "    train_dataset = TensorDataset(X_train_tensor, y_train_tensor)\n",
        "    train_loader = DataLoader(train_dataset, batch_size=64, shuffle=True)\n",
        "\n",
        "    # Initialize model, loss function, and optimizer\n",
        "    input_size = X_train.shape[2]  # Number of features\n",
        "    model = LightweightTCN(input_size).to(device)\n",
        "    criterion = nn.BCELoss()\n",
        "    optimizer = optim.Adam(model.parameters(), lr=0.001)\n",
        "\n",
        "    # Measure memory usage before training\n",
        "    memory_before = get_memory_usage()\n",
        "\n",
        "    # Train the model\n",
        "    start_time = time.time()\n",
        "    num_epochs = 10\n",
        "    for epoch in range(num_epochs):\n",
        "        model.train()\n",
        "        running_loss = 0.0\n",
        "        for inputs, labels in train_loader:\n",
        "            inputs, labels = inputs.to(device), labels.to(device)\n",
        "\n",
        "            # Zero the parameter gradients\n",
        "            optimizer.zero_grad()\n",
        "\n",
        "            # Forward pass\n",
        "            outputs = model(inputs)\n",
        "            loss = criterion(outputs, labels)\n",
        "\n",
        "            # Backward pass and optimize\n",
        "            loss.backward()\n",
        "            optimizer.step()\n",
        "\n",
        "            running_loss += loss.item() * inputs.size(0)\n",
        "\n",
        "        epoch_loss = running_loss / len(train_dataset)\n",
        "        if (epoch + 1) % 2 == 0 or epoch == 0:\n",
        "            print(f'Epoch {epoch+1}/{num_epochs}, Loss: {epoch_loss:.4f}')\n",
        "\n",
        "    training_time = time.time() - start_time\n",
        "    print(f\"Training time: {training_time:.2f} seconds\")\n",
        "\n",
        "    # Measure memory usage after training\n",
        "    memory_after = get_memory_usage()\n",
        "    memory_used = memory_after - memory_before\n",
        "    print(f\"Memory used: {memory_used:.2f} MB\")\n",
        "\n",
        "    # Evaluate the model\n",
        "    model.eval()\n",
        "    with torch.no_grad():\n",
        "        # Measure inference time\n",
        "        inference_start = time.time()\n",
        "        X_test_tensor = X_test_tensor.to(device)\n",
        "        y_pred_proba = model(X_test_tensor).cpu().numpy()\n",
        "        inference_time = (time.time() - inference_start) / len(X_test_tensor)\n",
        "        print(f\"Average inference time per sample: {inference_time*1000:.4f} ms\")\n",
        "\n",
        "        y_pred = (y_pred_proba > 0.5).astype(int).reshape(-1)\n",
        "\n",
        "    # Calculate metrics\n",
        "    accuracy = accuracy_score(y_test, y_pred)\n",
        "    precision = classification_report(y_test, y_pred, output_dict=True)['1']['precision']\n",
        "    recall = classification_report(y_test, y_pred, output_dict=True)['1']['recall']\n",
        "    f1 = f1_score(y_test, y_pred)\n",
        "\n",
        "    print(f\"Accuracy: {accuracy:.4f}\")\n",
        "    print(f\"Precision: {precision:.4f}\")\n",
        "    print(f\"Recall: {recall:.4f}\")\n",
        "    print(f\"F1 Score: {f1:.4f}\")\n",
        "\n",
        "    # Add results to evaluator\n",
        "    evaluator.add_result('Lightweight TCN', accuracy, precision, recall, f1,\n",
        "                        training_time, inference_time, memory_used)\n",
        "\n",
        "    return model, y_pred, y_pred_proba\n",
        "\n",
        "# Train the TCN model\n",
        "print(\"Training Lightweight TCN model...\")\n",
        "tcn_model, y_pred_tcn, y_prob_tcn = train_tcn_model(X_train_seq, y_train_seq, X_test_seq, y_test_seq)"
      ]
    },
    {
      "cell_type": "markdown",
      "metadata": {
        "id": "VxUDUCLlBmmY"
      },
      "source": [
        "## 5. Model 2: Optimized LSTM with Attention"
      ]
    },
    {
      "cell_type": "code",
      "execution_count": 11,
      "metadata": {
        "id": "YUlm1tV9BmmY"
      },
      "outputs": [],
      "source": [
        "# Define a custom attention layer for Keras\n",
        "class AttentionLayer(tf.keras.layers.Layer):\n",
        "    def __init__(self, **kwargs):\n",
        "        super(AttentionLayer, self).__init__(**kwargs)\n",
        "\n",
        "    def build(self, input_shape):\n",
        "        self.W = self.add_weight(name='attention_weight',\n",
        "                                 shape=(input_shape[-1], 1),\n",
        "                                 initializer='random_normal',\n",
        "                                 trainable=True)\n",
        "        self.b = self.add_weight(name='attention_bias',\n",
        "                                 shape=(input_shape[1], 1),\n",
        "                                 initializer='zeros',\n",
        "                                 trainable=True)\n",
        "        super(AttentionLayer, self).build(input_shape)\n",
        "\n",
        "    def call(self, x):\n",
        "        # Alignment scores. Shape: (batch_size, seq_len, 1)\n",
        "        e = tf.keras.backend.tanh(tf.keras.backend.dot(x, self.W) + self.b)\n",
        "\n",
        "        # Remove the last dimension. Shape: (batch_size, seq_len)\n",
        "        e = tf.keras.backend.squeeze(e, axis=-1)\n",
        "\n",
        "        # Compute the weights. Shape: (batch_size, seq_len)\n",
        "        alpha = tf.keras.backend.softmax(e)\n",
        "\n",
        "        # Shape: (batch_size, seq_len, 1)\n",
        "        alpha_expanded = tf.keras.backend.expand_dims(alpha)\n",
        "\n",
        "        # Compute the context vector. Shape: (batch_size, features)\n",
        "        context = tf.keras.backend.sum(x * alpha_expanded, axis=1)\n",
        "\n",
        "        return context\n",
        "\n",
        "    def compute_output_shape(self, input_shape):\n",
        "        return (input_shape[0], input_shape[-1])"
      ]
    },
    {
      "cell_type": "code",
      "execution_count": 19,
      "metadata": {
        "id": "SBXrly_HBmmZ",
        "outputId": "f8d422e5-10fd-445b-b1f2-a8cdc5f0c137",
        "colab": {
          "base_uri": "https://localhost:8080/"
        }
      },
      "outputs": [
        {
          "output_type": "stream",
          "name": "stdout",
          "text": [
            "Training Optimized LSTM with Attention model...\n",
            "Epoch 1/10\n",
            "\u001b[1m7746/7746\u001b[0m \u001b[32m━━━━━━━━━━━━━━━━━━━━\u001b[0m\u001b[37m\u001b[0m \u001b[1m22s\u001b[0m 2ms/step - accuracy: 0.9967 - loss: 0.0219 - val_accuracy: 1.0000 - val_loss: 3.6467e-05\n",
            "Epoch 2/10\n",
            "\u001b[1m7746/7746\u001b[0m \u001b[32m━━━━━━━━━━━━━━━━━━━━\u001b[0m\u001b[37m\u001b[0m \u001b[1m19s\u001b[0m 2ms/step - accuracy: 0.9998 - loss: 8.9087e-04 - val_accuracy: 1.0000 - val_loss: 6.5981e-08\n",
            "Epoch 3/10\n",
            "\u001b[1m7746/7746\u001b[0m \u001b[32m━━━━━━━━━━━━━━━━━━━━\u001b[0m\u001b[37m\u001b[0m \u001b[1m18s\u001b[0m 2ms/step - accuracy: 0.9999 - loss: 5.3213e-04 - val_accuracy: 1.0000 - val_loss: 6.9233e-08\n",
            "Epoch 4/10\n",
            "\u001b[1m7746/7746\u001b[0m \u001b[32m━━━━━━━━━━━━━━━━━━━━\u001b[0m\u001b[37m\u001b[0m \u001b[1m18s\u001b[0m 2ms/step - accuracy: 0.9999 - loss: 5.2509e-04 - val_accuracy: 1.0000 - val_loss: 6.0065e-06\n",
            "Epoch 5/10\n",
            "\u001b[1m7746/7746\u001b[0m \u001b[32m━━━━━━━━━━━━━━━━━━━━\u001b[0m\u001b[37m\u001b[0m \u001b[1m18s\u001b[0m 2ms/step - accuracy: 0.9999 - loss: 4.1659e-04 - val_accuracy: 1.0000 - val_loss: 1.0758e-08\n",
            "Epoch 6/10\n",
            "\u001b[1m7746/7746\u001b[0m \u001b[32m━━━━━━━━━━━━━━━━━━━━\u001b[0m\u001b[37m\u001b[0m \u001b[1m18s\u001b[0m 2ms/step - accuracy: 0.9999 - loss: 2.7067e-04 - val_accuracy: 1.0000 - val_loss: 1.7638e-08\n",
            "Epoch 7/10\n",
            "\u001b[1m7746/7746\u001b[0m \u001b[32m━━━━━━━━━━━━━━━━━━━━\u001b[0m\u001b[37m\u001b[0m \u001b[1m18s\u001b[0m 2ms/step - accuracy: 0.9999 - loss: 3.0740e-04 - val_accuracy: 1.0000 - val_loss: 5.0035e-08\n",
            "Epoch 8/10\n",
            "\u001b[1m7746/7746\u001b[0m \u001b[32m━━━━━━━━━━━━━━━━━━━━\u001b[0m\u001b[37m\u001b[0m \u001b[1m18s\u001b[0m 2ms/step - accuracy: 0.9999 - loss: 3.0438e-04 - val_accuracy: 1.0000 - val_loss: 1.5990e-09\n",
            "Epoch 9/10\n",
            "\u001b[1m7746/7746\u001b[0m \u001b[32m━━━━━━━━━━━━━━━━━━━━\u001b[0m\u001b[37m\u001b[0m \u001b[1m18s\u001b[0m 2ms/step - accuracy: 0.9999 - loss: 2.9368e-04 - val_accuracy: 0.9996 - val_loss: 0.0013\n",
            "Epoch 10/10\n",
            "\u001b[1m7746/7746\u001b[0m \u001b[32m━━━━━━━━━━━━━━━━━━━━\u001b[0m\u001b[37m\u001b[0m \u001b[1m18s\u001b[0m 2ms/step - accuracy: 0.9999 - loss: 2.2615e-04 - val_accuracy: 1.0000 - val_loss: 7.3071e-09\n",
            "Training time: 187.65 seconds\n",
            "Memory used: -954.29 MB\n",
            "\u001b[1m13894/13894\u001b[0m \u001b[32m━━━━━━━━━━━━━━━━━━━━\u001b[0m\u001b[37m\u001b[0m \u001b[1m16s\u001b[0m 1ms/step\n",
            "Average inference time per sample: 0.0503 ms\n",
            "Accuracy: 0.9753\n",
            "Precision: 0.9513\n",
            "Recall: 0.3937\n",
            "F1 Score: 0.5570\n"
          ]
        }
      ],
      "source": [
        "# Completely disable cuDNN at the beginning of the code\n",
        "import os\n",
        "os.environ['TF_DISABLE_CUDNN'] = '1'  # Disable cuDNN\n",
        "os.environ['CUDA_VISIBLE_DEVICES'] = '-1'  # This will completely disable GPU\n",
        "\n",
        "import tensorflow as tf\n",
        "import numpy as np\n",
        "import time\n",
        "from sklearn.metrics import accuracy_score, classification_report, f1_score\n",
        "\n",
        "# Define function to get memory usage\n",
        "def get_memory_usage():\n",
        "    import psutil\n",
        "    process = psutil.Process(os.getpid())\n",
        "    return process.memory_info().rss / 1024 / 1024  # Return in MB\n",
        "\n",
        "# Use a simplified custom attention mechanism instead of AttentionLayer\n",
        "def attention_mechanism(inputs):\n",
        "    # Simplified attention implementation\n",
        "    from tensorflow.keras.layers import Dense, Multiply, Activation, Permute, Reshape\n",
        "\n",
        "    # Calculate attention weights\n",
        "    attention = Dense(1, activation='tanh')(inputs)\n",
        "    attention = Activation('softmax')(attention)\n",
        "\n",
        "    # Apply attention weights\n",
        "    return Multiply()([inputs, attention])\n",
        "\n",
        "# Redefine the model using CPU-only version\n",
        "def create_lstm_attention_model(input_shape):\n",
        "    from tensorflow.keras.models import Model\n",
        "    from tensorflow.keras.layers import Input, LSTM, Dense, Dropout, GlobalAveragePooling1D\n",
        "\n",
        "    # Force CPU usage with a simplified model\n",
        "    with tf.device('/CPU:0'):\n",
        "        # Input layer\n",
        "        inputs = Input(shape=input_shape)\n",
        "\n",
        "        # Use simpler recurrent layer (SimpleRNN instead of LSTM)\n",
        "        from tensorflow.keras.layers import SimpleRNN\n",
        "        rnn_out = SimpleRNN(32, return_sequences=True)(inputs)\n",
        "\n",
        "        # Simplified attention or directly use pooling\n",
        "        # attention_out = attention_mechanism(rnn_out)  # Use custom attention\n",
        "        attention_out = GlobalAveragePooling1D()(rnn_out)  # Or simply use global average pooling\n",
        "\n",
        "        # Output layer\n",
        "        x = Dense(16, activation='relu')(attention_out)\n",
        "        x = Dropout(0.2)(x)\n",
        "        outputs = Dense(1, activation='sigmoid')(x)\n",
        "\n",
        "        # Create model\n",
        "        model = Model(inputs=inputs, outputs=outputs)\n",
        "        model.compile(optimizer='adam',\n",
        "                      loss='binary_crossentropy',\n",
        "                      metrics=['accuracy'])\n",
        "\n",
        "    return model\n",
        "\n",
        "# Train model function\n",
        "def train_lstm_model(X_train, y_train, X_test, y_test):\n",
        "    # Ensure running on CPU\n",
        "    with tf.device('/CPU:0'):\n",
        "        # Calculate memory usage before training\n",
        "        memory_before = get_memory_usage()\n",
        "\n",
        "        # Create model\n",
        "        input_shape = (X_train.shape[1], X_train.shape[2])\n",
        "        model = create_lstm_attention_model(input_shape)\n",
        "\n",
        "        # Train model\n",
        "        start_time = time.time()\n",
        "        history = model.fit(\n",
        "            X_train, y_train,\n",
        "            epochs=10,\n",
        "            batch_size=64,\n",
        "            validation_split=0.1,\n",
        "            verbose=1\n",
        "        )\n",
        "\n",
        "        training_time = time.time() - start_time\n",
        "        print(f\"Training time: {training_time:.2f} seconds\")\n",
        "\n",
        "        # Calculate memory usage after training\n",
        "        memory_after = get_memory_usage()\n",
        "        memory_used = memory_after - memory_before\n",
        "        print(f\"Memory used: {memory_used:.2f} MB\")\n",
        "\n",
        "        # Evaluate model\n",
        "        inference_start = time.time()\n",
        "        y_pred_proba = model.predict(X_test)\n",
        "        inference_time = (time.time() - inference_start) / len(X_test)\n",
        "        print(f\"Average inference time per sample: {inference_time*1000:.4f} ms\")\n",
        "\n",
        "        y_pred = (y_pred_proba > 0.5).astype(int).reshape(-1)\n",
        "\n",
        "        # Calculate metrics\n",
        "        accuracy = accuracy_score(y_test, y_pred)\n",
        "        precision = classification_report(y_test, y_pred, output_dict=True)['1']['precision']\n",
        "        recall = classification_report(y_test, y_pred, output_dict=True)['1']['recall']\n",
        "        f1 = f1_score(y_test, y_pred)\n",
        "\n",
        "        print(f\"Accuracy: {accuracy:.4f}\")\n",
        "        print(f\"Precision: {precision:.4f}\")\n",
        "        print(f\"Recall: {recall:.4f}\")\n",
        "        print(f\"F1 Score: {f1:.4f}\")\n",
        "\n",
        "        # Add results to evaluator\n",
        "        try:\n",
        "            evaluator.add_result('LSTM with Attention', accuracy, precision, recall, f1,\n",
        "                            training_time, inference_time, memory_used)\n",
        "        except:\n",
        "            print(\"Evaluator object not found, skipping result addition\")\n",
        "\n",
        "        return model, y_pred, y_pred_proba\n",
        "\n",
        "# Train the model\n",
        "print(\"Training Optimized LSTM with Attention model...\")\n",
        "lstm_model, y_pred_lstm, y_prob_lstm = train_lstm_model(X_train_seq, y_train_seq, X_test_seq, y_test_seq)"
      ]
    },
    {
      "cell_type": "markdown",
      "metadata": {
        "id": "lXIquAfnBmmZ"
      },
      "source": [
        "## 6. Model 3: Efficient Ensemble Method"
      ]
    },
    {
      "cell_type": "code",
      "execution_count": 20,
      "metadata": {
        "id": "x32ys-9LBmmZ",
        "outputId": "1aaf9094-13b1-4dc4-e013-9dc1d285acd8",
        "colab": {
          "base_uri": "https://localhost:8080/"
        }
      },
      "outputs": [
        {
          "output_type": "stream",
          "name": "stdout",
          "text": [
            "Training Efficient Ensemble model...\n",
            "Training time: 482.28 seconds\n",
            "Memory used: 667.79 MB\n",
            "Average inference time per sample: 0.0034 ms\n",
            "Accuracy: 0.9606\n",
            "Precision: 0.0000\n",
            "Recall: 0.0000\n",
            "F1 Score: 0.0000\n"
          ]
        }
      ],
      "source": [
        "# Define an efficient ensemble method\n",
        "def train_efficient_ensemble(X_train, y_train, X_test, y_test):\n",
        "    # Measure memory usage before training\n",
        "    memory_before = get_memory_usage()\n",
        "\n",
        "    # Train XGBoost model with GPU acceleration\n",
        "    start_time = time.time()\n",
        "    xgb_model = xgb.XGBClassifier(\n",
        "        n_estimators=50,  # Reduced number of estimators for efficiency\n",
        "        max_depth=5,      # Reduced depth for efficiency\n",
        "        learning_rate=0.1,\n",
        "        random_state=42,\n",
        "        use_label_encoder=False,\n",
        "        eval_metric='logloss',\n",
        "        tree_method='gpu_hist' if torch.cuda.is_available() else 'hist'  # Use GPU if available\n",
        "    )\n",
        "    xgb_model.fit(X_train, y_train)\n",
        "\n",
        "    # Train a small Random Forest model\n",
        "    from sklearn.ensemble import RandomForestClassifier\n",
        "    rf_model = RandomForestClassifier(\n",
        "        n_estimators=50,  # Reduced number of estimators for efficiency\n",
        "        max_depth=5,      # Reduced depth for efficiency\n",
        "        random_state=42,\n",
        "        n_jobs=-1         # Use all available cores\n",
        "    )\n",
        "    rf_model.fit(X_train, y_train)\n",
        "\n",
        "    # Train a small Gradient Boosting model\n",
        "    from sklearn.ensemble import GradientBoostingClassifier\n",
        "    gb_model = GradientBoostingClassifier(\n",
        "        n_estimators=50,  # Reduced number of estimators for efficiency\n",
        "        max_depth=3,      # Reduced depth for efficiency\n",
        "        learning_rate=0.1,\n",
        "        random_state=42\n",
        "    )\n",
        "    gb_model.fit(X_train, y_train)\n",
        "\n",
        "    training_time = time.time() - start_time\n",
        "    print(f\"Training time: {training_time:.2f} seconds\")\n",
        "\n",
        "    # Measure memory usage after training\n",
        "    memory_after = get_memory_usage()\n",
        "    memory_used = memory_after - memory_before\n",
        "    print(f\"Memory used: {memory_used:.2f} MB\")\n",
        "\n",
        "    # Make predictions\n",
        "    inference_start = time.time()\n",
        "    y_pred_proba_xgb = xgb_model.predict_proba(X_test)[:, 1]\n",
        "    y_pred_proba_rf = rf_model.predict_proba(X_test)[:, 1]\n",
        "    y_pred_proba_gb = gb_model.predict_proba(X_test)[:, 1]\n",
        "\n",
        "    # Weighted average of probabilities (can be optimized with a validation set)\n",
        "    y_pred_proba = 0.5 * y_pred_proba_xgb + 0.3 * y_pred_proba_rf + 0.2 * y_pred_proba_gb\n",
        "    inference_time = (time.time() - inference_start) / len(X_test)\n",
        "    print(f\"Average inference time per sample: {inference_time*1000:.4f} ms\")\n",
        "\n",
        "    y_pred = (y_pred_proba > 0.5).astype(int)\n",
        "\n",
        "    # Calculate metrics\n",
        "    accuracy = accuracy_score(y_test, y_pred)\n",
        "    precision = classification_report(y_test, y_pred, output_dict=True)['1']['precision']\n",
        "    recall = classification_report(y_test, y_pred, output_dict=True)['1']['recall']\n",
        "    f1 = f1_score(y_test, y_pred)\n",
        "\n",
        "    print(f\"Accuracy: {accuracy:.4f}\")\n",
        "    print(f\"Precision: {precision:.4f}\")\n",
        "    print(f\"Recall: {recall:.4f}\")\n",
        "    print(f\"F1 Score: {f1:.4f}\")\n",
        "\n",
        "    # Add results to evaluator\n",
        "    evaluator.add_result('Efficient Ensemble', accuracy, precision, recall, f1,\n",
        "                        training_time, inference_time, memory_used)\n",
        "\n",
        "    return (xgb_model, rf_model, gb_model), y_pred, y_pred_proba\n",
        "\n",
        "# Train the ensemble model\n",
        "print(\"Training Efficient Ensemble model...\")\n",
        "ensemble_models, y_pred_ensemble, y_prob_ensemble = train_efficient_ensemble(X_train_enhanced_scaled, y_train_enhanced, X_test_enhanced_scaled, y_test_enhanced)"
      ]
    },
    {
      "cell_type": "markdown",
      "metadata": {
        "id": "8DwLZ1__BmmZ"
      },
      "source": [
        "## 7. Model 4: Feature-based Approach with Advanced Feature Engineering"
      ]
    },
    {
      "cell_type": "code",
      "execution_count": 21,
      "metadata": {
        "id": "vwHWmRv0BmmZ",
        "outputId": "8b7d31d5-2eca-459b-ee25-e40d2c7a8120",
        "colab": {
          "base_uri": "https://localhost:8080/"
        }
      },
      "outputs": [
        {
          "output_type": "stream",
          "name": "stdout",
          "text": [
            "Training Feature-based model with advanced feature engineering...\n",
            "Original features: 112, Selected features: 13\n",
            "Training time: 0.44 seconds\n",
            "Memory used: 108.30 MB\n",
            "Average inference time per sample: 0.0001 ms\n",
            "Accuracy: 0.9606\n",
            "Precision: 0.0000\n",
            "Recall: 0.0000\n",
            "F1 Score: 0.0000\n"
          ]
        }
      ],
      "source": [
        "# Train a feature-based model with advanced feature engineering\n",
        "def train_feature_based_model(X_train, y_train, X_test, y_test):\n",
        "    # Measure memory usage before training\n",
        "    memory_before = get_memory_usage()\n",
        "\n",
        "    # Feature selection to reduce dimensionality\n",
        "    from sklearn.feature_selection import SelectFromModel\n",
        "\n",
        "    # Use a simple model for feature selection\n",
        "    selector = SelectFromModel(xgb.XGBClassifier(n_estimators=50, random_state=42))\n",
        "    selector.fit(X_train, y_train)\n",
        "\n",
        "    # Transform the data\n",
        "    X_train_selected = selector.transform(X_train)\n",
        "    X_test_selected = selector.transform(X_test)\n",
        "\n",
        "    print(f\"Original features: {X_train.shape[1]}, Selected features: {X_train_selected.shape[1]}\")\n",
        "\n",
        "    # Train XGBoost model with GPU acceleration\n",
        "    start_time = time.time()\n",
        "    xgb_model = xgb.XGBClassifier(\n",
        "        n_estimators=100,\n",
        "        max_depth=6,\n",
        "        learning_rate=0.1,\n",
        "        random_state=42,\n",
        "        use_label_encoder=False,\n",
        "        eval_metric='logloss',\n",
        "        tree_method='gpu_hist' if torch.cuda.is_available() else 'hist'  # Use GPU if available\n",
        "    )\n",
        "    xgb_model.fit(X_train_selected, y_train)\n",
        "\n",
        "    training_time = time.time() - start_time\n",
        "    print(f\"Training time: {training_time:.2f} seconds\")\n",
        "\n",
        "    # Measure memory usage after training\n",
        "    memory_after = get_memory_usage()\n",
        "    memory_used = memory_after - memory_before\n",
        "    print(f\"Memory used: {memory_used:.2f} MB\")\n",
        "\n",
        "    # Make predictions\n",
        "    inference_start = time.time()\n",
        "    y_pred_proba = xgb_model.predict_proba(X_test_selected)[:, 1]\n",
        "    inference_time = (time.time() - inference_start) / len(X_test_selected)\n",
        "    print(f\"Average inference time per sample: {inference_time*1000:.4f} ms\")\n",
        "\n",
        "    y_pred = (y_pred_proba > 0.5).astype(int)\n",
        "\n",
        "    # Calculate metrics\n",
        "    accuracy = accuracy_score(y_test, y_pred)\n",
        "    precision = classification_report(y_test, y_pred, output_dict=True)['1']['precision']\n",
        "    recall = classification_report(y_test, y_pred, output_dict=True)['1']['recall']\n",
        "    f1 = f1_score(y_test, y_pred)\n",
        "\n",
        "    print(f\"Accuracy: {accuracy:.4f}\")\n",
        "    print(f\"Precision: {precision:.4f}\")\n",
        "    print(f\"Recall: {recall:.4f}\")\n",
        "    print(f\"F1 Score: {f1:.4f}\")\n",
        "\n",
        "    # Add results to evaluator\n",
        "    evaluator.add_result('Feature-based XGBoost', accuracy, precision, recall, f1,\n",
        "                        training_time, inference_time, memory_used)\n",
        "\n",
        "    return (selector, xgb_model), y_pred, y_pred_proba\n",
        "\n",
        "# Train the feature-based model\n",
        "print(\"Training Feature-based model with advanced feature engineering...\")\n",
        "feature_models, y_pred_feature, y_prob_feature = train_feature_based_model(X_train_enhanced_scaled, y_train_enhanced, X_test_enhanced_scaled, y_test_enhanced)"
      ]
    },
    {
      "cell_type": "markdown",
      "metadata": {
        "id": "I4GBLA56Bmma"
      },
      "source": [
        "## 8. Compare Model Performance and Efficiency"
      ]
    },
    {
      "cell_type": "code",
      "execution_count": 22,
      "metadata": {
        "id": "ud2vCJ6VBmma",
        "outputId": "90832337-994e-4cd9-c763-329b75c927b9",
        "colab": {
          "base_uri": "https://localhost:8080/",
          "height": 936
        }
      },
      "outputs": [
        {
          "output_type": "stream",
          "name": "stdout",
          "text": [
            "Model Performance and Efficiency Comparison:\n",
            "                   Model  Accuracy  Precision    Recall  F1 Score  \\\n",
            "0        Lightweight TCN  0.976351   0.949840  0.422434  0.584788   \n",
            "1    LSTM with Attention  0.975305   0.951337  0.393735  0.556959   \n",
            "2     Efficient Ensemble  0.960576   0.000000  0.000000  0.000000   \n",
            "3  Feature-based XGBoost  0.960576   0.000000  0.000000  0.000000   \n",
            "\n",
            "   Training Time (s)  Inference Time (ms)  Memory Usage (MB)  \n",
            "0         251.218613             0.000849         379.734375  \n",
            "1         187.652487             0.050313        -954.292969  \n",
            "2         482.278139             0.003449         667.789062  \n",
            "3           0.444055             0.000140         108.300781  \n"
          ]
        },
        {
          "output_type": "display_data",
          "data": {
            "text/plain": [
              "<Figure size 1500x1000 with 4 Axes>"
            ],
            "image/png": "[encoded data removed]"
          },
          "metadata": {}
        }
      ],
      "source": [
        "# Get the results dataframe\n",
        "results_df = evaluator.get_results_df()\n",
        "print(\"Model Performance and Efficiency Comparison:\")\n",
        "print(results_df)\n",
        "\n",
        "# Plot the comparison\n",
        "evaluator.plot_comparison()"
      ]
    },
    {
      "cell_type": "markdown",
      "metadata": {
        "id": "mfqo6NdaBmma"
      },
      "source": [
        "## 9. Save the Best Model"
      ]
    },
    {
      "cell_type": "code",
      "execution_count": 23,
      "metadata": {
        "id": "ePhFsXF6Bmmb",
        "outputId": "b4eea915-7e3d-42e5-f5ec-a0764fed0287",
        "colab": {
          "base_uri": "https://localhost:8080/"
        }
      },
      "outputs": [
        {
          "output_type": "stream",
          "name": "stdout",
          "text": [
            "Models ranked by Efficiency Score (balancing accuracy and computational efficiency):\n",
            "                   Model  Accuracy  F1 Score  Training Time (s)  \\\n",
            "1    LSTM with Attention  0.975305  0.556959         187.652487   \n",
            "2     Efficient Ensemble  0.960576  0.000000         482.278139   \n",
            "0        Lightweight TCN  0.976351  0.584788         251.218613   \n",
            "3  Feature-based XGBoost  0.960576  0.000000           0.444055   \n",
            "\n",
            "   Inference Time (ms)  Memory Usage (MB)  Efficiency Score  \n",
            "1             0.050313        -954.292969          0.600493  \n",
            "2             0.003449         667.789062          0.357306  \n",
            "0             0.000849         379.734375          0.281980  \n",
            "3             0.000140         108.300781          0.010771  \n",
            "\n",
            "Best model based on efficiency score: LSTM with Attention\n"
          ]
        }
      ],
      "source": [
        "# Determine the best model based on a combination of performance and efficiency\n",
        "def calculate_efficiency_score(row):\n",
        "    # Normalize values (higher is better for accuracy, lower is better for time and memory)\n",
        "    accuracy_norm = row['Accuracy'] / results_df['Accuracy'].max()\n",
        "    training_time_norm = results_df['Training Time (s)'].min() / row['Training Time (s)']\n",
        "    inference_time_norm = results_df['Inference Time (ms)'].min() / row['Inference Time (ms)']\n",
        "    memory_norm = results_df['Memory Usage (MB)'].min() / row['Memory Usage (MB)']\n",
        "\n",
        "    # Calculate weighted score (adjust weights based on priorities)\n",
        "    score = 0.5 * accuracy_norm + 0.2 * training_time_norm + 0.2 * inference_time_norm + 0.1 * memory_norm\n",
        "    return score\n",
        "\n",
        "# Calculate efficiency score for each model\n",
        "results_df['Efficiency Score'] = results_df.apply(calculate_efficiency_score, axis=1)\n",
        "\n",
        "# Sort by efficiency score\n",
        "results_df_sorted = results_df.sort_values('Efficiency Score', ascending=False)\n",
        "print(\"Models ranked by Efficiency Score (balancing accuracy and computational efficiency):\")\n",
        "print(results_df_sorted[['Model', 'Accuracy', 'F1 Score', 'Training Time (s)', 'Inference Time (ms)', 'Memory Usage (MB)', 'Efficiency Score']])\n",
        "\n",
        "# Get the best model\n",
        "best_model_name = results_df_sorted.iloc[0]['Model']\n",
        "print(f\"\\nBest model based on efficiency score: {best_model_name}\")"
      ]
    },
    {
      "cell_type": "code",
      "execution_count": 27,
      "metadata": {
        "id": "Tgnyl3cXBmmb",
        "outputId": "4c637c73-5bf9-47fc-9408-b8c018ab76d9",
        "colab": {
          "base_uri": "https://localhost:8080/",
          "height": 34
        }
      },
      "outputs": [
        {
          "output_type": "stream",
          "name": "stdout",
          "text": [
            "Saved LSTM model to /content/best_model.keras\n"
          ]
        },
        {
          "output_type": "display_data",
          "data": {
            "text/plain": [
              "<IPython.core.display.Javascript object>"
            ],
            "application/javascript": [
              "\n",
              "    async function download(id, filename, size) {\n",
              "      if (!google.colab.kernel.accessAllowed) {\n",
              "        return;\n",
              "      }\n",
              "      const div = document.createElement('div');\n",
              "      const label = document.createElement('label');\n",
              "      label.textContent = `Downloading \"${filename}\": `;\n",
              "      div.appendChild(label);\n",
              "      const progress = document.createElement('progress');\n",
              "      progress.max = size;\n",
              "      div.appendChild(progress);\n",
              "      document.body.appendChild(div);\n",
              "\n",
              "      const buffers = [];\n",
              "      let downloaded = 0;\n",
              "\n",
              "      const channel = await google.colab.kernel.comms.open(id);\n",
              "      // Send a message to notify the kernel that we're ready.\n",
              "      channel.send({})\n",
              "\n",
              "      for await (const message of channel.messages) {\n",
              "        // Send a message to notify the kernel that we're ready.\n",
              "        channel.send({})\n",
              "        if (message.buffers) {\n",
              "          for (const buffer of message.buffers) {\n",
              "            buffers.push(buffer);\n",
              "            downloaded += buffer.byteLength;\n",
              "            progress.value = downloaded;\n",
              "          }\n",
              "        }\n",
              "      }\n",
              "      const blob = new Blob(buffers, {type: 'application/binary'});\n",
              "      const a = document.createElement('a');\n",
              "      a.href = window.URL.createObjectURL(blob);\n",
              "      a.download = filename;\n",
              "      div.appendChild(a);\n",
              "      a.click();\n",
              "      div.remove();\n",
              "    }\n",
              "  "
            ]
          },
          "metadata": {}
        },
        {
          "output_type": "display_data",
          "data": {
            "text/plain": [
              "<IPython.core.display.Javascript object>"
            ],
            "application/javascript": [
              "download(\"download_d7d99da9-1c43-4638-a707-d61c5f77d6f6\", \"best_model.keras\", 78155)"
            ]
          },
          "metadata": {}
        },
        {
          "output_type": "display_data",
          "data": {
            "text/plain": [
              "<IPython.core.display.Javascript object>"
            ],
            "application/javascript": [
              "\n",
              "    async function download(id, filename, size) {\n",
              "      if (!google.colab.kernel.accessAllowed) {\n",
              "        return;\n",
              "      }\n",
              "      const div = document.createElement('div');\n",
              "      const label = document.createElement('label');\n",
              "      label.textContent = `Downloading \"${filename}\": `;\n",
              "      div.appendChild(label);\n",
              "      const progress = document.createElement('progress');\n",
              "      progress.max = size;\n",
              "      div.appendChild(progress);\n",
              "      document.body.appendChild(div);\n",
              "\n",
              "      const buffers = [];\n",
              "      let downloaded = 0;\n",
              "\n",
              "      const channel = await google.colab.kernel.comms.open(id);\n",
              "      // Send a message to notify the kernel that we're ready.\n",
              "      channel.send({})\n",
              "\n",
              "      for await (const message of channel.messages) {\n",
              "        // Send a message to notify the kernel that we're ready.\n",
              "        channel.send({})\n",
              "        if (message.buffers) {\n",
              "          for (const buffer of message.buffers) {\n",
              "            buffers.push(buffer);\n",
              "            downloaded += buffer.byteLength;\n",
              "            progress.value = downloaded;\n",
              "          }\n",
              "        }\n",
              "      }\n",
              "      const blob = new Blob(buffers, {type: 'application/binary'});\n",
              "      const a = document.createElement('a');\n",
              "      a.href = window.URL.createObjectURL(blob);\n",
              "      a.download = filename;\n",
              "      div.appendChild(a);\n",
              "      a.click();\n",
              "      div.remove();\n",
              "    }\n",
              "  "
            ]
          },
          "metadata": {}
        },
        {
          "output_type": "display_data",
          "data": {
            "text/plain": [
              "<IPython.core.display.Javascript object>"
            ],
            "application/javascript": [
              "download(\"download_31647d42-dfe1-4503-8051-dcb45d8a5a36\", \"scaler.joblib\", 3199)"
            ]
          },
          "metadata": {}
        }
      ],
      "source": [
        "# Check if running in Google Colab\n",
        "import sys\n",
        "IN_COLAB = 'google.colab' in sys.modules\n",
        "\n",
        "# Save the best model\n",
        "import joblib\n",
        "\n",
        "# Define the paths based on the model type\n",
        "if IN_COLAB:\n",
        "    base_path = '/content/best_model'\n",
        "    scaler_path = '/content/scaler.joblib'\n",
        "else:\n",
        "    base_path = 'best_model'\n",
        "    scaler_path = 'scaler.joblib'\n",
        "\n",
        "# Get the best model name if it's not defined\n",
        "# You might need to define this based on your evaluator or previous evaluations\n",
        "if 'best_model_name' not in locals():\n",
        "    # Assume LSTM is the best model if not defined\n",
        "    best_model_name = 'LSTM with Attention'\n",
        "\n",
        "# Save the appropriate model based on the best model name\n",
        "if best_model_name == 'Lightweight TCN':\n",
        "    # For PyTorch models, save the state dict\n",
        "    model_path = f\"{base_path}.pt\"\n",
        "    torch.save(tcn_model.state_dict(), model_path)\n",
        "    joblib.dump(scaler, scaler_path)\n",
        "    print(f\"Saved TCN model to {model_path}\")\n",
        "\n",
        "elif best_model_name == 'LSTM with Attention':\n",
        "    # For TensorFlow models, use .keras extension\n",
        "    model_path = f\"{base_path}.keras\"\n",
        "    lstm_model.save(model_path)\n",
        "    joblib.dump(scaler, scaler_path)\n",
        "    print(f\"Saved LSTM model to {model_path}\")\n",
        "\n",
        "elif best_model_name == 'Efficient Ensemble':\n",
        "    # For ensemble models, save all component models\n",
        "    model_path = f\"{base_path}.joblib\"\n",
        "    joblib.dump(ensemble_models, model_path)\n",
        "    joblib.dump(scaler_enhanced, scaler_path)\n",
        "    print(f\"Saved Ensemble model to {model_path}\")\n",
        "\n",
        "elif best_model_name == 'Feature-based XGBoost':\n",
        "    # For feature-based models, save the selector and model\n",
        "    model_path = f\"{base_path}.joblib\"\n",
        "    joblib.dump(feature_models, model_path)\n",
        "    joblib.dump(scaler_enhanced, scaler_path)\n",
        "    print(f\"Saved Feature-based model to {model_path}\")\n",
        "\n",
        "# If in Colab, download the model files\n",
        "if IN_COLAB:\n",
        "    from google.colab import files\n",
        "    files.download(model_path)\n",
        "    files.download(scaler_path)"
      ]
    }
  ],
  "metadata": {
    "kernelspec": {
      "display_name": "Python 3",
      "name": "python3"
    },
    "language_info": {
      "codemirror_mode": {
        "name": "ipython",
        "version": 3
      },
      "file_extension": ".py",
      "mimetype": "text/x-python",
      "name": "python",
      "nbconvert_exporter": "python",
      "pygments_lexer": "ipython3",
      "version": "3.8.10"
    },
    "colab": {
      "provenance": [],
      "machine_shape": "hm",
      "gpuType": "A100",
      "include_colab_link": true
    },
    "accelerator": "GPU"
  },
  "nbformat": 4,
  "nbformat_minor": 0
}