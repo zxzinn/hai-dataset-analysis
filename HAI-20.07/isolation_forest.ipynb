{
 "cells": [
  {
   "cell_type": "markdown",
   "metadata": {},
   "source": [
    "# HAI-20.07 Isolation Forest Model\n",
    "\n",
    "Anomaly detection using Isolation Forest algorithm."
   ]
  },
  {
   "cell_type": "code",
   "execution_count": null,
   "metadata": {},
   "source": [
    "import sys\n",
    "sys.path.append('..')\n",
    "\n",
    "import polars as pl\n",
    "import numpy as np\n",
    "from pathlib import Path\n",
    "from sklearn.ensemble import IsolationForest\n",
    "from sklearn.model_selection import GridSearchCV\n",
    "\n",
    "from utils.model_utils import ModelManager\n",
    "from utils.evaluation import Evaluator\n",
    "from utils.visualization import Visualizer"
   ]
  },
  {
   "cell_type": "markdown",
   "metadata": {},
   "source": [
    "## 1. Load Preprocessed Data"
   ]
  },
  {
   "cell_type": "code",
   "execution_count": null,
   "metadata": {},
   "source": [
    "# Load preprocessed data\n",
    "processed_dir = Path('processed_data')\n",
    "\n",
    "train_df1 = pl.read_parquet(processed_dir / 'train1.parquet')\n",
    "train_df2 = pl.read_parquet(processed_dir / 'train2.parquet')\n",
    "test_df1 = pl.read_parquet(processed_dir / 'test1.parquet')\n",
    "test_df2 = pl.read_parquet(processed_dir / 'test2.parquet')\n",
    "\n",
    "# Combine training data\n",
    "train_data = pl.concat([train_df1, train_df2])\n",
    "\n",
    "# Separate features and labels\n",
    "feature_cols = [col for col in train_data.columns if not col.startswith('attack')]\n",
    "X_train = train_data.select(feature_cols).to_numpy()\n",
    "X_test1 = test_df1.select(feature_cols).to_numpy()\n",
    "X_test2 = test_df2.select(feature_cols).to_numpy()\n",
    "\n",
    "y_test1 = test_df1.select('attack').to_numpy().ravel()\n",
    "y_test2 = test_df2.select('attack').to_numpy().ravel()"
   ]
  },
  {
   "cell_type": "markdown",
   "metadata": {},
   "source": [
    "## 2. Model Training"
   ]
  },
  {
   "cell_type": "code",
   "execution_count": null,
   "metadata": {},
   "source": [
    "# Initialize model\n",
    "model = IsolationForest(\n",
    "    n_estimators=100,\n",
    "    max_samples='auto',\n",
    "    contamination='auto',\n",
    "    random_state=42\n",
    ")\n",
    "\n",
    "# Train model\n",
    "model.fit(X_train)"
   ]
  },
  {
   "cell_type": "markdown",
   "metadata": {},
   "source": [
    "## 3. Anomaly Detection"
   ]
  },
  {
   "cell_type": "code",
   "execution_count": null,
   "metadata": {},
   "source": [
    "# Get anomaly scores\n",
    "scores_test1 = -model.score_samples(X_test1)  # Negative scores for consistency (higher = more anomalous)\n",
    "scores_test2 = -model.score_samples(X_test2)\n",
    "\n",
    "# Get predictions (1 for anomaly, 0 for normal)\n",
    "y_pred1 = (model.predict(X_test1) == -1).astype(int)\n",
    "y_pred2 = (model.predict(X_test2) == -1).astype(int)"
   ]
  },
  {
   "cell_type": "markdown",
   "metadata": {},
   "source": [
    "## 4. Performance Evaluation"
   ]
  },
  {
   "cell_type": "code",
   "execution_count": null,
   "metadata": {},
   "source": [
    "# Initialize evaluator\n",
    "evaluator = Evaluator()\n",
    "\n",
    "# Calculate metrics for test set 1\n",
    "metrics1 = evaluator.calculate_basic_metrics(y_test1, y_pred1)\n",
    "etapr1 = evaluator.calculate_etapr(y_test1, y_pred1)\n",
    "delay1 = evaluator.calculate_detection_delay(\n",
    "    y_test1, \n",
    "    y_pred1,\n",
    "    test_df1.select('time').to_numpy().ravel()\n",
    ")\n",
    "\n",
    "# Calculate metrics for test set 2\n",
    "metrics2 = evaluator.calculate_basic_metrics(y_test2, y_pred2)\n",
    "etapr2 = evaluator.calculate_etapr(y_test2, y_pred2)\n",
    "delay2 = evaluator.calculate_detection_delay(\n",
    "    y_test2,\n",
    "    y_pred2,\n",
    "    test_df2.select('time').to_numpy().ravel()\n",
    ")\n",
    "\n",
    "# Print results\n",
    "print(\"Test Set 1 Results:\")\n",
    "print(f\"Basic Metrics: {metrics1}\")\n",
    "print(f\"eTaPR Metrics: {etapr1}\")\n",
    "print(f\"Detection Delay: {delay1}\")\n",
    "\n",
    "print(\"\\nTest Set 2 Results:\")\n",
    "print(f\"Basic Metrics: {metrics2}\")\n",
    "print(f\"eTaPR Metrics: {etapr2}\")\n",
    "print(f\"Detection Delay: {delay2}\")"
   ]
  },
  {
   "cell_type": "markdown",
   "metadata": {},
   "source": [
    "## 5. Visualization"
   ]
  },
  {
   "cell_type": "code",
   "execution_count": null,
   "metadata": {},
   "source": [
    "# Initialize visualizer\n",
    "visualizer = Visualizer(save_dir='figures')\n",
    "\n",
    "# Plot confusion matrix\n",
    "cm1 = evaluator.calculate_confusion_matrix(y_test1, y_pred1)\n",
    "fig = visualizer.plot_confusion_matrix(cm1, ['Normal', 'Attack'], title='Test Set 1 Confusion Matrix')\n",
    "fig.show()\n",
    "\n",
    "# Plot time series with detected anomalies\n",
    "key_features = ['P1_PIT01', 'P1_LIT01', 'P1_FT01', 'P2_SIT01']\n",
    "test_df1_with_pred = test_df1.with_column(pl.Series('predicted_attack', y_pred1))\n",
    "fig = visualizer.plot_time_series(\n",
    "    test_df1_with_pred,\n",
    "    key_features,\n",
    "    attack_col='predicted_attack',\n",
    "    title='Detected Anomalies (Test Set 1)'\n",
    ")\n",
    "fig.show()"
   ]
  },
  {
   "cell_type": "markdown",
   "metadata": {},
   "source": [
    "## 6. Save Model"
   ]
  },
  {
   "cell_type": "code",
   "execution_count": null,
   "metadata": {},
   "source": [
    "# Initialize model manager\n",
    "model_manager = ModelManager(base_dir='models')\n",
    "\n",
    "# Prepare metadata\n",
    "metadata = {\n",
    "    'model_type': 'isolation_forest',\n",
    "    'dataset_version': '20.07',\n",
    "    'parameters': {\n",
    "        'n_estimators': model.n_estimators,\n",
    "        'max_samples': model.max_samples,\n",
    "        'contamination': model.contamination\n",
    "    },\n",
    "    'performance': {\n",
    "        'test1': {\n",
    "            'basic_metrics': metrics1,\n",
    "            'etapr_metrics': etapr1,\n",
    "            'detection_delay': delay1\n",
    "        },\n",
    "        'test2': {\n",
    "            'basic_metrics': metrics2,\n",
    "            'etapr_metrics': etapr2,\n",
    "            'detection_delay': delay2\n",
    "        }\n",
    "    }\n",
    "}\n",
    "\n",
    "# Save model\n",
    "model_manager.save_sklearn_model(\n",
    "    model=model,\n",
    "    model_name='isolation_forest',\n",
    "    version='v1',\n",
    "    metadata=metadata\n",
    ")"
   ]
  }
 ],
 "metadata": {
  "kernelspec": {
   "display_name": "Python 3",
   "language": "python",
   "name": "python3"
  },
  "language_info": {
   "codemirror_mode": {
    "name": "ipython",
    "version": 3
   },
   "file_extension": ".py",
   "mimetype": "text/x-python",
   "name": "python",
   "nbconvert_exporter": "python",
   "pygments_lexer": "ipython3",
   "version": "3.8.0"
  }
 },
 "nbformat": 4,
 "nbformat_minor": 4
}
