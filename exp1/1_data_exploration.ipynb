{
 "cells": [
  {
   "cell_type": "markdown",
   "metadata": {},
   "source": [
    "# HAI-21.03 Dataset Exploration\n",
    "\n",
    "This notebook explores the HAI-21.03 industrial control system security dataset."
   ]
  },
  {
   "cell_type": "code",
   "execution_count": null,
   "metadata": {},
   "outputs": [],
   "source": [
    "# Import required libraries\n",
    "import os\n",
    "import glob\n",
    "import pandas as pd\n",
    "import numpy as np\n",
    "import matplotlib.pyplot as plt\n",
    "import seaborn as sns\n",
    "import warnings\n",
    "warnings.filterwarnings('ignore')\n",
    "\n",
    "# Set plot style\n",
    "plt.style.use('ggplot')\n",
    "sns.set(style=\"darkgrid\")\n",
    "\n",
    "# Set random seeds for reproducibility\n",
    "np.random.seed(42)"
   ]
  },
  {
   "cell_type": "markdown",
   "metadata": {},
   "source": [
    "## 1. Global Variables Setup"
   ]
  },
  {
   "cell_type": "code",
   "execution_count": null,
   "metadata": {},
   "outputs": [],
   "source": [
    "# Set paths\n",
    "DATA_DIR = '../../hai-security-dataset/hai-21.03'\n",
    "OUTPUT_DIR = '../../hai-security-dataset/processed'\n",
    "\n",
    "# Create output directory if it doesn't exist\n",
    "os.makedirs(OUTPUT_DIR, exist_ok=True)"
   ]
  },
  {
   "cell_type": "markdown",
   "metadata": {},
   "source": [
    "## 2. Data Loading"
   ]
  },
  {
   "cell_type": "code",
   "execution_count": null,
   "metadata": {},
   "outputs": [],
   "source": [
    "# Define a simple data loader class\n",
    "class HAIDataLoader:\n",
    "    def __init__(self, data_dir):\n",
    "        self.data_dir = data_dir\n",
    "        self.train_files = glob.glob(os.path.join(data_dir, 'train*.csv'))\n",
    "        self.test_files = glob.glob(os.path.join(data_dir, 'test*.csv'))\n",
    "        self.train_data = {}\n",
    "        self.test_data = {}\n",
    "        \n",
    "        print(f\"Found {len(self.train_files)} train files and {len(self.test_files)} test files\")\n",
    "    \n",
    "    def _preprocess_dataframe(self, df):\n",
    "        # Convert column names to lowercase for consistency\n",
    "        df.columns = [col.lower() for col in df.columns]\n",
    "        \n",
    "        # Handle missing values\n",
    "        df = df.fillna(method='ffill').fillna(method='bfill')\n",
    "        \n",
    "        # Ensure attack column exists (it might not in training data)\n",
    "        if 'attack' not in df.columns:\n",
    "            df['attack'] = 0\n",
    "        \n",
    "        return df\n",
    "    \n",
    "    def load_data(self):\n",
    "        # Load training files\n",
    "        print(\"Loading train files:\")\n",
    "        for file in self.train_files:\n",
    "            file_name = os.path.basename(file).split('.')[0]\n",
    "            df = pd.read_csv(file)\n",
    "            df = self._preprocess_dataframe(df)\n",
    "            self.train_data[file_name] = df\n",
    "            print(f\"  {file_name}: {df.shape[0]} rows, {df.shape[1]} columns\")\n",
    "        \n",
    "        # Load test files\n",
    "        print(\"\\nLoading test files:\")\n",
    "        for file in self.test_files:\n",
    "            file_name = os.path.basename(file).split('.')[0]\n",
    "            df = pd.read_csv(file)\n",
    "            df = self._preprocess_dataframe(df)\n",
    "            self.test_data[file_name] = df\n",
    "            print(f\"  {file_name}: {df.shape[0]} rows, {df.shape[1]} columns\")\n",
    "    \n",
    "    def merge_train_data(self):\n",
    "        if not self.train_data:\n",
    "            print(\"No training data loaded. Call load_data() first.\")\n",
    "            return None\n",
    "        \n",
    "        # Merge all training dataframes\n",
    "        merged_df = pd.concat(list(self.train_data.values()), axis=0, ignore_index=True)\n",
    "        print(f\"Merged training data: {merged_df.shape[0]} rows, {merged_df.shape[1]} columns\")\n",
    "        \n",
    "        return merged_df\n",
    "    \n",
    "    def merge_test_data(self):\n",
    "        if not self.test_data:\n",
    "            print(\"No test data loaded. Call load_data() first.\")\n",
    "            return None\n",
    "        \n",
    "        # Merge all test dataframes\n",
    "        merged_df = pd.concat(list(self.test_data.values()), axis=0, ignore_index=True)\n",
    "        print(f\"Merged test data: {merged_df.shape[0]} rows, {merged_df.shape[1]} columns\")\n",
    "        \n",
    "        return merged_df\n",
    "    \n",
    "    def get_feature_columns(self, df=None):\n",
    "        if df is None:\n",
    "            if not self.train_data:\n",
    "                print(\"No training data loaded. Call load_data() first.\")\n",
    "                return []\n",
    "            df = list(self.train_data.values())[0]\n",
    "        \n",
    "        # Get feature columns excluding time and attack columns\n",
    "        feature_cols = [col for col in df.columns \n",
    "                       if not col.startswith('time') and not col.startswith('attack')]\n",
    "        \n",
    "        return feature_cols"
   ]
  },
  {
   "cell_type": "code",
   "execution_count": null,
   "metadata": {},
   "outputs": [],
   "source": [
    "# Initialize data loader\n",
    "data_loader = HAIDataLoader(DATA_DIR)\n",
    "\n",
    "# Load data\n",
    "data_loader.load_data()"
   ]
  },
  {
   "cell_type": "code",
   "execution_count": null,
   "metadata": {},
   "outputs": [],
   "source": [
    "# Get all training data and merge\n",
    "train_df = data_loader.merge_train_data()\n",
    "\n",
    "# Print dataset information\n",
    "print(f\"Training data shape: {train_df.shape}\")\n",
    "print(f\"Training data columns: {train_df.columns[:10].tolist()}...\")"
   ]
  },
  {
   "cell_type": "markdown",
   "metadata": {},
   "source": [
    "## 3. Data Exploration"
   ]
  },
  {
   "cell_type": "code",
   "execution_count": null,
   "metadata": {},
   "outputs": [],
   "source": [
    "# Get feature columns\n",
    "feature_cols = data_loader.get_feature_columns(train_df)\n",
    "print(f\"Number of feature columns: {len(feature_cols)}\")\n",
    "print(f\"First 10 feature columns: {feature_cols[:10]}\")"
   ]
  },
  {
   "cell_type": "code",
   "execution_count": null,
   "metadata": {},
   "outputs": [],
   "source": [
    "# Explore data types\n",
    "train_df.dtypes.value_counts().plot(kind='bar')\n",
    "plt.title('Data Types Distribution')\n",
    "plt.xlabel('Data Type')\n",
    "plt.ylabel('Count')\n",
    "plt.show()"
   ]
  },
  {
   "cell_type": "code",
   "execution_count": null,
   "metadata": {},
   "outputs": [],
   "source": [
    "# Explore missing values\n",
    "missing_values = train_df.isnull().sum()\n",
    "missing_values = missing_values[missing_values > 0]\n",
    "\n",
    "if len(missing_values) > 0:\n",
    "    plt.figure(figsize=(10, 6))\n",
    "    missing_values.plot(kind='bar')\n",
    "    plt.title('Missing Values by Column')\n",
    "    plt.xlabel('Column')\n",
    "    plt.ylabel('Count')\n",
    "    plt.show()\n",
    "else:\n",
    "    print(\"No missing values found in the dataset.\")"
   ]
  },
  {
   "cell_type": "code",
   "execution_count": null,
   "metadata": {},
   "outputs": [],
   "source": [
    "# Explore subsystems\n",
    "subsystems = ['P1', 'P2', 'P3', 'P4']\n",
    "subsystem_counts = {}\n",
    "\n",
    "for subsystem in subsystems:\n",
    "    subsystem_cols = [col for col in feature_cols if col.startswith(f\"{subsystem}_\")]\n",
    "    subsystem_counts[subsystem] = len(subsystem_cols)\n",
    "\n",
    "plt.figure(figsize=(10, 6))\n",
    "plt.bar(subsystem_counts.keys(), subsystem_counts.values())\n",
    "plt.title('Number of Features by Subsystem')\n",
    "plt.xlabel('Subsystem')\n",
    "plt.ylabel('Number of Features')\n",
    "for i, (subsystem, count) in enumerate(subsystem_counts.items()):\n",
    "    plt.text(i, count + 1, str(count), ha='center')\n",
    "plt.show()"
   ]
  },
  {
   "cell_type": "code",
   "execution_count": null,
   "metadata": {},
   "outputs": [],
   "source": [
    "# Explore data distribution for a few features\n",
    "sample_features = feature_cols[:5]  # Take first 5 features\n",
    "\n",
    "plt.figure(figsize=(15, 10))\n",
    "for i, feature in enumerate(sample_features):\n",
    "    plt.subplot(2, 3, i+1)\n",
    "    sns.histplot(train_df[feature], kde=True)\n",
    "    plt.title(f'Distribution of {feature}')\n",
    "    plt.xlabel(feature)\n",
    "    plt.ylabel('Frequency')\n",
    "plt.tight_layout()\n",
    "plt.show()"
   ]
  },
  {
   "cell_type": "code",
   "execution_count": null,
   "metadata": {},
   "outputs": [],
   "source": [
    "# Explore time series patterns for a few features\n",
    "sample_features = feature_cols[:3]  # Take first 3 features\n",
    "sample_size = 1000  # Take a sample for visualization\n",
    "\n",
    "plt.figure(figsize=(15, 10))\n",
    "for i, feature in enumerate(sample_features):\n",
    "    plt.subplot(3, 1, i+1)\n",
    "    plt.plot(train_df[feature].iloc[:sample_size])\n",
    "    plt.title(f'Time Series Pattern of {feature}')\n",
    "    plt.xlabel('Time')\n",
    "    plt.ylabel(feature)\n",
    "plt.tight_layout()\n",
    "plt.show()"
   ]
  },
  {
   "cell_type": "code",
   "execution_count": null,
   "metadata": {},
   "outputs": [],
   "source": [
    "# Explore correlations between features\n",
    "sample_features = feature_cols[:10]  # Take first 10 features for correlation analysis\n",
    "correlation_matrix = train_df[sample_features].corr()\n",
    "\n",
    "plt.figure(figsize=(12, 10))\n",
    "sns.heatmap(correlation_matrix, annot=True, cmap='coolwarm', fmt='.2f', linewidths=0.5)\n",
    "plt.title('Correlation Matrix of Features')\n",
    "plt.tight_layout()\n",
    "plt.show()"
   ]
  },
  {
   "cell_type": "code",
   "execution_count": null,
   "metadata": {},
   "outputs": [],
   "source": [
    "# Explore test datasets\n",
    "print(\"Test datasets:\")\n",
    "for name, df in data_loader.test_data.items():\n",
    "    attack_count = df['attack'].sum()\n",
    "    attack_percentage = (attack_count / len(df)) * 100\n",
    "    print(f\"  {name}: {df.shape[0]} rows, {df.shape[1]} columns, {attack_count} attacks ({attack_percentage:.2f}%)\")"
   ]
  },
  {
   "cell_type": "code",
   "execution_count": null,
   "metadata": {},
   "outputs": [],
   "source": [
    "# Visualize attack distribution in test datasets\n",
    "plt.figure(figsize=(15, 10))\n",
    "for i, (name, df) in enumerate(data_loader.test_data.items()):\n",
    "    plt.subplot(len(data_loader.test_data), 1, i+1)\n",
    "    plt.plot(df['attack'])\n",
    "    plt.title(f'Attack Distribution in {name}')\n",
    "    plt.xlabel('Time')\n",
    "    plt.ylabel('Attack')\n",
    "    plt.yticks([0, 1])\n",
    "plt.tight_layout()\n",
    "plt.show()"
   ]
  },
  {
   "cell_type": "code",
   "execution_count": null,
   "metadata": {},
   "outputs": [],
   "source": [
    "# Save the merged training data for the next notebook\n",
    "train_df.to_csv(os.path.join(OUTPUT_DIR, 'merged_train.csv'), index=False)\n",
    "print(f\"Saved merged training data to {os.path.join(OUTPUT_DIR, 'merged_train.csv')}\")"
   ]
  }
 ],
 "metadata": {
  "kernelspec": {
   "display_name": "Python 3 (ipykernel)",
   "language": "python",
   "name": "python3"
  },
  "language_info": {
   "codemirror_mode": {
    "name": "ipython",
    "version": 3
   },
   "file_extension": ".py",
   "mimetype": "text/x-python",
   "name": "python",
   "nbconvert_exporter": "python",
   "pygments_lexer": "ipython3",
   "version": "3.11.11"
  }
 },
 "nbformat": 4,
 "nbformat_minor": 4
}
